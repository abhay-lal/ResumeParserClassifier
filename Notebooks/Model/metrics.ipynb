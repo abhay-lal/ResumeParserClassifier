{
  "nbformat": 4,
  "nbformat_minor": 0,
  "metadata": {
    "colab": {
      "name": "metrics.ipynb",
      "provenance": [],
      "collapsed_sections": []
    },
    "kernelspec": {
      "name": "python3",
      "display_name": "Python 3"
    },
    "language_info": {
      "name": "python"
    }
  },
  "cells": [
    {
      "cell_type": "code",
      "execution_count": 26,
      "metadata": {
        "id": "OEKZRneINpWP"
      },
      "outputs": [],
      "source": [
        "class metrics:\n",
        "    def __init__(self, y, y_pred):\n",
        "        self.y_true = y\n",
        "        self.y_pred = y_pred\n",
        "        print(self.Precision())\n",
        "        print(self.Accuracy())\n",
        "        print(self.Recall())\n",
        "        print(self.F1Measure)\n",
        "\n",
        "        \n",
        "    def Accuracy(self):\n",
        "            temp = 0\n",
        "            for i in range(self.y_true.shape[0]):\n",
        "                temp += sum(np.logical_and(self.y_true[i], self.y_pred[i])) / sum(np.logical_or(self.y_true[i], self.y_pred[i]))\n",
        "            return temp /self.y_true.shape[0]\n",
        "    def Precision(self):\n",
        "        temp = 0\n",
        "        for i in range(self.y_true.shape[0]):\n",
        "            if sum(self.y_true[i]) == 0:\n",
        "                continue\n",
        "            temp+= sum(np.logical_and(self.y_true[i], self.y_pred[i]))/ sum(self.y_true[i])\n",
        "            return temp/self.y_true.shape[0]\n",
        "    def Recall(self):\n",
        "      temp = 0\n",
        "      for i in range(self.y_true.shape[0]):\n",
        "        if sum(self.y_pred[i]) == 0:\n",
        "          continue\n",
        "          temp+= sum(np.logical_and(self.y_true[i], self.y_pred[i]))/ sum(self.y_pred[i])\n",
        "          return temp/self.y_true.shape[0]\n",
        "\n",
        "    def F1Measure(self):\n",
        "        temp = 0\n",
        "        for i in range(self.y_true.shape[0]):\n",
        "            if (sum(self.y_true[i]) == 0) and (sum(y_pred[i]) == 0):\n",
        "                continue\n",
        "            temp+= (2*sum(np.logical_and(self.y_true[i], self.y_pred[i])))/ (sum(self.y_true[i])+sum(self.y_pred[i]))\n",
        "        return temp/self.y_true.shape[0]\n",
        "    \n",
        "\n",
        "\n",
        "    \n",
        "    \n",
        "        \n",
        "        \n",
        "        \n",
        "        \n",
        "\n",
        "\n",
        "\n",
        "\n",
        "\n",
        "        \n",
        "        \n"
      ]
    },
    {
      "cell_type": "code",
      "source": [
        ""
      ],
      "metadata": {
        "id": "oGIY0HH-Opq2"
      },
      "execution_count": null,
      "outputs": []
    }
  ]
}