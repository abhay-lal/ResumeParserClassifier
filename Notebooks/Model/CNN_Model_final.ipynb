{
  "cells": [
    {
      "cell_type": "code",
      "source": [
        "!nvidia-smi"
      ],
      "metadata": {
        "colab": {
          "base_uri": "https://localhost:8080/"
        },
        "id": "xi79roxwCKtm",
        "outputId": "d36e93cd-1dfa-4351-fe4a-ac7d4ca1f7f2"
      },
      "id": "xi79roxwCKtm",
      "execution_count": 1,
      "outputs": [
        {
          "output_type": "stream",
          "name": "stdout",
          "text": [
            "NVIDIA-SMI has failed because it couldn't communicate with the NVIDIA driver. Make sure that the latest NVIDIA driver is installed and running.\n",
            "\n"
          ]
        }
      ]
    },
    {
      "cell_type": "code",
      "source": [
        "!unzip finale.zip"
      ],
      "metadata": {
        "colab": {
          "base_uri": "https://localhost:8080/"
        },
        "id": "JH5vKcRVCKkr",
        "outputId": "b707a1dc-4fa5-4f28-8427-9c960535e95c"
      },
      "id": "JH5vKcRVCKkr",
      "execution_count": 2,
      "outputs": [
        {
          "output_type": "stream",
          "name": "stdout",
          "text": [
            "unzip:  cannot find or open finale.zip, finale.zip.zip or finale.zip.ZIP.\n"
          ]
        }
      ]
    },
    {
      "cell_type": "code",
      "execution_count": 3,
      "id": "fe2786de",
      "metadata": {
        "id": "fe2786de"
      },
      "outputs": [],
      "source": [
        "import pandas as pd\n",
        "df = pd.read_csv(\"finale.csv\", index_col=0)"
      ]
    },
    {
      "cell_type": "code",
      "source": [
        "from tensorflow.keras.preprocessing.text import Tokenizer\n",
        "from tensorflow.keras.preprocessing.sequence import pad_sequences"
      ],
      "metadata": {
        "id": "AGRAyyCVR-D6"
      },
      "id": "AGRAyyCVR-D6",
      "execution_count": 4,
      "outputs": []
    },
    {
      "cell_type": "code",
      "source": [
        "df.columns"
      ],
      "metadata": {
        "colab": {
          "base_uri": "https://localhost:8080/"
        },
        "id": "RcGhpxL-FLzW",
        "outputId": "e77fe2e8-e480-428f-b77a-dc6eb30aeadd"
      },
      "id": "RcGhpxL-FLzW",
      "execution_count": 5,
      "outputs": [
        {
          "output_type": "execute_result",
          "data": {
            "text/plain": [
              "Index(['Software_Developer', 'Database_Administrator', 'Systems_Administrator',\n",
              "       'Project_manager', 'Web_Developer', 'Network_Administrator',\n",
              "       'Security_Analyst', 'Python_Developer', 'Java_Developer',\n",
              "       'Front_End_Developer', 'Ents', 'new'],\n",
              "      dtype='object')"
            ]
          },
          "metadata": {},
          "execution_count": 5
        }
      ]
    },
    {
      "cell_type": "code",
      "execution_count": 6,
      "id": "6f772c36",
      "metadata": {
        "id": "6f772c36"
      },
      "outputs": [],
      "source": [
        "classes = ['Software_Developer', 'Database_Administrator',\n",
        "           'Systems_Administrator', 'Project_manager',\n",
        "           'Web_Developer', 'Network_Administrator',\n",
        "           'Security_Analyst', 'Python_Developer',\n",
        "           'Java_Developer', 'Front_End_Developer']"
      ]
    },
    {
      "cell_type": "code",
      "execution_count": 7,
      "id": "939e5498",
      "metadata": {
        "colab": {
          "base_uri": "https://localhost:8080/"
        },
        "id": "939e5498",
        "outputId": "309c24a4-2230-4a6d-b6dc-83206f4956bb"
      },
      "outputs": [
        {
          "output_type": "stream",
          "name": "stdout",
          "text": [
            "<class 'pandas.core.frame.DataFrame'>\n",
            "Int64Index: 29783 entries, 0 to 29782\n",
            "Data columns (total 12 columns):\n",
            " #   Column                  Non-Null Count  Dtype \n",
            "---  ------                  --------------  ----- \n",
            " 0   Software_Developer      29783 non-null  int64 \n",
            " 1   Database_Administrator  29783 non-null  int64 \n",
            " 2   Systems_Administrator   29783 non-null  int64 \n",
            " 3   Project_manager         29783 non-null  int64 \n",
            " 4   Web_Developer           29783 non-null  int64 \n",
            " 5   Network_Administrator   29783 non-null  int64 \n",
            " 6   Security_Analyst        29783 non-null  int64 \n",
            " 7   Python_Developer        29783 non-null  int64 \n",
            " 8   Java_Developer          29783 non-null  int64 \n",
            " 9   Front_End_Developer     29783 non-null  int64 \n",
            " 10  Ents                    29783 non-null  object\n",
            " 11  new                     29721 non-null  object\n",
            "dtypes: int64(10), object(2)\n",
            "memory usage: 3.0+ MB\n"
          ]
        }
      ],
      "source": [
        "df.info()"
      ]
    },
    {
      "cell_type": "code",
      "source": [
        "df.shape"
      ],
      "metadata": {
        "colab": {
          "base_uri": "https://localhost:8080/"
        },
        "id": "i1nPm9fbMjJu",
        "outputId": "2b2bc67d-c36f-4c5b-d5bc-62524f13b400"
      },
      "id": "i1nPm9fbMjJu",
      "execution_count": 8,
      "outputs": [
        {
          "output_type": "execute_result",
          "data": {
            "text/plain": [
              "(29783, 12)"
            ]
          },
          "metadata": {},
          "execution_count": 8
        }
      ]
    },
    {
      "cell_type": "code",
      "source": [
        "df['new']"
      ],
      "metadata": {
        "colab": {
          "base_uri": "https://localhost:8080/"
        },
        "id": "_zKD51jfJHq4",
        "outputId": "d9a2dc56-4ae9-4d6a-e0dd-c2e6a7a7ee1a"
      },
      "id": "_zKD51jfJHq4",
      "execution_count": 9,
      "outputs": [
        {
          "output_type": "execute_result",
          "data": {
            "text/plain": [
              "0        sql ssis oltp backing generating log shipping ...\n",
              "1        microsoft xp microsoft assembly language micro...\n",
              "2        carrier objective experienced creating users r...\n",
              "3        amazon redshift administrator redshift adminis...\n",
              "4        scrum masterscrum master scrum master scrum ma...\n",
              "                               ...                        \n",
              "29778    servicenow developerservicenow developerservic...\n",
              "29779    developerandroid developerjoomla cms samsung w...\n",
              "29780    ui web developervisual web applications develo...\n",
              "29781                                                  php\n",
              "29782    sr software web developerweb developerweb deve...\n",
              "Name: new, Length: 29783, dtype: object"
            ]
          },
          "metadata": {},
          "execution_count": 9
        }
      ]
    },
    {
      "cell_type": "code",
      "source": [
        "type(df['new'])"
      ],
      "metadata": {
        "colab": {
          "base_uri": "https://localhost:8080/"
        },
        "id": "KORQKjvdHFtG",
        "outputId": "8b78d9cf-62ec-4b17-e02f-c54c5b6a5647"
      },
      "id": "KORQKjvdHFtG",
      "execution_count": 10,
      "outputs": [
        {
          "output_type": "execute_result",
          "data": {
            "text/plain": [
              "pandas.core.series.Series"
            ]
          },
          "metadata": {},
          "execution_count": 10
        }
      ]
    },
    {
      "cell_type": "code",
      "source": [
        "for i in range(0,29783):\n",
        "  if type(df['new'][i]) ==\"float\":\n",
        "    print(\"found\")"
      ],
      "metadata": {
        "id": "agC8SLjAPKpO"
      },
      "id": "agC8SLjAPKpO",
      "execution_count": 11,
      "outputs": []
    },
    {
      "cell_type": "code",
      "source": [
        "tokenizer = Tokenizer(num_words=1000, lower=True)\n",
        "tokenizer.fit_on_texts(str(i) for i in df['new'])"
      ],
      "metadata": {
        "id": "kEsYE4ZBFZ7p"
      },
      "id": "kEsYE4ZBFZ7p",
      "execution_count": 12,
      "outputs": []
    },
    {
      "cell_type": "code",
      "source": [
        "tokenizer"
      ],
      "metadata": {
        "colab": {
          "base_uri": "https://localhost:8080/"
        },
        "id": "8srUp99TREf_",
        "outputId": "4e56622e-5b30-431a-98dd-2df023f18718"
      },
      "id": "8srUp99TREf_",
      "execution_count": 13,
      "outputs": [
        {
          "output_type": "execute_result",
          "data": {
            "text/plain": [
              "<keras_preprocessing.text.Tokenizer at 0x7f7b9adc42d0>"
            ]
          },
          "metadata": {},
          "execution_count": 13
        }
      ]
    },
    {
      "cell_type": "code",
      "source": [
        "sequences = tokenizer.texts_to_sequences(str(i) for i in df['new'])\n",
        "x = pad_sequences(sequences, maxlen=256)"
      ],
      "metadata": {
        "id": "1urwGBzoRCpv"
      },
      "id": "1urwGBzoRCpv",
      "execution_count": 14,
      "outputs": []
    },
    {
      "cell_type": "code",
      "source": [
        ""
      ],
      "metadata": {
        "id": "fs3W7bmHRCxk"
      },
      "id": "fs3W7bmHRCxk",
      "execution_count": 14,
      "outputs": []
    },
    {
      "cell_type": "code",
      "execution_count": 15,
      "id": "5dce1925",
      "metadata": {
        "colab": {
          "base_uri": "https://localhost:8080/"
        },
        "id": "5dce1925",
        "outputId": "b96177fa-7179-4106-c17c-201923319478"
      },
      "outputs": [
        {
          "output_type": "execute_result",
          "data": {
            "text/plain": [
              "array([[ 41, 391, 153, ...,   4, 716, 891],\n",
              "       [  0,   0,   0, ...,  32, 134,  30],\n",
              "       [  0,   0,   0, ...,   4, 141, 432],\n",
              "       ...,\n",
              "       [  7, 162,   5, ...,   5,  39, 507],\n",
              "       [  0,   0,   0, ...,   0,   0,  76],\n",
              "       [  0,   0,   0, ...,  91,  19,   7]], dtype=int32)"
            ]
          },
          "metadata": {},
          "execution_count": 15
        }
      ],
      "source": [
        "x"
      ]
    },
    {
      "cell_type": "code",
      "source": [
        "x.shape"
      ],
      "metadata": {
        "colab": {
          "base_uri": "https://localhost:8080/"
        },
        "id": "97RLsgx4RN4V",
        "outputId": "5b592ec8-7727-4ce9-b363-60c2afac8d61"
      },
      "id": "97RLsgx4RN4V",
      "execution_count": 16,
      "outputs": [
        {
          "output_type": "execute_result",
          "data": {
            "text/plain": [
              "(29783, 256)"
            ]
          },
          "metadata": {},
          "execution_count": 16
        }
      ]
    },
    {
      "cell_type": "code",
      "source": [
        "a=x[0]"
      ],
      "metadata": {
        "id": "pm7QOcnvRPvu"
      },
      "id": "pm7QOcnvRPvu",
      "execution_count": 17,
      "outputs": []
    },
    {
      "cell_type": "code",
      "source": [
        "a"
      ],
      "metadata": {
        "colab": {
          "base_uri": "https://localhost:8080/"
        },
        "id": "88BqC1reRQRe",
        "outputId": "ea4cb6be-f102-4d57-9b03-eef0558a6c00"
      },
      "id": "88BqC1reRQRe",
      "execution_count": 18,
      "outputs": [
        {
          "output_type": "execute_result",
          "data": {
            "text/plain": [
              "array([ 41, 391, 153,  41, 502, 206,  77,  88, 236, 121,  30,  51,  77,\n",
              "        88, 236, 121,  30, 206, 698, 157,   4,  16,  32,   4,  16,   4,\n",
              "        16,   4,  16, 988, 126, 550, 192, 189, 364, 112, 151,  41,  41,\n",
              "        97, 433,  79, 151, 221, 513,  16,  16,  32,   4,  16,   4,  16,\n",
              "         4,  16, 988, 126, 550, 192, 189, 364, 112, 151,  41,  41,  97,\n",
              "       433,  79, 151, 221, 513,  16,   4,  16,  32, 371, 816, 463, 834,\n",
              "        41, 391, 153,  41, 199, 502, 206,  51,  77,  88, 236, 121,  30,\n",
              "       206, 698, 157,   4,  16,  32,   4,  16,   4,  16,   4,  16, 988,\n",
              "       126, 550, 192, 189, 364, 112, 151,  41,  41,  97, 433,  79, 151,\n",
              "       221, 513,  16,   4,  16,  32,  16,   4, 633, 216, 463, 184,  44,\n",
              "       328,   4, 371, 816, 463, 834,  41, 391, 153,  41, 199, 502, 206,\n",
              "        51,  77,  88, 236, 121,  30, 206, 698, 157,   4,  16,  32,   4,\n",
              "        16,   4,  16,   4,  16, 988, 126, 550, 192, 189, 364, 112, 151,\n",
              "        41,  41,  97, 433,  79, 151, 221, 513,  16,   4,  16,  32,  16,\n",
              "         4, 633, 216, 463, 184,  44, 328,   4,   4,   4,   4, 371, 816,\n",
              "       463, 834,  41, 391, 153,  41, 199, 502, 206,  51,  77,  88, 236,\n",
              "       121,  30, 206, 698, 157,   4,  16,  32,   4,  16,   4,  16,   4,\n",
              "        16, 988, 126, 550, 192, 189, 364, 112, 151,  41,  41,  97, 433,\n",
              "        79, 151, 221, 513,  16,   4,  16,  32,  16,   4, 633, 216, 463,\n",
              "       184,  44, 328,   4,   4,   4,   4, 716, 891], dtype=int32)"
            ]
          },
          "metadata": {},
          "execution_count": 18
        }
      ]
    },
    {
      "cell_type": "code",
      "execution_count": 19,
      "id": "37039bbe",
      "metadata": {
        "colab": {
          "base_uri": "https://localhost:8080/",
          "height": 835
        },
        "id": "37039bbe",
        "outputId": "bc50e9e3-0863-41aa-88e7-39fe17e60ec3"
      },
      "outputs": [
        {
          "output_type": "execute_result",
          "data": {
            "text/plain": [
              "       Software_Developer  Database_Administrator  Systems_Administrator  \\\n",
              "0                       0                       1                      0   \n",
              "1                       0                       1                      0   \n",
              "2                       0                       1                      0   \n",
              "3                       0                       1                      0   \n",
              "4                       0                       1                      0   \n",
              "...                   ...                     ...                    ...   \n",
              "29778                   1                       0                      0   \n",
              "29779                   1                       0                      0   \n",
              "29780                   1                       0                      0   \n",
              "29781                   1                       0                      0   \n",
              "29782                   1                       0                      0   \n",
              "\n",
              "       Project_manager  Web_Developer  Network_Administrator  \\\n",
              "0                    0              0                      0   \n",
              "1                    0              0                      0   \n",
              "2                    0              0                      0   \n",
              "3                    0              0                      0   \n",
              "4                    0              0                      0   \n",
              "...                ...            ...                    ...   \n",
              "29778                0              1                      0   \n",
              "29779                0              1                      0   \n",
              "29780                0              1                      0   \n",
              "29781                0              1                      0   \n",
              "29782                0              1                      0   \n",
              "\n",
              "       Security_Analyst  Python_Developer  Java_Developer  \\\n",
              "0                     0                 0               0   \n",
              "1                     0                 0               0   \n",
              "2                     0                 0               0   \n",
              "3                     0                 0               0   \n",
              "4                     0                 0               0   \n",
              "...                 ...               ...             ...   \n",
              "29778                 0                 0               1   \n",
              "29779                 0                 0               0   \n",
              "29780                 0                 0               0   \n",
              "29781                 0                 0               0   \n",
              "29782                 0                 0               0   \n",
              "\n",
              "       Front_End_Developer                                               Ents  \\\n",
              "0                        0  [SQL, SSIS, OLTP, Backing, Generating, Log Shi...   \n",
              "1                        0  [Microsoft, XP Microsoft, Assembly Language Mi...   \n",
              "2                        0  [Carrier Objective, Experienced Creating Users...   \n",
              "3                        0  [Amazon Redshift Administrator, yearsPostgresS...   \n",
              "4                        0  [Scrum Master, Scrum Master, October  April  R...   \n",
              "...                    ...                                                ...   \n",
              "29778                    0  [ServiceNow DeveloperServiceNow DeveloperServi...   \n",
              "29779                    0  [DeveloperAndroid, DeveloperJoomla CMS, Samsun...   \n",
              "29780                    1  [UI, WEB, DeveloperVisual, Web Applications De...   \n",
              "29781                    0                           [September  July  , PHP]   \n",
              "29782                    0  [Sr Software, Web DeveloperWeb DeveloperWeb De...   \n",
              "\n",
              "                                                     new  \n",
              "0      sql ssis oltp backing generating log shipping ...  \n",
              "1      microsoft xp microsoft assembly language micro...  \n",
              "2      carrier objective experienced creating users r...  \n",
              "3      amazon redshift administrator redshift adminis...  \n",
              "4      scrum masterscrum master scrum master scrum ma...  \n",
              "...                                                  ...  \n",
              "29778  servicenow developerservicenow developerservic...  \n",
              "29779  developerandroid developerjoomla cms samsung w...  \n",
              "29780  ui web developervisual web applications develo...  \n",
              "29781                                                php  \n",
              "29782  sr software web developerweb developerweb deve...  \n",
              "\n",
              "[29783 rows x 12 columns]"
            ],
            "text/html": [
              "\n",
              "  <div id=\"df-fec3e343-0837-4764-987b-1612efece802\">\n",
              "    <div class=\"colab-df-container\">\n",
              "      <div>\n",
              "<style scoped>\n",
              "    .dataframe tbody tr th:only-of-type {\n",
              "        vertical-align: middle;\n",
              "    }\n",
              "\n",
              "    .dataframe tbody tr th {\n",
              "        vertical-align: top;\n",
              "    }\n",
              "\n",
              "    .dataframe thead th {\n",
              "        text-align: right;\n",
              "    }\n",
              "</style>\n",
              "<table border=\"1\" class=\"dataframe\">\n",
              "  <thead>\n",
              "    <tr style=\"text-align: right;\">\n",
              "      <th></th>\n",
              "      <th>Software_Developer</th>\n",
              "      <th>Database_Administrator</th>\n",
              "      <th>Systems_Administrator</th>\n",
              "      <th>Project_manager</th>\n",
              "      <th>Web_Developer</th>\n",
              "      <th>Network_Administrator</th>\n",
              "      <th>Security_Analyst</th>\n",
              "      <th>Python_Developer</th>\n",
              "      <th>Java_Developer</th>\n",
              "      <th>Front_End_Developer</th>\n",
              "      <th>Ents</th>\n",
              "      <th>new</th>\n",
              "    </tr>\n",
              "  </thead>\n",
              "  <tbody>\n",
              "    <tr>\n",
              "      <th>0</th>\n",
              "      <td>0</td>\n",
              "      <td>1</td>\n",
              "      <td>0</td>\n",
              "      <td>0</td>\n",
              "      <td>0</td>\n",
              "      <td>0</td>\n",
              "      <td>0</td>\n",
              "      <td>0</td>\n",
              "      <td>0</td>\n",
              "      <td>0</td>\n",
              "      <td>[SQL, SSIS, OLTP, Backing, Generating, Log Shi...</td>\n",
              "      <td>sql ssis oltp backing generating log shipping ...</td>\n",
              "    </tr>\n",
              "    <tr>\n",
              "      <th>1</th>\n",
              "      <td>0</td>\n",
              "      <td>1</td>\n",
              "      <td>0</td>\n",
              "      <td>0</td>\n",
              "      <td>0</td>\n",
              "      <td>0</td>\n",
              "      <td>0</td>\n",
              "      <td>0</td>\n",
              "      <td>0</td>\n",
              "      <td>0</td>\n",
              "      <td>[Microsoft, XP Microsoft, Assembly Language Mi...</td>\n",
              "      <td>microsoft xp microsoft assembly language micro...</td>\n",
              "    </tr>\n",
              "    <tr>\n",
              "      <th>2</th>\n",
              "      <td>0</td>\n",
              "      <td>1</td>\n",
              "      <td>0</td>\n",
              "      <td>0</td>\n",
              "      <td>0</td>\n",
              "      <td>0</td>\n",
              "      <td>0</td>\n",
              "      <td>0</td>\n",
              "      <td>0</td>\n",
              "      <td>0</td>\n",
              "      <td>[Carrier Objective, Experienced Creating Users...</td>\n",
              "      <td>carrier objective experienced creating users r...</td>\n",
              "    </tr>\n",
              "    <tr>\n",
              "      <th>3</th>\n",
              "      <td>0</td>\n",
              "      <td>1</td>\n",
              "      <td>0</td>\n",
              "      <td>0</td>\n",
              "      <td>0</td>\n",
              "      <td>0</td>\n",
              "      <td>0</td>\n",
              "      <td>0</td>\n",
              "      <td>0</td>\n",
              "      <td>0</td>\n",
              "      <td>[Amazon Redshift Administrator, yearsPostgresS...</td>\n",
              "      <td>amazon redshift administrator redshift adminis...</td>\n",
              "    </tr>\n",
              "    <tr>\n",
              "      <th>4</th>\n",
              "      <td>0</td>\n",
              "      <td>1</td>\n",
              "      <td>0</td>\n",
              "      <td>0</td>\n",
              "      <td>0</td>\n",
              "      <td>0</td>\n",
              "      <td>0</td>\n",
              "      <td>0</td>\n",
              "      <td>0</td>\n",
              "      <td>0</td>\n",
              "      <td>[Scrum Master, Scrum Master, October  April  R...</td>\n",
              "      <td>scrum masterscrum master scrum master scrum ma...</td>\n",
              "    </tr>\n",
              "    <tr>\n",
              "      <th>...</th>\n",
              "      <td>...</td>\n",
              "      <td>...</td>\n",
              "      <td>...</td>\n",
              "      <td>...</td>\n",
              "      <td>...</td>\n",
              "      <td>...</td>\n",
              "      <td>...</td>\n",
              "      <td>...</td>\n",
              "      <td>...</td>\n",
              "      <td>...</td>\n",
              "      <td>...</td>\n",
              "      <td>...</td>\n",
              "    </tr>\n",
              "    <tr>\n",
              "      <th>29778</th>\n",
              "      <td>1</td>\n",
              "      <td>0</td>\n",
              "      <td>0</td>\n",
              "      <td>0</td>\n",
              "      <td>1</td>\n",
              "      <td>0</td>\n",
              "      <td>0</td>\n",
              "      <td>0</td>\n",
              "      <td>1</td>\n",
              "      <td>0</td>\n",
              "      <td>[ServiceNow DeveloperServiceNow DeveloperServi...</td>\n",
              "      <td>servicenow developerservicenow developerservic...</td>\n",
              "    </tr>\n",
              "    <tr>\n",
              "      <th>29779</th>\n",
              "      <td>1</td>\n",
              "      <td>0</td>\n",
              "      <td>0</td>\n",
              "      <td>0</td>\n",
              "      <td>1</td>\n",
              "      <td>0</td>\n",
              "      <td>0</td>\n",
              "      <td>0</td>\n",
              "      <td>0</td>\n",
              "      <td>0</td>\n",
              "      <td>[DeveloperAndroid, DeveloperJoomla CMS, Samsun...</td>\n",
              "      <td>developerandroid developerjoomla cms samsung w...</td>\n",
              "    </tr>\n",
              "    <tr>\n",
              "      <th>29780</th>\n",
              "      <td>1</td>\n",
              "      <td>0</td>\n",
              "      <td>0</td>\n",
              "      <td>0</td>\n",
              "      <td>1</td>\n",
              "      <td>0</td>\n",
              "      <td>0</td>\n",
              "      <td>0</td>\n",
              "      <td>0</td>\n",
              "      <td>1</td>\n",
              "      <td>[UI, WEB, DeveloperVisual, Web Applications De...</td>\n",
              "      <td>ui web developervisual web applications develo...</td>\n",
              "    </tr>\n",
              "    <tr>\n",
              "      <th>29781</th>\n",
              "      <td>1</td>\n",
              "      <td>0</td>\n",
              "      <td>0</td>\n",
              "      <td>0</td>\n",
              "      <td>1</td>\n",
              "      <td>0</td>\n",
              "      <td>0</td>\n",
              "      <td>0</td>\n",
              "      <td>0</td>\n",
              "      <td>0</td>\n",
              "      <td>[September  July  , PHP]</td>\n",
              "      <td>php</td>\n",
              "    </tr>\n",
              "    <tr>\n",
              "      <th>29782</th>\n",
              "      <td>1</td>\n",
              "      <td>0</td>\n",
              "      <td>0</td>\n",
              "      <td>0</td>\n",
              "      <td>1</td>\n",
              "      <td>0</td>\n",
              "      <td>0</td>\n",
              "      <td>0</td>\n",
              "      <td>0</td>\n",
              "      <td>0</td>\n",
              "      <td>[Sr Software, Web DeveloperWeb DeveloperWeb De...</td>\n",
              "      <td>sr software web developerweb developerweb deve...</td>\n",
              "    </tr>\n",
              "  </tbody>\n",
              "</table>\n",
              "<p>29783 rows × 12 columns</p>\n",
              "</div>\n",
              "      <button class=\"colab-df-convert\" onclick=\"convertToInteractive('df-fec3e343-0837-4764-987b-1612efece802')\"\n",
              "              title=\"Convert this dataframe to an interactive table.\"\n",
              "              style=\"display:none;\">\n",
              "        \n",
              "  <svg xmlns=\"http://www.w3.org/2000/svg\" height=\"24px\"viewBox=\"0 0 24 24\"\n",
              "       width=\"24px\">\n",
              "    <path d=\"M0 0h24v24H0V0z\" fill=\"none\"/>\n",
              "    <path d=\"M18.56 5.44l.94 2.06.94-2.06 2.06-.94-2.06-.94-.94-2.06-.94 2.06-2.06.94zm-11 1L8.5 8.5l.94-2.06 2.06-.94-2.06-.94L8.5 2.5l-.94 2.06-2.06.94zm10 10l.94 2.06.94-2.06 2.06-.94-2.06-.94-.94-2.06-.94 2.06-2.06.94z\"/><path d=\"M17.41 7.96l-1.37-1.37c-.4-.4-.92-.59-1.43-.59-.52 0-1.04.2-1.43.59L10.3 9.45l-7.72 7.72c-.78.78-.78 2.05 0 2.83L4 21.41c.39.39.9.59 1.41.59.51 0 1.02-.2 1.41-.59l7.78-7.78 2.81-2.81c.8-.78.8-2.07 0-2.86zM5.41 20L4 18.59l7.72-7.72 1.47 1.35L5.41 20z\"/>\n",
              "  </svg>\n",
              "      </button>\n",
              "      \n",
              "  <style>\n",
              "    .colab-df-container {\n",
              "      display:flex;\n",
              "      flex-wrap:wrap;\n",
              "      gap: 12px;\n",
              "    }\n",
              "\n",
              "    .colab-df-convert {\n",
              "      background-color: #E8F0FE;\n",
              "      border: none;\n",
              "      border-radius: 50%;\n",
              "      cursor: pointer;\n",
              "      display: none;\n",
              "      fill: #1967D2;\n",
              "      height: 32px;\n",
              "      padding: 0 0 0 0;\n",
              "      width: 32px;\n",
              "    }\n",
              "\n",
              "    .colab-df-convert:hover {\n",
              "      background-color: #E2EBFA;\n",
              "      box-shadow: 0px 1px 2px rgba(60, 64, 67, 0.3), 0px 1px 3px 1px rgba(60, 64, 67, 0.15);\n",
              "      fill: #174EA6;\n",
              "    }\n",
              "\n",
              "    [theme=dark] .colab-df-convert {\n",
              "      background-color: #3B4455;\n",
              "      fill: #D2E3FC;\n",
              "    }\n",
              "\n",
              "    [theme=dark] .colab-df-convert:hover {\n",
              "      background-color: #434B5C;\n",
              "      box-shadow: 0px 1px 3px 1px rgba(0, 0, 0, 0.15);\n",
              "      filter: drop-shadow(0px 1px 2px rgba(0, 0, 0, 0.3));\n",
              "      fill: #FFFFFF;\n",
              "    }\n",
              "  </style>\n",
              "\n",
              "      <script>\n",
              "        const buttonEl =\n",
              "          document.querySelector('#df-fec3e343-0837-4764-987b-1612efece802 button.colab-df-convert');\n",
              "        buttonEl.style.display =\n",
              "          google.colab.kernel.accessAllowed ? 'block' : 'none';\n",
              "\n",
              "        async function convertToInteractive(key) {\n",
              "          const element = document.querySelector('#df-fec3e343-0837-4764-987b-1612efece802');\n",
              "          const dataTable =\n",
              "            await google.colab.kernel.invokeFunction('convertToInteractive',\n",
              "                                                     [key], {});\n",
              "          if (!dataTable) return;\n",
              "\n",
              "          const docLinkHtml = 'Like what you see? Visit the ' +\n",
              "            '<a target=\"_blank\" href=https://colab.research.google.com/notebooks/data_table.ipynb>data table notebook</a>'\n",
              "            + ' to learn more about interactive tables.';\n",
              "          element.innerHTML = '';\n",
              "          dataTable['output_type'] = 'display_data';\n",
              "          await google.colab.output.renderOutput(dataTable, element);\n",
              "          const docLink = document.createElement('div');\n",
              "          docLink.innerHTML = docLinkHtml;\n",
              "          element.appendChild(docLink);\n",
              "        }\n",
              "      </script>\n",
              "    </div>\n",
              "  </div>\n",
              "  "
            ]
          },
          "metadata": {},
          "execution_count": 19
        }
      ],
      "source": [
        "df"
      ]
    },
    {
      "cell_type": "code",
      "execution_count": 20,
      "id": "156dfef5",
      "metadata": {
        "colab": {
          "base_uri": "https://localhost:8080/",
          "height": 488
        },
        "id": "156dfef5",
        "outputId": "a2b18703-f0c0-4a27-ffc0-c8ba727f69b4"
      },
      "outputs": [
        {
          "output_type": "execute_result",
          "data": {
            "text/plain": [
              "       Software_Developer  Database_Administrator  Systems_Administrator  \\\n",
              "0                       0                       1                      0   \n",
              "1                       0                       1                      0   \n",
              "2                       0                       1                      0   \n",
              "3                       0                       1                      0   \n",
              "4                       0                       1                      0   \n",
              "...                   ...                     ...                    ...   \n",
              "29778                   1                       0                      0   \n",
              "29779                   1                       0                      0   \n",
              "29780                   1                       0                      0   \n",
              "29781                   1                       0                      0   \n",
              "29782                   1                       0                      0   \n",
              "\n",
              "       Project_manager  Web_Developer  Network_Administrator  \\\n",
              "0                    0              0                      0   \n",
              "1                    0              0                      0   \n",
              "2                    0              0                      0   \n",
              "3                    0              0                      0   \n",
              "4                    0              0                      0   \n",
              "...                ...            ...                    ...   \n",
              "29778                0              1                      0   \n",
              "29779                0              1                      0   \n",
              "29780                0              1                      0   \n",
              "29781                0              1                      0   \n",
              "29782                0              1                      0   \n",
              "\n",
              "       Security_Analyst  Python_Developer  Java_Developer  Front_End_Developer  \n",
              "0                     0                 0               0                    0  \n",
              "1                     0                 0               0                    0  \n",
              "2                     0                 0               0                    0  \n",
              "3                     0                 0               0                    0  \n",
              "4                     0                 0               0                    0  \n",
              "...                 ...               ...             ...                  ...  \n",
              "29778                 0                 0               1                    0  \n",
              "29779                 0                 0               0                    0  \n",
              "29780                 0                 0               0                    1  \n",
              "29781                 0                 0               0                    0  \n",
              "29782                 0                 0               0                    0  \n",
              "\n",
              "[29783 rows x 10 columns]"
            ],
            "text/html": [
              "\n",
              "  <div id=\"df-e18eca55-108c-4573-aa9d-97a1f888e77d\">\n",
              "    <div class=\"colab-df-container\">\n",
              "      <div>\n",
              "<style scoped>\n",
              "    .dataframe tbody tr th:only-of-type {\n",
              "        vertical-align: middle;\n",
              "    }\n",
              "\n",
              "    .dataframe tbody tr th {\n",
              "        vertical-align: top;\n",
              "    }\n",
              "\n",
              "    .dataframe thead th {\n",
              "        text-align: right;\n",
              "    }\n",
              "</style>\n",
              "<table border=\"1\" class=\"dataframe\">\n",
              "  <thead>\n",
              "    <tr style=\"text-align: right;\">\n",
              "      <th></th>\n",
              "      <th>Software_Developer</th>\n",
              "      <th>Database_Administrator</th>\n",
              "      <th>Systems_Administrator</th>\n",
              "      <th>Project_manager</th>\n",
              "      <th>Web_Developer</th>\n",
              "      <th>Network_Administrator</th>\n",
              "      <th>Security_Analyst</th>\n",
              "      <th>Python_Developer</th>\n",
              "      <th>Java_Developer</th>\n",
              "      <th>Front_End_Developer</th>\n",
              "    </tr>\n",
              "  </thead>\n",
              "  <tbody>\n",
              "    <tr>\n",
              "      <th>0</th>\n",
              "      <td>0</td>\n",
              "      <td>1</td>\n",
              "      <td>0</td>\n",
              "      <td>0</td>\n",
              "      <td>0</td>\n",
              "      <td>0</td>\n",
              "      <td>0</td>\n",
              "      <td>0</td>\n",
              "      <td>0</td>\n",
              "      <td>0</td>\n",
              "    </tr>\n",
              "    <tr>\n",
              "      <th>1</th>\n",
              "      <td>0</td>\n",
              "      <td>1</td>\n",
              "      <td>0</td>\n",
              "      <td>0</td>\n",
              "      <td>0</td>\n",
              "      <td>0</td>\n",
              "      <td>0</td>\n",
              "      <td>0</td>\n",
              "      <td>0</td>\n",
              "      <td>0</td>\n",
              "    </tr>\n",
              "    <tr>\n",
              "      <th>2</th>\n",
              "      <td>0</td>\n",
              "      <td>1</td>\n",
              "      <td>0</td>\n",
              "      <td>0</td>\n",
              "      <td>0</td>\n",
              "      <td>0</td>\n",
              "      <td>0</td>\n",
              "      <td>0</td>\n",
              "      <td>0</td>\n",
              "      <td>0</td>\n",
              "    </tr>\n",
              "    <tr>\n",
              "      <th>3</th>\n",
              "      <td>0</td>\n",
              "      <td>1</td>\n",
              "      <td>0</td>\n",
              "      <td>0</td>\n",
              "      <td>0</td>\n",
              "      <td>0</td>\n",
              "      <td>0</td>\n",
              "      <td>0</td>\n",
              "      <td>0</td>\n",
              "      <td>0</td>\n",
              "    </tr>\n",
              "    <tr>\n",
              "      <th>4</th>\n",
              "      <td>0</td>\n",
              "      <td>1</td>\n",
              "      <td>0</td>\n",
              "      <td>0</td>\n",
              "      <td>0</td>\n",
              "      <td>0</td>\n",
              "      <td>0</td>\n",
              "      <td>0</td>\n",
              "      <td>0</td>\n",
              "      <td>0</td>\n",
              "    </tr>\n",
              "    <tr>\n",
              "      <th>...</th>\n",
              "      <td>...</td>\n",
              "      <td>...</td>\n",
              "      <td>...</td>\n",
              "      <td>...</td>\n",
              "      <td>...</td>\n",
              "      <td>...</td>\n",
              "      <td>...</td>\n",
              "      <td>...</td>\n",
              "      <td>...</td>\n",
              "      <td>...</td>\n",
              "    </tr>\n",
              "    <tr>\n",
              "      <th>29778</th>\n",
              "      <td>1</td>\n",
              "      <td>0</td>\n",
              "      <td>0</td>\n",
              "      <td>0</td>\n",
              "      <td>1</td>\n",
              "      <td>0</td>\n",
              "      <td>0</td>\n",
              "      <td>0</td>\n",
              "      <td>1</td>\n",
              "      <td>0</td>\n",
              "    </tr>\n",
              "    <tr>\n",
              "      <th>29779</th>\n",
              "      <td>1</td>\n",
              "      <td>0</td>\n",
              "      <td>0</td>\n",
              "      <td>0</td>\n",
              "      <td>1</td>\n",
              "      <td>0</td>\n",
              "      <td>0</td>\n",
              "      <td>0</td>\n",
              "      <td>0</td>\n",
              "      <td>0</td>\n",
              "    </tr>\n",
              "    <tr>\n",
              "      <th>29780</th>\n",
              "      <td>1</td>\n",
              "      <td>0</td>\n",
              "      <td>0</td>\n",
              "      <td>0</td>\n",
              "      <td>1</td>\n",
              "      <td>0</td>\n",
              "      <td>0</td>\n",
              "      <td>0</td>\n",
              "      <td>0</td>\n",
              "      <td>1</td>\n",
              "    </tr>\n",
              "    <tr>\n",
              "      <th>29781</th>\n",
              "      <td>1</td>\n",
              "      <td>0</td>\n",
              "      <td>0</td>\n",
              "      <td>0</td>\n",
              "      <td>1</td>\n",
              "      <td>0</td>\n",
              "      <td>0</td>\n",
              "      <td>0</td>\n",
              "      <td>0</td>\n",
              "      <td>0</td>\n",
              "    </tr>\n",
              "    <tr>\n",
              "      <th>29782</th>\n",
              "      <td>1</td>\n",
              "      <td>0</td>\n",
              "      <td>0</td>\n",
              "      <td>0</td>\n",
              "      <td>1</td>\n",
              "      <td>0</td>\n",
              "      <td>0</td>\n",
              "      <td>0</td>\n",
              "      <td>0</td>\n",
              "      <td>0</td>\n",
              "    </tr>\n",
              "  </tbody>\n",
              "</table>\n",
              "<p>29783 rows × 10 columns</p>\n",
              "</div>\n",
              "      <button class=\"colab-df-convert\" onclick=\"convertToInteractive('df-e18eca55-108c-4573-aa9d-97a1f888e77d')\"\n",
              "              title=\"Convert this dataframe to an interactive table.\"\n",
              "              style=\"display:none;\">\n",
              "        \n",
              "  <svg xmlns=\"http://www.w3.org/2000/svg\" height=\"24px\"viewBox=\"0 0 24 24\"\n",
              "       width=\"24px\">\n",
              "    <path d=\"M0 0h24v24H0V0z\" fill=\"none\"/>\n",
              "    <path d=\"M18.56 5.44l.94 2.06.94-2.06 2.06-.94-2.06-.94-.94-2.06-.94 2.06-2.06.94zm-11 1L8.5 8.5l.94-2.06 2.06-.94-2.06-.94L8.5 2.5l-.94 2.06-2.06.94zm10 10l.94 2.06.94-2.06 2.06-.94-2.06-.94-.94-2.06-.94 2.06-2.06.94z\"/><path d=\"M17.41 7.96l-1.37-1.37c-.4-.4-.92-.59-1.43-.59-.52 0-1.04.2-1.43.59L10.3 9.45l-7.72 7.72c-.78.78-.78 2.05 0 2.83L4 21.41c.39.39.9.59 1.41.59.51 0 1.02-.2 1.41-.59l7.78-7.78 2.81-2.81c.8-.78.8-2.07 0-2.86zM5.41 20L4 18.59l7.72-7.72 1.47 1.35L5.41 20z\"/>\n",
              "  </svg>\n",
              "      </button>\n",
              "      \n",
              "  <style>\n",
              "    .colab-df-container {\n",
              "      display:flex;\n",
              "      flex-wrap:wrap;\n",
              "      gap: 12px;\n",
              "    }\n",
              "\n",
              "    .colab-df-convert {\n",
              "      background-color: #E8F0FE;\n",
              "      border: none;\n",
              "      border-radius: 50%;\n",
              "      cursor: pointer;\n",
              "      display: none;\n",
              "      fill: #1967D2;\n",
              "      height: 32px;\n",
              "      padding: 0 0 0 0;\n",
              "      width: 32px;\n",
              "    }\n",
              "\n",
              "    .colab-df-convert:hover {\n",
              "      background-color: #E2EBFA;\n",
              "      box-shadow: 0px 1px 2px rgba(60, 64, 67, 0.3), 0px 1px 3px 1px rgba(60, 64, 67, 0.15);\n",
              "      fill: #174EA6;\n",
              "    }\n",
              "\n",
              "    [theme=dark] .colab-df-convert {\n",
              "      background-color: #3B4455;\n",
              "      fill: #D2E3FC;\n",
              "    }\n",
              "\n",
              "    [theme=dark] .colab-df-convert:hover {\n",
              "      background-color: #434B5C;\n",
              "      box-shadow: 0px 1px 3px 1px rgba(0, 0, 0, 0.15);\n",
              "      filter: drop-shadow(0px 1px 2px rgba(0, 0, 0, 0.3));\n",
              "      fill: #FFFFFF;\n",
              "    }\n",
              "  </style>\n",
              "\n",
              "      <script>\n",
              "        const buttonEl =\n",
              "          document.querySelector('#df-e18eca55-108c-4573-aa9d-97a1f888e77d button.colab-df-convert');\n",
              "        buttonEl.style.display =\n",
              "          google.colab.kernel.accessAllowed ? 'block' : 'none';\n",
              "\n",
              "        async function convertToInteractive(key) {\n",
              "          const element = document.querySelector('#df-e18eca55-108c-4573-aa9d-97a1f888e77d');\n",
              "          const dataTable =\n",
              "            await google.colab.kernel.invokeFunction('convertToInteractive',\n",
              "                                                     [key], {});\n",
              "          if (!dataTable) return;\n",
              "\n",
              "          const docLinkHtml = 'Like what you see? Visit the ' +\n",
              "            '<a target=\"_blank\" href=https://colab.research.google.com/notebooks/data_table.ipynb>data table notebook</a>'\n",
              "            + ' to learn more about interactive tables.';\n",
              "          element.innerHTML = '';\n",
              "          dataTable['output_type'] = 'display_data';\n",
              "          await google.colab.output.renderOutput(dataTable, element);\n",
              "          const docLink = document.createElement('div');\n",
              "          docLink.innerHTML = docLinkHtml;\n",
              "          element.appendChild(docLink);\n",
              "        }\n",
              "      </script>\n",
              "    </div>\n",
              "  </div>\n",
              "  "
            ]
          },
          "metadata": {},
          "execution_count": 20
        }
      ],
      "source": [
        " df[df.columns[:10]]"
      ]
    },
    {
      "cell_type": "code",
      "execution_count": 21,
      "id": "d750e8b8",
      "metadata": {
        "id": "d750e8b8"
      },
      "outputs": [],
      "source": [
        "from sklearn.model_selection import train_test_split\n",
        "X_train, X_test, y_train, y_test = train_test_split(\n",
        "x, df[df.columns[:10]], test_size=0.2, random_state=42, shuffle=True)"
      ]
    },
    {
      "cell_type": "code",
      "execution_count": 25,
      "id": "8762f7e0",
      "metadata": {
        "id": "8762f7e0"
      },
      "outputs": [],
      "source": [
        "from keras.models import Sequential\n",
        "from keras.layers import Dense, Embedding, GlobalMaxPool1D, Dropout,Conv1D\n",
        "from tensorflow.keras.optimizers import Adam\n",
        "from keras.regularizers import L2\n",
        "import tensorflow as tf"
      ]
    },
    {
      "cell_type": "code",
      "execution_count": 54,
      "id": "36556031",
      "metadata": {
        "id": "36556031"
      },
      "outputs": [],
      "source": [
        "filter_length = 300\n",
        "\n",
        "model = Sequential()\n",
        "model.add(Embedding(5000, 100, input_length=256))\n",
        "model.add(Dropout(0.25))\n",
        "model.add(Conv1D(filter_length, 3, padding='same', activation='relu', strides=1))\n",
        "model.add(GlobalMaxPool1D())\n",
        "model.add(Dense(500, activation = \"sigmoid\"))\n",
        "model.add(Dropout(0.25))\n",
        "model.add(Dense(200, activation = \"sigmoid\"))\n",
        "model.add(Dropout(0.25))\n",
        "model.add(Dense(100, activation = \"sigmoid\"))\n",
        "model.add(Dropout(0.25))\n",
        "model.add(Dense(10, activation = \"sigmoid\", kernel_regularizer=L2()))\n"
      ]
    },
    {
      "cell_type": "code",
      "execution_count": 55,
      "id": "887a8f96",
      "metadata": {
        "id": "887a8f96"
      },
      "outputs": [],
      "source": [
        "model.compile(optimizer='Adam',loss='binary_crossentropy', metrics=['Precision','Recall','AUC','Accuracy'])"
      ]
    },
    {
      "cell_type": "code",
      "source": [
        "from keras.utils.vis_utils import plot_model\n"
      ],
      "metadata": {
        "id": "OfES4aShG3Mi"
      },
      "id": "OfES4aShG3Mi",
      "execution_count": 56,
      "outputs": []
    },
    {
      "cell_type": "code",
      "source": [
        "plot_model(model, to_file='model_plot.png', show_shapes=True, show_layer_names=True)"
      ],
      "metadata": {
        "colab": {
          "base_uri": "https://localhost:8080/",
          "height": 1000
        },
        "id": "03B6kHNMGn5g",
        "outputId": "93891c94-7a47-489e-e6cb-862b361c027a"
      },
      "id": "03B6kHNMGn5g",
      "execution_count": 57,
      "outputs": [
        {
          "output_type": "execute_result",
          "data": {
            "text/plain": [
              "<IPython.core.display.Image object>"
            ],
            "image/png": "[encoded data removed]"
          },
          "metadata": {},
          "execution_count": 57
        }
      ]
    },
    {
      "cell_type": "code",
      "execution_count": 58,
      "id": "f8ac0f2c",
      "metadata": {
        "scrolled": true,
        "colab": {
          "base_uri": "https://localhost:8080/"
        },
        "id": "f8ac0f2c",
        "outputId": "76596554-eec2-4d81-fee0-a78356485ce8"
      },
      "outputs": [
        {
          "output_type": "execute_result",
          "data": {
            "text/plain": [
              "array([[  0,   0,   0, ..., 112, 112, 112],\n",
              "       [906,  32,  10, ..., 653, 423,  46],\n",
              "       [  0,   0,   0, ...,  16, 269, 178],\n",
              "       ...,\n",
              "       [  0,   0,   0, ..., 173,  30, 114],\n",
              "       [  0,   0,   0, ..., 381,  52,  85],\n",
              "       [450,  45,  14, ..., 439, 104, 629]], dtype=int32)"
            ]
          },
          "metadata": {},
          "execution_count": 58
        }
      ],
      "source": [
        "X_train"
      ]
    },
    {
      "cell_type": "code",
      "execution_count": 59,
      "id": "56a0eb98",
      "metadata": {
        "scrolled": true,
        "colab": {
          "base_uri": "https://localhost:8080/",
          "height": 488
        },
        "id": "56a0eb98",
        "outputId": "c84fec78-3e6c-49af-9c5d-abb8967c46d7"
      },
      "outputs": [
        {
          "output_type": "execute_result",
          "data": {
            "text/plain": [
              "       Software_Developer  Database_Administrator  Systems_Administrator  \\\n",
              "1383                    0                       1                      0   \n",
              "26541                   0                       0                      1   \n",
              "2441                    0                       1                      0   \n",
              "21879                   1                       0                      0   \n",
              "25193                   0                       0                      1   \n",
              "...                   ...                     ...                    ...   \n",
              "21575                   1                       0                      0   \n",
              "5390                    1                       0                      0   \n",
              "860                     0                       1                      0   \n",
              "15795                   0                       0                      0   \n",
              "23654                   0                       0                      1   \n",
              "\n",
              "       Project_manager  Web_Developer  Network_Administrator  \\\n",
              "1383                 0              0                      0   \n",
              "26541                0              0                      0   \n",
              "2441                 0              0                      0   \n",
              "21879                0              0                      0   \n",
              "25193                0              0                      0   \n",
              "...                ...            ...                    ...   \n",
              "21575                0              0                      0   \n",
              "5390                 0              0                      0   \n",
              "860                  0              0                      0   \n",
              "15795                0              0                      1   \n",
              "23654                1              0                      0   \n",
              "\n",
              "       Security_Analyst  Python_Developer  Java_Developer  Front_End_Developer  \n",
              "1383                  0                 0               0                    0  \n",
              "26541                 0                 0               0                    0  \n",
              "2441                  0                 0               0                    0  \n",
              "21879                 0                 0               0                    0  \n",
              "25193                 0                 0               0                    0  \n",
              "...                 ...               ...             ...                  ...  \n",
              "21575                 0                 0               0                    0  \n",
              "5390                  0                 0               0                    1  \n",
              "860                   0                 0               0                    0  \n",
              "15795                 0                 0               0                    0  \n",
              "23654                 0                 0               0                    0  \n",
              "\n",
              "[23826 rows x 10 columns]"
            ],
            "text/html": [
              "\n",
              "  <div id=\"df-7feb72a5-7fdd-4d3c-8227-10365fb0b0e6\">\n",
              "    <div class=\"colab-df-container\">\n",
              "      <div>\n",
              "<style scoped>\n",
              "    .dataframe tbody tr th:only-of-type {\n",
              "        vertical-align: middle;\n",
              "    }\n",
              "\n",
              "    .dataframe tbody tr th {\n",
              "        vertical-align: top;\n",
              "    }\n",
              "\n",
              "    .dataframe thead th {\n",
              "        text-align: right;\n",
              "    }\n",
              "</style>\n",
              "<table border=\"1\" class=\"dataframe\">\n",
              "  <thead>\n",
              "    <tr style=\"text-align: right;\">\n",
              "      <th></th>\n",
              "      <th>Software_Developer</th>\n",
              "      <th>Database_Administrator</th>\n",
              "      <th>Systems_Administrator</th>\n",
              "      <th>Project_manager</th>\n",
              "      <th>Web_Developer</th>\n",
              "      <th>Network_Administrator</th>\n",
              "      <th>Security_Analyst</th>\n",
              "      <th>Python_Developer</th>\n",
              "      <th>Java_Developer</th>\n",
              "      <th>Front_End_Developer</th>\n",
              "    </tr>\n",
              "  </thead>\n",
              "  <tbody>\n",
              "    <tr>\n",
              "      <th>1383</th>\n",
              "      <td>0</td>\n",
              "      <td>1</td>\n",
              "      <td>0</td>\n",
              "      <td>0</td>\n",
              "      <td>0</td>\n",
              "      <td>0</td>\n",
              "      <td>0</td>\n",
              "      <td>0</td>\n",
              "      <td>0</td>\n",
              "      <td>0</td>\n",
              "    </tr>\n",
              "    <tr>\n",
              "      <th>26541</th>\n",
              "      <td>0</td>\n",
              "      <td>0</td>\n",
              "      <td>1</td>\n",
              "      <td>0</td>\n",
              "      <td>0</td>\n",
              "      <td>0</td>\n",
              "      <td>0</td>\n",
              "      <td>0</td>\n",
              "      <td>0</td>\n",
              "      <td>0</td>\n",
              "    </tr>\n",
              "    <tr>\n",
              "      <th>2441</th>\n",
              "      <td>0</td>\n",
              "      <td>1</td>\n",
              "      <td>0</td>\n",
              "      <td>0</td>\n",
              "      <td>0</td>\n",
              "      <td>0</td>\n",
              "      <td>0</td>\n",
              "      <td>0</td>\n",
              "      <td>0</td>\n",
              "      <td>0</td>\n",
              "    </tr>\n",
              "    <tr>\n",
              "      <th>21879</th>\n",
              "      <td>1</td>\n",
              "      <td>0</td>\n",
              "      <td>0</td>\n",
              "      <td>0</td>\n",
              "      <td>0</td>\n",
              "      <td>0</td>\n",
              "      <td>0</td>\n",
              "      <td>0</td>\n",
              "      <td>0</td>\n",
              "      <td>0</td>\n",
              "    </tr>\n",
              "    <tr>\n",
              "      <th>25193</th>\n",
              "      <td>0</td>\n",
              "      <td>0</td>\n",
              "      <td>1</td>\n",
              "      <td>0</td>\n",
              "      <td>0</td>\n",
              "      <td>0</td>\n",
              "      <td>0</td>\n",
              "      <td>0</td>\n",
              "      <td>0</td>\n",
              "      <td>0</td>\n",
              "    </tr>\n",
              "    <tr>\n",
              "      <th>...</th>\n",
              "      <td>...</td>\n",
              "      <td>...</td>\n",
              "      <td>...</td>\n",
              "      <td>...</td>\n",
              "      <td>...</td>\n",
              "      <td>...</td>\n",
              "      <td>...</td>\n",
              "      <td>...</td>\n",
              "      <td>...</td>\n",
              "      <td>...</td>\n",
              "    </tr>\n",
              "    <tr>\n",
              "      <th>21575</th>\n",
              "      <td>1</td>\n",
              "      <td>0</td>\n",
              "      <td>0</td>\n",
              "      <td>0</td>\n",
              "      <td>0</td>\n",
              "      <td>0</td>\n",
              "      <td>0</td>\n",
              "      <td>0</td>\n",
              "      <td>0</td>\n",
              "      <td>0</td>\n",
              "    </tr>\n",
              "    <tr>\n",
              "      <th>5390</th>\n",
              "      <td>1</td>\n",
              "      <td>0</td>\n",
              "      <td>0</td>\n",
              "      <td>0</td>\n",
              "      <td>0</td>\n",
              "      <td>0</td>\n",
              "      <td>0</td>\n",
              "      <td>0</td>\n",
              "      <td>0</td>\n",
              "      <td>1</td>\n",
              "    </tr>\n",
              "    <tr>\n",
              "      <th>860</th>\n",
              "      <td>0</td>\n",
              "      <td>1</td>\n",
              "      <td>0</td>\n",
              "      <td>0</td>\n",
              "      <td>0</td>\n",
              "      <td>0</td>\n",
              "      <td>0</td>\n",
              "      <td>0</td>\n",
              "      <td>0</td>\n",
              "      <td>0</td>\n",
              "    </tr>\n",
              "    <tr>\n",
              "      <th>15795</th>\n",
              "      <td>0</td>\n",
              "      <td>0</td>\n",
              "      <td>0</td>\n",
              "      <td>0</td>\n",
              "      <td>0</td>\n",
              "      <td>1</td>\n",
              "      <td>0</td>\n",
              "      <td>0</td>\n",
              "      <td>0</td>\n",
              "      <td>0</td>\n",
              "    </tr>\n",
              "    <tr>\n",
              "      <th>23654</th>\n",
              "      <td>0</td>\n",
              "      <td>0</td>\n",
              "      <td>1</td>\n",
              "      <td>1</td>\n",
              "      <td>0</td>\n",
              "      <td>0</td>\n",
              "      <td>0</td>\n",
              "      <td>0</td>\n",
              "      <td>0</td>\n",
              "      <td>0</td>\n",
              "    </tr>\n",
              "  </tbody>\n",
              "</table>\n",
              "<p>23826 rows × 10 columns</p>\n",
              "</div>\n",
              "      <button class=\"colab-df-convert\" onclick=\"convertToInteractive('df-7feb72a5-7fdd-4d3c-8227-10365fb0b0e6')\"\n",
              "              title=\"Convert this dataframe to an interactive table.\"\n",
              "              style=\"display:none;\">\n",
              "        \n",
              "  <svg xmlns=\"http://www.w3.org/2000/svg\" height=\"24px\"viewBox=\"0 0 24 24\"\n",
              "       width=\"24px\">\n",
              "    <path d=\"M0 0h24v24H0V0z\" fill=\"none\"/>\n",
              "    <path d=\"M18.56 5.44l.94 2.06.94-2.06 2.06-.94-2.06-.94-.94-2.06-.94 2.06-2.06.94zm-11 1L8.5 8.5l.94-2.06 2.06-.94-2.06-.94L8.5 2.5l-.94 2.06-2.06.94zm10 10l.94 2.06.94-2.06 2.06-.94-2.06-.94-.94-2.06-.94 2.06-2.06.94z\"/><path d=\"M17.41 7.96l-1.37-1.37c-.4-.4-.92-.59-1.43-.59-.52 0-1.04.2-1.43.59L10.3 9.45l-7.72 7.72c-.78.78-.78 2.05 0 2.83L4 21.41c.39.39.9.59 1.41.59.51 0 1.02-.2 1.41-.59l7.78-7.78 2.81-2.81c.8-.78.8-2.07 0-2.86zM5.41 20L4 18.59l7.72-7.72 1.47 1.35L5.41 20z\"/>\n",
              "  </svg>\n",
              "      </button>\n",
              "      \n",
              "  <style>\n",
              "    .colab-df-container {\n",
              "      display:flex;\n",
              "      flex-wrap:wrap;\n",
              "      gap: 12px;\n",
              "    }\n",
              "\n",
              "    .colab-df-convert {\n",
              "      background-color: #E8F0FE;\n",
              "      border: none;\n",
              "      border-radius: 50%;\n",
              "      cursor: pointer;\n",
              "      display: none;\n",
              "      fill: #1967D2;\n",
              "      height: 32px;\n",
              "      padding: 0 0 0 0;\n",
              "      width: 32px;\n",
              "    }\n",
              "\n",
              "    .colab-df-convert:hover {\n",
              "      background-color: #E2EBFA;\n",
              "      box-shadow: 0px 1px 2px rgba(60, 64, 67, 0.3), 0px 1px 3px 1px rgba(60, 64, 67, 0.15);\n",
              "      fill: #174EA6;\n",
              "    }\n",
              "\n",
              "    [theme=dark] .colab-df-convert {\n",
              "      background-color: #3B4455;\n",
              "      fill: #D2E3FC;\n",
              "    }\n",
              "\n",
              "    [theme=dark] .colab-df-convert:hover {\n",
              "      background-color: #434B5C;\n",
              "      box-shadow: 0px 1px 3px 1px rgba(0, 0, 0, 0.15);\n",
              "      filter: drop-shadow(0px 1px 2px rgba(0, 0, 0, 0.3));\n",
              "      fill: #FFFFFF;\n",
              "    }\n",
              "  </style>\n",
              "\n",
              "      <script>\n",
              "        const buttonEl =\n",
              "          document.querySelector('#df-7feb72a5-7fdd-4d3c-8227-10365fb0b0e6 button.colab-df-convert');\n",
              "        buttonEl.style.display =\n",
              "          google.colab.kernel.accessAllowed ? 'block' : 'none';\n",
              "\n",
              "        async function convertToInteractive(key) {\n",
              "          const element = document.querySelector('#df-7feb72a5-7fdd-4d3c-8227-10365fb0b0e6');\n",
              "          const dataTable =\n",
              "            await google.colab.kernel.invokeFunction('convertToInteractive',\n",
              "                                                     [key], {});\n",
              "          if (!dataTable) return;\n",
              "\n",
              "          const docLinkHtml = 'Like what you see? Visit the ' +\n",
              "            '<a target=\"_blank\" href=https://colab.research.google.com/notebooks/data_table.ipynb>data table notebook</a>'\n",
              "            + ' to learn more about interactive tables.';\n",
              "          element.innerHTML = '';\n",
              "          dataTable['output_type'] = 'display_data';\n",
              "          await google.colab.output.renderOutput(dataTable, element);\n",
              "          const docLink = document.createElement('div');\n",
              "          docLink.innerHTML = docLinkHtml;\n",
              "          element.appendChild(docLink);\n",
              "        }\n",
              "      </script>\n",
              "    </div>\n",
              "  </div>\n",
              "  "
            ]
          },
          "metadata": {},
          "execution_count": 59
        }
      ],
      "source": [
        "y_train"
      ]
    },
    {
      "cell_type": "code",
      "execution_count": 60,
      "id": "3986151d",
      "metadata": {
        "id": "3986151d"
      },
      "outputs": [],
      "source": [
        "import numpy as np"
      ]
    },
    {
      "cell_type": "code",
      "execution_count": 61,
      "id": "19f956ba",
      "metadata": {
        "id": "19f956ba"
      },
      "outputs": [],
      "source": [
        "y =y_train.values.astype(np.float32)"
      ]
    },
    {
      "cell_type": "code",
      "execution_count": 62,
      "id": "75032583",
      "metadata": {
        "colab": {
          "base_uri": "https://localhost:8080/"
        },
        "id": "75032583",
        "outputId": "a4eaeeb6-7b41-4bb5-9ccd-8be71287053b"
      },
      "outputs": [
        {
          "output_type": "execute_result",
          "data": {
            "text/plain": [
              "array([[0., 1., 0., ..., 0., 0., 0.],\n",
              "       [0., 0., 1., ..., 0., 0., 0.],\n",
              "       [0., 1., 0., ..., 0., 0., 0.],\n",
              "       ...,\n",
              "       [0., 1., 0., ..., 0., 0., 0.],\n",
              "       [0., 0., 0., ..., 0., 0., 0.],\n",
              "       [0., 0., 1., ..., 0., 0., 0.]], dtype=float32)"
            ]
          },
          "metadata": {},
          "execution_count": 62
        }
      ],
      "source": [
        "y"
      ]
    },
    {
      "cell_type": "code",
      "execution_count": 63,
      "id": "551b2844",
      "metadata": {
        "colab": {
          "base_uri": "https://localhost:8080/"
        },
        "id": "551b2844",
        "outputId": "d94dc115-8c60-4ea8-8fb0-f9635e4d089a"
      },
      "outputs": [
        {
          "output_type": "stream",
          "name": "stdout",
          "text": [
            "Epoch 1/100\n",
            "745/745 [==============================] - 7s 8ms/step - loss: 0.4060 - precision: 0.7738 - recall: 0.2505 - auc: 0.8156 - Accuracy: 0.6073\n",
            "Epoch 2/100\n",
            "745/745 [==============================] - 6s 8ms/step - loss: 0.3188 - precision: 0.8020 - recall: 0.3501 - auc: 0.8950 - Accuracy: 0.6949\n",
            "Epoch 3/100\n",
            "745/745 [==============================] - 6s 8ms/step - loss: 0.3068 - precision: 0.8009 - recall: 0.3981 - auc: 0.9093 - Accuracy: 0.7112\n",
            "Epoch 4/100\n",
            "745/745 [==============================] - 6s 8ms/step - loss: 0.2950 - precision: 0.8154 - recall: 0.4573 - auc: 0.9244 - Accuracy: 0.7194\n",
            "Epoch 5/100\n",
            "745/745 [==============================] - 6s 8ms/step - loss: 0.2893 - precision: 0.8284 - recall: 0.4675 - auc: 0.9303 - Accuracy: 0.7288\n",
            "Epoch 6/100\n",
            "745/745 [==============================] - 6s 8ms/step - loss: 0.2850 - precision: 0.8343 - recall: 0.4797 - auc: 0.9346 - Accuracy: 0.7676\n",
            "Epoch 7/100\n",
            "745/745 [==============================] - 6s 8ms/step - loss: 0.2811 - precision: 0.8393 - recall: 0.4934 - auc: 0.9383 - Accuracy: 0.7873\n",
            "Epoch 8/100\n",
            "745/745 [==============================] - 7s 9ms/step - loss: 0.2785 - precision: 0.8431 - recall: 0.4982 - auc: 0.9404 - Accuracy: 0.7959\n",
            "Epoch 9/100\n",
            "745/745 [==============================] - 6s 8ms/step - loss: 0.2759 - precision: 0.8447 - recall: 0.5072 - auc: 0.9426 - Accuracy: 0.8018\n",
            "Epoch 10/100\n",
            "745/745 [==============================] - 7s 9ms/step - loss: 0.2745 - precision: 0.8474 - recall: 0.5100 - auc: 0.9434 - Accuracy: 0.8057\n",
            "Epoch 11/100\n",
            "745/745 [==============================] - 6s 8ms/step - loss: 0.2721 - precision: 0.8528 - recall: 0.5182 - auc: 0.9457 - Accuracy: 0.8108\n",
            "Epoch 12/100\n",
            "745/745 [==============================] - 6s 8ms/step - loss: 0.2710 - precision: 0.8548 - recall: 0.5231 - auc: 0.9463 - Accuracy: 0.8142\n",
            "Epoch 13/100\n",
            "745/745 [==============================] - 6s 8ms/step - loss: 0.2691 - precision: 0.8559 - recall: 0.5272 - auc: 0.9481 - Accuracy: 0.8172\n",
            "Epoch 14/100\n",
            "745/745 [==============================] - 6s 8ms/step - loss: 0.2666 - precision: 0.8562 - recall: 0.5397 - auc: 0.9494 - Accuracy: 0.8207\n",
            "Epoch 15/100\n",
            "745/745 [==============================] - 7s 10ms/step - loss: 0.2643 - precision: 0.8599 - recall: 0.5523 - auc: 0.9509 - Accuracy: 0.8297\n",
            "Epoch 16/100\n",
            "745/745 [==============================] - 6s 8ms/step - loss: 0.2609 - precision: 0.8611 - recall: 0.5740 - auc: 0.9528 - Accuracy: 0.8349\n",
            "Epoch 17/100\n",
            "745/745 [==============================] - 6s 8ms/step - loss: 0.2583 - precision: 0.8643 - recall: 0.5902 - auc: 0.9541 - Accuracy: 0.8385\n",
            "Epoch 18/100\n",
            "745/745 [==============================] - 6s 8ms/step - loss: 0.2566 - precision: 0.8666 - recall: 0.5959 - auc: 0.9556 - Accuracy: 0.8386\n",
            "Epoch 19/100\n",
            "745/745 [==============================] - 6s 8ms/step - loss: 0.2537 - precision: 0.8706 - recall: 0.6190 - auc: 0.9567 - Accuracy: 0.8422\n",
            "Epoch 20/100\n",
            "745/745 [==============================] - 6s 8ms/step - loss: 0.2510 - precision: 0.8749 - recall: 0.6485 - auc: 0.9584 - Accuracy: 0.8414\n",
            "Epoch 21/100\n",
            "745/745 [==============================] - 6s 8ms/step - loss: 0.2497 - precision: 0.8791 - recall: 0.6485 - auc: 0.9592 - Accuracy: 0.8434\n",
            "Epoch 22/100\n",
            "745/745 [==============================] - 6s 8ms/step - loss: 0.2491 - precision: 0.8792 - recall: 0.6527 - auc: 0.9598 - Accuracy: 0.8459\n",
            "Epoch 23/100\n",
            "745/745 [==============================] - 6s 8ms/step - loss: 0.2481 - precision: 0.8827 - recall: 0.6548 - auc: 0.9603 - Accuracy: 0.8458\n",
            "Epoch 24/100\n",
            "745/745 [==============================] - 6s 8ms/step - loss: 0.2470 - precision: 0.8841 - recall: 0.6623 - auc: 0.9613 - Accuracy: 0.8475\n",
            "Epoch 25/100\n",
            "745/745 [==============================] - 6s 8ms/step - loss: 0.2468 - precision: 0.8826 - recall: 0.6648 - auc: 0.9617 - Accuracy: 0.8447\n",
            "Epoch 26/100\n",
            "745/745 [==============================] - 6s 8ms/step - loss: 0.2464 - precision: 0.8846 - recall: 0.6664 - auc: 0.9617 - Accuracy: 0.8475\n",
            "Epoch 27/100\n",
            "745/745 [==============================] - 6s 8ms/step - loss: 0.2457 - precision: 0.8868 - recall: 0.6670 - auc: 0.9622 - Accuracy: 0.8515\n",
            "Epoch 28/100\n",
            "745/745 [==============================] - 6s 8ms/step - loss: 0.2452 - precision: 0.8900 - recall: 0.6689 - auc: 0.9628 - Accuracy: 0.8520\n",
            "Epoch 29/100\n",
            "745/745 [==============================] - 6s 8ms/step - loss: 0.2442 - precision: 0.8888 - recall: 0.6758 - auc: 0.9636 - Accuracy: 0.8504\n",
            "Epoch 30/100\n",
            "745/745 [==============================] - 6s 8ms/step - loss: 0.2440 - precision: 0.8931 - recall: 0.6735 - auc: 0.9639 - Accuracy: 0.8511\n",
            "Epoch 31/100\n",
            "745/745 [==============================] - 6s 8ms/step - loss: 0.2436 - precision: 0.8929 - recall: 0.6771 - auc: 0.9642 - Accuracy: 0.8513\n",
            "Epoch 32/100\n",
            "745/745 [==============================] - 6s 8ms/step - loss: 0.2428 - precision: 0.8944 - recall: 0.6854 - auc: 0.9645 - Accuracy: 0.8525\n",
            "Epoch 33/100\n",
            "745/745 [==============================] - 6s 8ms/step - loss: 0.2423 - precision: 0.8934 - recall: 0.6792 - auc: 0.9650 - Accuracy: 0.8554\n",
            "Epoch 34/100\n",
            "745/745 [==============================] - 6s 8ms/step - loss: 0.2421 - precision: 0.8944 - recall: 0.6828 - auc: 0.9653 - Accuracy: 0.8562\n",
            "Epoch 35/100\n",
            "745/745 [==============================] - 6s 8ms/step - loss: 0.2419 - precision: 0.8972 - recall: 0.6812 - auc: 0.9654 - Accuracy: 0.8570\n",
            "Epoch 36/100\n",
            "745/745 [==============================] - 6s 8ms/step - loss: 0.2417 - precision: 0.8979 - recall: 0.6824 - auc: 0.9658 - Accuracy: 0.8583\n",
            "Epoch 37/100\n",
            "745/745 [==============================] - 6s 8ms/step - loss: 0.2411 - precision: 0.8996 - recall: 0.6863 - auc: 0.9660 - Accuracy: 0.8577\n",
            "Epoch 38/100\n",
            "745/745 [==============================] - 6s 8ms/step - loss: 0.2410 - precision: 0.8997 - recall: 0.6863 - auc: 0.9663 - Accuracy: 0.8576\n",
            "Epoch 39/100\n",
            "745/745 [==============================] - 6s 8ms/step - loss: 0.2405 - precision: 0.9007 - recall: 0.6908 - auc: 0.9667 - Accuracy: 0.8550\n",
            "Epoch 40/100\n",
            "745/745 [==============================] - 6s 8ms/step - loss: 0.2402 - precision: 0.9021 - recall: 0.6899 - auc: 0.9669 - Accuracy: 0.8562\n",
            "Epoch 41/100\n",
            "745/745 [==============================] - 6s 8ms/step - loss: 0.2400 - precision: 0.9041 - recall: 0.6894 - auc: 0.9672 - Accuracy: 0.8568\n",
            "Epoch 42/100\n",
            "745/745 [==============================] - 6s 8ms/step - loss: 0.2395 - precision: 0.9036 - recall: 0.6940 - auc: 0.9678 - Accuracy: 0.8595\n",
            "Epoch 43/100\n",
            "745/745 [==============================] - 6s 8ms/step - loss: 0.2396 - precision: 0.9047 - recall: 0.6916 - auc: 0.9677 - Accuracy: 0.8594\n",
            "Epoch 44/100\n",
            "745/745 [==============================] - 6s 8ms/step - loss: 0.2389 - precision: 0.9061 - recall: 0.6961 - auc: 0.9681 - Accuracy: 0.8618\n",
            "Epoch 45/100\n",
            "745/745 [==============================] - 6s 8ms/step - loss: 0.2384 - precision: 0.9068 - recall: 0.6997 - auc: 0.9687 - Accuracy: 0.8641\n",
            "Epoch 46/100\n",
            "745/745 [==============================] - 6s 8ms/step - loss: 0.2383 - precision: 0.9089 - recall: 0.7025 - auc: 0.9688 - Accuracy: 0.8636\n",
            "Epoch 47/100\n",
            "745/745 [==============================] - 6s 8ms/step - loss: 0.2378 - precision: 0.9116 - recall: 0.7006 - auc: 0.9692 - Accuracy: 0.8648\n",
            "Epoch 48/100\n",
            "745/745 [==============================] - 6s 8ms/step - loss: 0.2372 - precision: 0.9132 - recall: 0.7071 - auc: 0.9695 - Accuracy: 0.8644\n",
            "Epoch 49/100\n",
            "745/745 [==============================] - 6s 8ms/step - loss: 0.2373 - precision: 0.9131 - recall: 0.7078 - auc: 0.9694 - Accuracy: 0.8652\n",
            "Epoch 50/100\n",
            "745/745 [==============================] - 6s 8ms/step - loss: 0.2371 - precision: 0.9152 - recall: 0.7073 - auc: 0.9696 - Accuracy: 0.8651\n",
            "Epoch 51/100\n",
            "745/745 [==============================] - 6s 8ms/step - loss: 0.2363 - precision: 0.9149 - recall: 0.7092 - auc: 0.9701 - Accuracy: 0.8662\n",
            "Epoch 52/100\n",
            "745/745 [==============================] - 6s 8ms/step - loss: 0.2362 - precision: 0.9148 - recall: 0.7091 - auc: 0.9704 - Accuracy: 0.8682\n",
            "Epoch 53/100\n",
            "745/745 [==============================] - 6s 8ms/step - loss: 0.2359 - precision: 0.9218 - recall: 0.7103 - auc: 0.9707 - Accuracy: 0.8717\n",
            "Epoch 54/100\n",
            "745/745 [==============================] - 7s 9ms/step - loss: 0.2355 - precision: 0.9208 - recall: 0.7089 - auc: 0.9710 - Accuracy: 0.8725\n",
            "Epoch 55/100\n",
            "745/745 [==============================] - 6s 8ms/step - loss: 0.2349 - precision: 0.9212 - recall: 0.7162 - auc: 0.9712 - Accuracy: 0.8718\n",
            "Epoch 56/100\n",
            "745/745 [==============================] - 6s 8ms/step - loss: 0.2352 - precision: 0.9233 - recall: 0.7159 - auc: 0.9710 - Accuracy: 0.8719\n",
            "Epoch 57/100\n",
            "745/745 [==============================] - 6s 8ms/step - loss: 0.2346 - precision: 0.9222 - recall: 0.7160 - auc: 0.9714 - Accuracy: 0.8745\n",
            "Epoch 58/100\n",
            "745/745 [==============================] - 6s 8ms/step - loss: 0.2345 - precision: 0.9261 - recall: 0.7201 - auc: 0.9715 - Accuracy: 0.8741\n",
            "Epoch 59/100\n",
            "745/745 [==============================] - 6s 8ms/step - loss: 0.2341 - precision: 0.9247 - recall: 0.7210 - auc: 0.9721 - Accuracy: 0.8720\n",
            "Epoch 60/100\n",
            "745/745 [==============================] - 6s 8ms/step - loss: 0.2342 - precision: 0.9275 - recall: 0.7197 - auc: 0.9719 - Accuracy: 0.8762\n",
            "Epoch 61/100\n",
            "745/745 [==============================] - 6s 8ms/step - loss: 0.2337 - precision: 0.9276 - recall: 0.7182 - auc: 0.9722 - Accuracy: 0.8748\n",
            "Epoch 62/100\n",
            "745/745 [==============================] - 6s 8ms/step - loss: 0.2336 - precision: 0.9268 - recall: 0.7235 - auc: 0.9722 - Accuracy: 0.8764\n",
            "Epoch 63/100\n",
            "745/745 [==============================] - 6s 8ms/step - loss: 0.2330 - precision: 0.9291 - recall: 0.7253 - auc: 0.9726 - Accuracy: 0.8758\n",
            "Epoch 64/100\n",
            "745/745 [==============================] - 6s 8ms/step - loss: 0.2325 - precision: 0.9296 - recall: 0.7274 - auc: 0.9729 - Accuracy: 0.8738\n",
            "Epoch 65/100\n",
            "745/745 [==============================] - 6s 8ms/step - loss: 0.2324 - precision: 0.9296 - recall: 0.7295 - auc: 0.9729 - Accuracy: 0.8771\n",
            "Epoch 66/100\n",
            "745/745 [==============================] - 6s 8ms/step - loss: 0.2319 - precision: 0.9336 - recall: 0.7296 - auc: 0.9732 - Accuracy: 0.8760\n",
            "Epoch 67/100\n",
            "745/745 [==============================] - 6s 8ms/step - loss: 0.2313 - precision: 0.9350 - recall: 0.7350 - auc: 0.9734 - Accuracy: 0.8778\n",
            "Epoch 68/100\n",
            "745/745 [==============================] - 6s 8ms/step - loss: 0.2312 - precision: 0.9330 - recall: 0.7356 - auc: 0.9735 - Accuracy: 0.8766\n",
            "Epoch 69/100\n",
            "745/745 [==============================] - 6s 8ms/step - loss: 0.2308 - precision: 0.9355 - recall: 0.7358 - auc: 0.9738 - Accuracy: 0.8782\n",
            "Epoch 70/100\n",
            "745/745 [==============================] - 6s 8ms/step - loss: 0.2307 - precision: 0.9336 - recall: 0.7389 - auc: 0.9739 - Accuracy: 0.8766\n",
            "Epoch 71/100\n",
            "745/745 [==============================] - 6s 8ms/step - loss: 0.2299 - precision: 0.9374 - recall: 0.7438 - auc: 0.9743 - Accuracy: 0.8793\n",
            "Epoch 72/100\n",
            "745/745 [==============================] - 6s 8ms/step - loss: 0.2296 - precision: 0.9382 - recall: 0.7468 - auc: 0.9743 - Accuracy: 0.8784\n",
            "Epoch 73/100\n",
            "745/745 [==============================] - 6s 8ms/step - loss: 0.2294 - precision: 0.9372 - recall: 0.7465 - auc: 0.9747 - Accuracy: 0.8775\n",
            "Epoch 74/100\n",
            "745/745 [==============================] - 6s 8ms/step - loss: 0.2293 - precision: 0.9376 - recall: 0.7478 - auc: 0.9747 - Accuracy: 0.8764\n",
            "Epoch 75/100\n",
            "745/745 [==============================] - 6s 8ms/step - loss: 0.2290 - precision: 0.9423 - recall: 0.7465 - auc: 0.9749 - Accuracy: 0.8814\n",
            "Epoch 76/100\n",
            "745/745 [==============================] - 6s 8ms/step - loss: 0.2285 - precision: 0.9426 - recall: 0.7510 - auc: 0.9752 - Accuracy: 0.8779\n",
            "Epoch 77/100\n",
            "745/745 [==============================] - 6s 8ms/step - loss: 0.2284 - precision: 0.9436 - recall: 0.7499 - auc: 0.9753 - Accuracy: 0.8782\n",
            "Epoch 78/100\n",
            "745/745 [==============================] - 6s 8ms/step - loss: 0.2288 - precision: 0.9404 - recall: 0.7492 - auc: 0.9750 - Accuracy: 0.8787\n",
            "Epoch 79/100\n",
            "745/745 [==============================] - 6s 8ms/step - loss: 0.2280 - precision: 0.9436 - recall: 0.7521 - auc: 0.9755 - Accuracy: 0.8791\n",
            "Epoch 80/100\n",
            "745/745 [==============================] - 6s 8ms/step - loss: 0.2277 - precision: 0.9440 - recall: 0.7562 - auc: 0.9758 - Accuracy: 0.8823\n",
            "Epoch 81/100\n",
            "745/745 [==============================] - 6s 8ms/step - loss: 0.2280 - precision: 0.9424 - recall: 0.7541 - auc: 0.9754 - Accuracy: 0.8796\n",
            "Epoch 82/100\n",
            "745/745 [==============================] - 6s 8ms/step - loss: 0.2273 - precision: 0.9440 - recall: 0.7587 - auc: 0.9757 - Accuracy: 0.8817\n",
            "Epoch 83/100\n",
            "745/745 [==============================] - 6s 8ms/step - loss: 0.2268 - precision: 0.9450 - recall: 0.7613 - auc: 0.9759 - Accuracy: 0.8822\n",
            "Epoch 84/100\n",
            "745/745 [==============================] - 6s 8ms/step - loss: 0.2267 - precision: 0.9454 - recall: 0.7617 - auc: 0.9763 - Accuracy: 0.8810\n",
            "Epoch 85/100\n",
            "745/745 [==============================] - 6s 8ms/step - loss: 0.2263 - precision: 0.9471 - recall: 0.7651 - auc: 0.9765 - Accuracy: 0.8833\n",
            "Epoch 86/100\n",
            "745/745 [==============================] - 6s 8ms/step - loss: 0.2263 - precision: 0.9466 - recall: 0.7617 - auc: 0.9767 - Accuracy: 0.8826\n",
            "Epoch 87/100\n",
            "745/745 [==============================] - 6s 8ms/step - loss: 0.2265 - precision: 0.9461 - recall: 0.7645 - auc: 0.9763 - Accuracy: 0.8797\n",
            "Epoch 88/100\n",
            "745/745 [==============================] - 6s 8ms/step - loss: 0.2262 - precision: 0.9472 - recall: 0.7644 - auc: 0.9765 - Accuracy: 0.8835\n",
            "Epoch 89/100\n",
            "745/745 [==============================] - 6s 8ms/step - loss: 0.2258 - precision: 0.9481 - recall: 0.7661 - auc: 0.9767 - Accuracy: 0.8831\n",
            "Epoch 90/100\n",
            "745/745 [==============================] - 6s 8ms/step - loss: 0.2254 - precision: 0.9487 - recall: 0.7681 - auc: 0.9770 - Accuracy: 0.8839\n",
            "Epoch 91/100\n",
            "745/745 [==============================] - 6s 8ms/step - loss: 0.2253 - precision: 0.9494 - recall: 0.7669 - auc: 0.9771 - Accuracy: 0.8852\n",
            "Epoch 92/100\n",
            "745/745 [==============================] - 6s 8ms/step - loss: 0.2254 - precision: 0.9474 - recall: 0.7683 - auc: 0.9772 - Accuracy: 0.8827\n",
            "Epoch 93/100\n",
            "745/745 [==============================] - 6s 8ms/step - loss: 0.2255 - precision: 0.9476 - recall: 0.7684 - auc: 0.9770 - Accuracy: 0.8833\n",
            "Epoch 94/100\n",
            "745/745 [==============================] - 6s 8ms/step - loss: 0.2256 - precision: 0.9487 - recall: 0.7677 - auc: 0.9770 - Accuracy: 0.8837\n",
            "Epoch 95/100\n",
            "745/745 [==============================] - 6s 8ms/step - loss: 0.2248 - precision: 0.9495 - recall: 0.7718 - auc: 0.9773 - Accuracy: 0.8861\n",
            "Epoch 96/100\n",
            "745/745 [==============================] - 6s 8ms/step - loss: 0.2250 - precision: 0.9490 - recall: 0.7675 - auc: 0.9771 - Accuracy: 0.8871\n",
            "Epoch 97/100\n",
            "745/745 [==============================] - 6s 8ms/step - loss: 0.2245 - precision: 0.9511 - recall: 0.7744 - auc: 0.9775 - Accuracy: 0.8856\n",
            "Epoch 98/100\n",
            "745/745 [==============================] - 6s 8ms/step - loss: 0.2248 - precision: 0.9513 - recall: 0.7697 - auc: 0.9773 - Accuracy: 0.8844\n",
            "Epoch 99/100\n",
            "745/745 [==============================] - 6s 8ms/step - loss: 0.2242 - precision: 0.9498 - recall: 0.7748 - auc: 0.9780 - Accuracy: 0.8844\n",
            "Epoch 100/100\n",
            "745/745 [==============================] - 6s 8ms/step - loss: 0.2243 - precision: 0.9506 - recall: 0.7707 - auc: 0.9779 - Accuracy: 0.8861\n"
          ]
        }
      ],
      "source": [
        "history=model.fit(X_train,y,epochs=100)"
      ]
    },
    {
      "cell_type": "code",
      "execution_count": 64,
      "id": "c68d5dfc",
      "metadata": {
        "colab": {
          "base_uri": "https://localhost:8080/"
        },
        "id": "c68d5dfc",
        "outputId": "e9be83dc-b3e6-45ae-8c97-07568551132d"
      },
      "outputs": [
        {
          "output_type": "stream",
          "name": "stdout",
          "text": [
            "187/187 [==============================] - 1s 5ms/step - loss: 0.2605 - precision: 0.8726 - recall: 0.7166 - auc: 0.9504 - Accuracy: 0.8251\n"
          ]
        },
        {
          "output_type": "execute_result",
          "data": {
            "text/plain": [
              "[0.2605080306529999,\n",
              " 0.8726158738136292,\n",
              " 0.7165638208389282,\n",
              " 0.9504010081291199,\n",
              " 0.8250797390937805]"
            ]
          },
          "metadata": {},
          "execution_count": 64
        }
      ],
      "source": [
        "model.evaluate(X_test,y_test)"
      ]
    },
    {
      "cell_type": "code",
      "execution_count": 65,
      "id": "91e7ea70",
      "metadata": {
        "id": "91e7ea70"
      },
      "outputs": [],
      "source": [
        "import matplotlib.pyplot as plt"
      ]
    },
    {
      "cell_type": "code",
      "source": [
        "plt.plot(history.history['precision'],label='Precision')\n",
        "plt.plot(history.history['recall'],label='Recall')\n",
        "plt.plot(history.history['Accuracy'],label='Accuracy')\n",
        "plt.plot(history.history['loss'],label='Loss')\n",
        "plt.plot(history.history['auc'],label='auc')\n",
        "plt.legend()"
      ],
      "metadata": {
        "colab": {
          "base_uri": "https://localhost:8080/",
          "height": 282
        },
        "id": "ECYMAjiQSOal",
        "outputId": "8dfcd150-5702-417e-de88-d4e79e2b96f8"
      },
      "id": "ECYMAjiQSOal",
      "execution_count": 66,
      "outputs": [
        {
          "output_type": "execute_result",
          "data": {
            "text/plain": [
              "<matplotlib.legend.Legend at 0x7f7a661f9990>"
            ]
          },
          "metadata": {},
          "execution_count": 66
        },
        {
          "output_type": "display_data",
          "data": {
            "text/plain": [
              "<Figure size 432x288 with 1 Axes>"
            ],
            "image/png": "[encoded data removed]"
          },
          "metadata": {
            "needs_background": "light"
          }
        }
      ]
    },
    {
      "cell_type": "code",
      "source": [
        "y_test"
      ],
      "metadata": {
        "colab": {
          "base_uri": "https://localhost:8080/"
        },
        "id": "V-2Gevky6Uit",
        "outputId": "2c5d7c6a-58c5-41e8-9647-bb773e1d0a46"
      },
      "id": "V-2Gevky6Uit",
      "execution_count": 71,
      "outputs": [
        {
          "output_type": "execute_result",
          "data": {
            "text/plain": [
              "array([[1., 0., 0., ..., 0., 1., 0.],\n",
              "       [1., 1., 0., ..., 0., 0., 0.],\n",
              "       [0., 0., 0., ..., 0., 0., 0.],\n",
              "       ...,\n",
              "       [0., 0., 0., ..., 0., 0., 0.],\n",
              "       [0., 0., 0., ..., 0., 0., 0.],\n",
              "       [1., 0., 0., ..., 0., 0., 0.]], dtype=float32)"
            ]
          },
          "metadata": {},
          "execution_count": 71
        }
      ]
    },
    {
      "cell_type": "code",
      "source": [
        "y_pred=model.predict(X_test)"
      ],
      "metadata": {
        "id": "iImJghzJ5cYs"
      },
      "id": "iImJghzJ5cYs",
      "execution_count": 76,
      "outputs": []
    },
    {
      "cell_type": "code",
      "source": [
        "y_pred"
      ],
      "metadata": {
        "colab": {
          "base_uri": "https://localhost:8080/"
        },
        "id": "DlQ1Y5sa6D7C",
        "outputId": "b6844836-4889-4116-bc4c-a49a7560378f"
      },
      "id": "DlQ1Y5sa6D7C",
      "execution_count": 77,
      "outputs": [
        {
          "output_type": "execute_result",
          "data": {
            "text/plain": [
              "array([[0.9604036 , 0.0575636 , 0.0280201 , ..., 0.13464056, 0.62107724,\n",
              "        0.10826369],\n",
              "       [0.8367365 , 0.3327779 , 0.0714068 , ..., 0.08033562, 0.14680706,\n",
              "        0.07459852],\n",
              "       [0.06893884, 0.0632277 , 0.5155432 , ..., 0.01984221, 0.01121017,\n",
              "        0.02147131],\n",
              "       ...,\n",
              "       [0.06060769, 0.06018078, 0.3711176 , ..., 0.01431499, 0.01008637,\n",
              "        0.01972746],\n",
              "       [0.07342763, 0.07544365, 0.14588878, ..., 0.01305141, 0.01148238,\n",
              "        0.02505109],\n",
              "       [0.961244  , 0.01676657, 0.03870003, ..., 0.08002564, 0.09436986,\n",
              "        0.1414671 ]], dtype=float32)"
            ]
          },
          "metadata": {},
          "execution_count": 77
        }
      ]
    },
    {
      "cell_type": "code",
      "source": [
        "normalized = []\n",
        "for i in y_pred:\n",
        "    l = []\n",
        "    for j in i:\n",
        "        if j>=0.50:\n",
        "            l.append(1)\n",
        "        else:\n",
        "            l.append(0)\n",
        "    normalized.append(l)"
      ],
      "metadata": {
        "id": "5wJculOm60zW"
      },
      "id": "5wJculOm60zW",
      "execution_count": 78,
      "outputs": []
    },
    {
      "cell_type": "code",
      "source": [
        "from sklearn.metrics import confusion_matrix\n",
        "from sklearn import metrics\n",
        "print(metrics.classification_report(y_test, normalized,target_names= classes))"
      ],
      "metadata": {
        "colab": {
          "base_uri": "https://localhost:8080/"
        },
        "id": "ZF3eMkCQ5O3E",
        "outputId": "a22f6bdc-f02b-46e3-d2b5-409a071f8e45"
      },
      "id": "ZF3eMkCQ5O3E",
      "execution_count": 79,
      "outputs": [
        {
          "output_type": "stream",
          "name": "stdout",
          "text": [
            "                        precision    recall  f1-score   support\n",
            "\n",
            "    Software_Developer       0.96      0.93      0.94      2973\n",
            "Database_Administrator       0.91      0.65      0.75       621\n",
            " Systems_Administrator       0.71      0.75      0.73      1215\n",
            "       Project_manager       0.82      0.49      0.62       911\n",
            "         Web_Developer       0.81      0.71      0.75      1260\n",
            " Network_Administrator       0.82      0.62      0.71       937\n",
            "      Security_Analyst       0.00      0.00      0.00       605\n",
            "      Python_Developer       0.94      0.71      0.81       539\n",
            "        Java_Developer       0.92      0.74      0.82       680\n",
            "   Front_End_Developer       0.91      0.85      0.88       794\n",
            "\n",
            "             micro avg       0.87      0.72      0.79     10535\n",
            "             macro avg       0.78      0.64      0.70     10535\n",
            "          weighted avg       0.82      0.72      0.76     10535\n",
            "           samples avg       0.76      0.71      0.71     10535\n",
            "\n"
          ]
        },
        {
          "output_type": "stream",
          "name": "stderr",
          "text": [
            "/usr/local/lib/python3.7/dist-packages/sklearn/metrics/_classification.py:1318: UndefinedMetricWarning: Precision and F-score are ill-defined and being set to 0.0 in labels with no predicted samples. Use `zero_division` parameter to control this behavior.\n",
            "  _warn_prf(average, modifier, msg_start, len(result))\n",
            "/usr/local/lib/python3.7/dist-packages/sklearn/metrics/_classification.py:1318: UndefinedMetricWarning: Precision and F-score are ill-defined and being set to 0.0 in samples with no predicted labels. Use `zero_division` parameter to control this behavior.\n",
            "  _warn_prf(average, modifier, msg_start, len(result))\n",
            "/usr/local/lib/python3.7/dist-packages/sklearn/metrics/_classification.py:1318: UndefinedMetricWarning: Recall and F-score are ill-defined and being set to 0.0 in samples with no true labels. Use `zero_division` parameter to control this behavior.\n",
            "  _warn_prf(average, modifier, msg_start, len(result))\n"
          ]
        }
      ]
    },
    {
      "cell_type": "code",
      "source": [
        ""
      ],
      "metadata": {
        "id": "_MosLqdg5PI-"
      },
      "id": "_MosLqdg5PI-",
      "execution_count": null,
      "outputs": []
    },
    {
      "cell_type": "code",
      "source": [
        "model.save('cnn_mark5.h5')"
      ],
      "metadata": {
        "id": "m8VQU6vVSUwB"
      },
      "id": "m8VQU6vVSUwB",
      "execution_count": 53,
      "outputs": []
    },
    {
      "cell_type": "code",
      "source": [
        ""
      ],
      "metadata": {
        "id": "yFSVzZvrbQAG"
      },
      "id": "yFSVzZvrbQAG",
      "execution_count": null,
      "outputs": []
    }
  ],
  "metadata": {
    "kernelspec": {
      "display_name": "Python 3 (ipykernel)",
      "language": "python",
      "name": "python3"
    },
    "language_info": {
      "codemirror_mode": {
        "name": "ipython",
        "version": 3
      },
      "file_extension": ".py",
      "mimetype": "text/x-python",
      "name": "python",
      "nbconvert_exporter": "python",
      "pygments_lexer": "ipython3",
      "version": "3.10.1"
    },
    "colab": {
      "name": "CNN Model.ipynb",
      "provenance": [],
      "collapsed_sections": []
    },
    "accelerator": "GPU",
    "gpuClass": "standard"
  },
  "nbformat": 4,
  "nbformat_minor": 5
}