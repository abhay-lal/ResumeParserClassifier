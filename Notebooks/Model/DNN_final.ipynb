{
  "cells": [
    {
      "cell_type": "code",
      "source": [
        "!nvidia-smi"
      ],
      "metadata": {
        "colab": {
          "base_uri": "https://localhost:8080/"
        },
        "id": "xi79roxwCKtm",
        "outputId": "d95825c9-9508-4a23-8487-25ec4c8af66d"
      },
      "id": "xi79roxwCKtm",
      "execution_count": 1,
      "outputs": [
        {
          "output_type": "stream",
          "name": "stdout",
          "text": [
            "Wed Jun 29 09:42:38 2022       \n",
            "+-----------------------------------------------------------------------------+\n",
            "| NVIDIA-SMI 460.32.03    Driver Version: 460.32.03    CUDA Version: 11.2     |\n",
            "|-------------------------------+----------------------+----------------------+\n",
            "| GPU  Name        Persistence-M| Bus-Id        Disp.A | Volatile Uncorr. ECC |\n",
            "| Fan  Temp  Perf  Pwr:Usage/Cap|         Memory-Usage | GPU-Util  Compute M. |\n",
            "|                               |                      |               MIG M. |\n",
            "|===============================+======================+======================|\n",
            "|   0  Tesla T4            Off  | 00000000:00:04.0 Off |                    0 |\n",
            "| N/A   63C    P8    11W /  70W |      0MiB / 15109MiB |      0%      Default |\n",
            "|                               |                      |                  N/A |\n",
            "+-------------------------------+----------------------+----------------------+\n",
            "                                                                               \n",
            "+-----------------------------------------------------------------------------+\n",
            "| Processes:                                                                  |\n",
            "|  GPU   GI   CI        PID   Type   Process name                  GPU Memory |\n",
            "|        ID   ID                                                   Usage      |\n",
            "|=============================================================================|\n",
            "|  No running processes found                                                 |\n",
            "+-----------------------------------------------------------------------------+\n"
          ]
        }
      ]
    },
    {
      "cell_type": "code",
      "source": [
        "!unzip finale.zip"
      ],
      "metadata": {
        "colab": {
          "base_uri": "https://localhost:8080/"
        },
        "id": "JH5vKcRVCKkr",
        "outputId": "4c92373f-695c-46d1-bb2e-fe82f723fbea"
      },
      "id": "JH5vKcRVCKkr",
      "execution_count": 4,
      "outputs": [
        {
          "output_type": "stream",
          "name": "stdout",
          "text": [
            "Archive:  finale.zip\n",
            "  inflating: finale.csv              \n"
          ]
        }
      ]
    },
    {
      "cell_type": "code",
      "execution_count": 36,
      "id": "fe2786de",
      "metadata": {
        "id": "fe2786de"
      },
      "outputs": [],
      "source": [
        "import pandas as pd\n",
        "df = pd.read_csv(\"finale.csv\", index_col=0)"
      ]
    },
    {
      "cell_type": "code",
      "source": [
        "from tensorflow.keras.preprocessing.text import Tokenizer\n",
        "from tensorflow.keras.preprocessing.sequence import pad_sequences"
      ],
      "metadata": {
        "id": "AGRAyyCVR-D6"
      },
      "id": "AGRAyyCVR-D6",
      "execution_count": 37,
      "outputs": []
    },
    {
      "cell_type": "code",
      "source": [
        "df.columns"
      ],
      "metadata": {
        "colab": {
          "base_uri": "https://localhost:8080/"
        },
        "id": "RcGhpxL-FLzW",
        "outputId": "20fa6388-dc2a-4619-93b1-bdb291a5c41b"
      },
      "id": "RcGhpxL-FLzW",
      "execution_count": 38,
      "outputs": [
        {
          "output_type": "execute_result",
          "data": {
            "text/plain": [
              "Index(['Software_Developer', 'Database_Administrator', 'Systems_Administrator',\n",
              "       'Project_manager', 'Web_Developer', 'Network_Administrator',\n",
              "       'Security_Analyst', 'Python_Developer', 'Java_Developer',\n",
              "       'Front_End_Developer', 'Ents', 'new'],\n",
              "      dtype='object')"
            ]
          },
          "metadata": {},
          "execution_count": 38
        }
      ]
    },
    {
      "cell_type": "code",
      "execution_count": 39,
      "id": "6f772c36",
      "metadata": {
        "id": "6f772c36"
      },
      "outputs": [],
      "source": [
        "classes = ['Software_Developer', 'Database_Administrator',\n",
        "           'Systems_Administrator', 'Project_manager',\n",
        "           'Web_Developer', 'Network_Administrator',\n",
        "           'Security_Analyst', 'Python_Developer',\n",
        "           'Java_Developer', 'Front_End_Developer']"
      ]
    },
    {
      "cell_type": "code",
      "execution_count": 40,
      "id": "939e5498",
      "metadata": {
        "colab": {
          "base_uri": "https://localhost:8080/"
        },
        "id": "939e5498",
        "outputId": "00b2ea0e-a6bb-4568-8c7a-2bf19aaec34b"
      },
      "outputs": [
        {
          "output_type": "stream",
          "name": "stdout",
          "text": [
            "<class 'pandas.core.frame.DataFrame'>\n",
            "Int64Index: 29783 entries, 0 to 29782\n",
            "Data columns (total 12 columns):\n",
            " #   Column                  Non-Null Count  Dtype \n",
            "---  ------                  --------------  ----- \n",
            " 0   Software_Developer      29783 non-null  int64 \n",
            " 1   Database_Administrator  29783 non-null  int64 \n",
            " 2   Systems_Administrator   29783 non-null  int64 \n",
            " 3   Project_manager         29783 non-null  int64 \n",
            " 4   Web_Developer           29783 non-null  int64 \n",
            " 5   Network_Administrator   29783 non-null  int64 \n",
            " 6   Security_Analyst        29783 non-null  int64 \n",
            " 7   Python_Developer        29783 non-null  int64 \n",
            " 8   Java_Developer          29783 non-null  int64 \n",
            " 9   Front_End_Developer     29783 non-null  int64 \n",
            " 10  Ents                    29783 non-null  object\n",
            " 11  new                     29721 non-null  object\n",
            "dtypes: int64(10), object(2)\n",
            "memory usage: 3.0+ MB\n"
          ]
        }
      ],
      "source": [
        "df.info()"
      ]
    },
    {
      "cell_type": "code",
      "source": [
        "df.shape"
      ],
      "metadata": {
        "colab": {
          "base_uri": "https://localhost:8080/"
        },
        "id": "i1nPm9fbMjJu",
        "outputId": "c101ce6d-833f-4b8c-d69e-6d35a111b34e"
      },
      "id": "i1nPm9fbMjJu",
      "execution_count": 41,
      "outputs": [
        {
          "output_type": "execute_result",
          "data": {
            "text/plain": [
              "(29783, 12)"
            ]
          },
          "metadata": {},
          "execution_count": 41
        }
      ]
    },
    {
      "cell_type": "code",
      "source": [
        "df['new']"
      ],
      "metadata": {
        "colab": {
          "base_uri": "https://localhost:8080/"
        },
        "id": "_zKD51jfJHq4",
        "outputId": "eaad2e37-0420-4f57-959b-932315560b57"
      },
      "id": "_zKD51jfJHq4",
      "execution_count": 42,
      "outputs": [
        {
          "output_type": "execute_result",
          "data": {
            "text/plain": [
              "0        sql ssis oltp backing generating log shipping ...\n",
              "1        microsoft xp microsoft assembly language micro...\n",
              "2        carrier objective experienced creating users r...\n",
              "3        amazon redshift administrator redshift adminis...\n",
              "4        scrum masterscrum master scrum master scrum ma...\n",
              "                               ...                        \n",
              "29778    servicenow developerservicenow developerservic...\n",
              "29779    developerandroid developerjoomla cms samsung w...\n",
              "29780    ui web developervisual web applications develo...\n",
              "29781                                                  php\n",
              "29782    sr software web developerweb developerweb deve...\n",
              "Name: new, Length: 29783, dtype: object"
            ]
          },
          "metadata": {},
          "execution_count": 42
        }
      ]
    },
    {
      "cell_type": "code",
      "source": [
        "type(df['new'])"
      ],
      "metadata": {
        "colab": {
          "base_uri": "https://localhost:8080/"
        },
        "id": "KORQKjvdHFtG",
        "outputId": "9b2501ac-4083-4d45-8399-f724fd7dcf36"
      },
      "id": "KORQKjvdHFtG",
      "execution_count": 43,
      "outputs": [
        {
          "output_type": "execute_result",
          "data": {
            "text/plain": [
              "pandas.core.series.Series"
            ]
          },
          "metadata": {},
          "execution_count": 43
        }
      ]
    },
    {
      "cell_type": "code",
      "source": [
        "for i in range(0,29783):\n",
        "  if type(df['new'][i]) ==\"float\":\n",
        "    print(\"found\")"
      ],
      "metadata": {
        "id": "agC8SLjAPKpO"
      },
      "id": "agC8SLjAPKpO",
      "execution_count": 44,
      "outputs": []
    },
    {
      "cell_type": "code",
      "source": [
        "tokenizer = Tokenizer(num_words=1000, lower=True)\n",
        "tokenizer.fit_on_texts(str(i) for i in df['new'])"
      ],
      "metadata": {
        "id": "kEsYE4ZBFZ7p"
      },
      "id": "kEsYE4ZBFZ7p",
      "execution_count": 45,
      "outputs": []
    },
    {
      "cell_type": "code",
      "source": [
        "tokenizer"
      ],
      "metadata": {
        "colab": {
          "base_uri": "https://localhost:8080/"
        },
        "id": "8srUp99TREf_",
        "outputId": "72a214c5-9d7c-417f-c66a-d8d17f3efeab"
      },
      "id": "8srUp99TREf_",
      "execution_count": 46,
      "outputs": [
        {
          "output_type": "execute_result",
          "data": {
            "text/plain": [
              "<keras_preprocessing.text.Tokenizer at 0x7fc1b72f6790>"
            ]
          },
          "metadata": {},
          "execution_count": 46
        }
      ]
    },
    {
      "cell_type": "code",
      "source": [
        "sequences = tokenizer.texts_to_sequences(str(i) for i in df['new'])\n",
        "x = pad_sequences(sequences, maxlen=256)"
      ],
      "metadata": {
        "id": "1urwGBzoRCpv"
      },
      "id": "1urwGBzoRCpv",
      "execution_count": 47,
      "outputs": []
    },
    {
      "cell_type": "code",
      "source": [
        ""
      ],
      "metadata": {
        "id": "fs3W7bmHRCxk"
      },
      "id": "fs3W7bmHRCxk",
      "execution_count": 47,
      "outputs": []
    },
    {
      "cell_type": "code",
      "execution_count": 48,
      "id": "5dce1925",
      "metadata": {
        "colab": {
          "base_uri": "https://localhost:8080/"
        },
        "id": "5dce1925",
        "outputId": "fadc1c0b-f8fa-4934-a0b3-b5ece3350b96"
      },
      "outputs": [
        {
          "output_type": "execute_result",
          "data": {
            "text/plain": [
              "array([[ 41, 391, 153, ...,   4, 716, 891],\n",
              "       [  0,   0,   0, ...,  32, 134,  30],\n",
              "       [  0,   0,   0, ...,   4, 141, 432],\n",
              "       ...,\n",
              "       [  7, 162,   5, ...,   5,  39, 507],\n",
              "       [  0,   0,   0, ...,   0,   0,  76],\n",
              "       [  0,   0,   0, ...,  91,  19,   7]], dtype=int32)"
            ]
          },
          "metadata": {},
          "execution_count": 48
        }
      ],
      "source": [
        "x"
      ]
    },
    {
      "cell_type": "code",
      "source": [
        "x.shape"
      ],
      "metadata": {
        "colab": {
          "base_uri": "https://localhost:8080/"
        },
        "id": "97RLsgx4RN4V",
        "outputId": "ce256472-8689-4d64-857f-dae7ecee6075"
      },
      "id": "97RLsgx4RN4V",
      "execution_count": 49,
      "outputs": [
        {
          "output_type": "execute_result",
          "data": {
            "text/plain": [
              "(29783, 256)"
            ]
          },
          "metadata": {},
          "execution_count": 49
        }
      ]
    },
    {
      "cell_type": "code",
      "source": [
        "a=x[0]"
      ],
      "metadata": {
        "id": "pm7QOcnvRPvu"
      },
      "id": "pm7QOcnvRPvu",
      "execution_count": 50,
      "outputs": []
    },
    {
      "cell_type": "code",
      "source": [
        "a"
      ],
      "metadata": {
        "colab": {
          "base_uri": "https://localhost:8080/"
        },
        "id": "88BqC1reRQRe",
        "outputId": "97e21150-a671-489f-c215-bcac57485017"
      },
      "id": "88BqC1reRQRe",
      "execution_count": 51,
      "outputs": [
        {
          "output_type": "execute_result",
          "data": {
            "text/plain": [
              "array([ 41, 391, 153,  41, 502, 206,  77,  88, 236, 121,  30,  51,  77,\n",
              "        88, 236, 121,  30, 206, 698, 157,   4,  16,  32,   4,  16,   4,\n",
              "        16,   4,  16, 988, 126, 550, 192, 189, 364, 112, 151,  41,  41,\n",
              "        97, 433,  79, 151, 221, 513,  16,  16,  32,   4,  16,   4,  16,\n",
              "         4,  16, 988, 126, 550, 192, 189, 364, 112, 151,  41,  41,  97,\n",
              "       433,  79, 151, 221, 513,  16,   4,  16,  32, 371, 816, 463, 834,\n",
              "        41, 391, 153,  41, 199, 502, 206,  51,  77,  88, 236, 121,  30,\n",
              "       206, 698, 157,   4,  16,  32,   4,  16,   4,  16,   4,  16, 988,\n",
              "       126, 550, 192, 189, 364, 112, 151,  41,  41,  97, 433,  79, 151,\n",
              "       221, 513,  16,   4,  16,  32,  16,   4, 633, 216, 463, 184,  44,\n",
              "       328,   4, 371, 816, 463, 834,  41, 391, 153,  41, 199, 502, 206,\n",
              "        51,  77,  88, 236, 121,  30, 206, 698, 157,   4,  16,  32,   4,\n",
              "        16,   4,  16,   4,  16, 988, 126, 550, 192, 189, 364, 112, 151,\n",
              "        41,  41,  97, 433,  79, 151, 221, 513,  16,   4,  16,  32,  16,\n",
              "         4, 633, 216, 463, 184,  44, 328,   4,   4,   4,   4, 371, 816,\n",
              "       463, 834,  41, 391, 153,  41, 199, 502, 206,  51,  77,  88, 236,\n",
              "       121,  30, 206, 698, 157,   4,  16,  32,   4,  16,   4,  16,   4,\n",
              "        16, 988, 126, 550, 192, 189, 364, 112, 151,  41,  41,  97, 433,\n",
              "        79, 151, 221, 513,  16,   4,  16,  32,  16,   4, 633, 216, 463,\n",
              "       184,  44, 328,   4,   4,   4,   4, 716, 891], dtype=int32)"
            ]
          },
          "metadata": {},
          "execution_count": 51
        }
      ]
    },
    {
      "cell_type": "code",
      "execution_count": 52,
      "id": "37039bbe",
      "metadata": {
        "colab": {
          "base_uri": "https://localhost:8080/",
          "height": 835
        },
        "id": "37039bbe",
        "outputId": "f43e710d-650c-490f-fe57-6b042dbbfcda"
      },
      "outputs": [
        {
          "output_type": "execute_result",
          "data": {
            "text/plain": [
              "       Software_Developer  Database_Administrator  Systems_Administrator  \\\n",
              "0                       0                       1                      0   \n",
              "1                       0                       1                      0   \n",
              "2                       0                       1                      0   \n",
              "3                       0                       1                      0   \n",
              "4                       0                       1                      0   \n",
              "...                   ...                     ...                    ...   \n",
              "29778                   1                       0                      0   \n",
              "29779                   1                       0                      0   \n",
              "29780                   1                       0                      0   \n",
              "29781                   1                       0                      0   \n",
              "29782                   1                       0                      0   \n",
              "\n",
              "       Project_manager  Web_Developer  Network_Administrator  \\\n",
              "0                    0              0                      0   \n",
              "1                    0              0                      0   \n",
              "2                    0              0                      0   \n",
              "3                    0              0                      0   \n",
              "4                    0              0                      0   \n",
              "...                ...            ...                    ...   \n",
              "29778                0              1                      0   \n",
              "29779                0              1                      0   \n",
              "29780                0              1                      0   \n",
              "29781                0              1                      0   \n",
              "29782                0              1                      0   \n",
              "\n",
              "       Security_Analyst  Python_Developer  Java_Developer  \\\n",
              "0                     0                 0               0   \n",
              "1                     0                 0               0   \n",
              "2                     0                 0               0   \n",
              "3                     0                 0               0   \n",
              "4                     0                 0               0   \n",
              "...                 ...               ...             ...   \n",
              "29778                 0                 0               1   \n",
              "29779                 0                 0               0   \n",
              "29780                 0                 0               0   \n",
              "29781                 0                 0               0   \n",
              "29782                 0                 0               0   \n",
              "\n",
              "       Front_End_Developer                                               Ents  \\\n",
              "0                        0  [SQL, SSIS, OLTP, Backing, Generating, Log Shi...   \n",
              "1                        0  [Microsoft, XP Microsoft, Assembly Language Mi...   \n",
              "2                        0  [Carrier Objective, Experienced Creating Users...   \n",
              "3                        0  [Amazon Redshift Administrator, yearsPostgresS...   \n",
              "4                        0  [Scrum Master, Scrum Master, October  April  R...   \n",
              "...                    ...                                                ...   \n",
              "29778                    0  [ServiceNow DeveloperServiceNow DeveloperServi...   \n",
              "29779                    0  [DeveloperAndroid, DeveloperJoomla CMS, Samsun...   \n",
              "29780                    1  [UI, WEB, DeveloperVisual, Web Applications De...   \n",
              "29781                    0                           [September  July  , PHP]   \n",
              "29782                    0  [Sr Software, Web DeveloperWeb DeveloperWeb De...   \n",
              "\n",
              "                                                     new  \n",
              "0      sql ssis oltp backing generating log shipping ...  \n",
              "1      microsoft xp microsoft assembly language micro...  \n",
              "2      carrier objective experienced creating users r...  \n",
              "3      amazon redshift administrator redshift adminis...  \n",
              "4      scrum masterscrum master scrum master scrum ma...  \n",
              "...                                                  ...  \n",
              "29778  servicenow developerservicenow developerservic...  \n",
              "29779  developerandroid developerjoomla cms samsung w...  \n",
              "29780  ui web developervisual web applications develo...  \n",
              "29781                                                php  \n",
              "29782  sr software web developerweb developerweb deve...  \n",
              "\n",
              "[29783 rows x 12 columns]"
            ],
            "text/html": [
              "\n",
              "  <div id=\"df-e58d1c66-4036-4928-a321-dfa7fc1f9b06\">\n",
              "    <div class=\"colab-df-container\">\n",
              "      <div>\n",
              "<style scoped>\n",
              "    .dataframe tbody tr th:only-of-type {\n",
              "        vertical-align: middle;\n",
              "    }\n",
              "\n",
              "    .dataframe tbody tr th {\n",
              "        vertical-align: top;\n",
              "    }\n",
              "\n",
              "    .dataframe thead th {\n",
              "        text-align: right;\n",
              "    }\n",
              "</style>\n",
              "<table border=\"1\" class=\"dataframe\">\n",
              "  <thead>\n",
              "    <tr style=\"text-align: right;\">\n",
              "      <th></th>\n",
              "      <th>Software_Developer</th>\n",
              "      <th>Database_Administrator</th>\n",
              "      <th>Systems_Administrator</th>\n",
              "      <th>Project_manager</th>\n",
              "      <th>Web_Developer</th>\n",
              "      <th>Network_Administrator</th>\n",
              "      <th>Security_Analyst</th>\n",
              "      <th>Python_Developer</th>\n",
              "      <th>Java_Developer</th>\n",
              "      <th>Front_End_Developer</th>\n",
              "      <th>Ents</th>\n",
              "      <th>new</th>\n",
              "    </tr>\n",
              "  </thead>\n",
              "  <tbody>\n",
              "    <tr>\n",
              "      <th>0</th>\n",
              "      <td>0</td>\n",
              "      <td>1</td>\n",
              "      <td>0</td>\n",
              "      <td>0</td>\n",
              "      <td>0</td>\n",
              "      <td>0</td>\n",
              "      <td>0</td>\n",
              "      <td>0</td>\n",
              "      <td>0</td>\n",
              "      <td>0</td>\n",
              "      <td>[SQL, SSIS, OLTP, Backing, Generating, Log Shi...</td>\n",
              "      <td>sql ssis oltp backing generating log shipping ...</td>\n",
              "    </tr>\n",
              "    <tr>\n",
              "      <th>1</th>\n",
              "      <td>0</td>\n",
              "      <td>1</td>\n",
              "      <td>0</td>\n",
              "      <td>0</td>\n",
              "      <td>0</td>\n",
              "      <td>0</td>\n",
              "      <td>0</td>\n",
              "      <td>0</td>\n",
              "      <td>0</td>\n",
              "      <td>0</td>\n",
              "      <td>[Microsoft, XP Microsoft, Assembly Language Mi...</td>\n",
              "      <td>microsoft xp microsoft assembly language micro...</td>\n",
              "    </tr>\n",
              "    <tr>\n",
              "      <th>2</th>\n",
              "      <td>0</td>\n",
              "      <td>1</td>\n",
              "      <td>0</td>\n",
              "      <td>0</td>\n",
              "      <td>0</td>\n",
              "      <td>0</td>\n",
              "      <td>0</td>\n",
              "      <td>0</td>\n",
              "      <td>0</td>\n",
              "      <td>0</td>\n",
              "      <td>[Carrier Objective, Experienced Creating Users...</td>\n",
              "      <td>carrier objective experienced creating users r...</td>\n",
              "    </tr>\n",
              "    <tr>\n",
              "      <th>3</th>\n",
              "      <td>0</td>\n",
              "      <td>1</td>\n",
              "      <td>0</td>\n",
              "      <td>0</td>\n",
              "      <td>0</td>\n",
              "      <td>0</td>\n",
              "      <td>0</td>\n",
              "      <td>0</td>\n",
              "      <td>0</td>\n",
              "      <td>0</td>\n",
              "      <td>[Amazon Redshift Administrator, yearsPostgresS...</td>\n",
              "      <td>amazon redshift administrator redshift adminis...</td>\n",
              "    </tr>\n",
              "    <tr>\n",
              "      <th>4</th>\n",
              "      <td>0</td>\n",
              "      <td>1</td>\n",
              "      <td>0</td>\n",
              "      <td>0</td>\n",
              "      <td>0</td>\n",
              "      <td>0</td>\n",
              "      <td>0</td>\n",
              "      <td>0</td>\n",
              "      <td>0</td>\n",
              "      <td>0</td>\n",
              "      <td>[Scrum Master, Scrum Master, October  April  R...</td>\n",
              "      <td>scrum masterscrum master scrum master scrum ma...</td>\n",
              "    </tr>\n",
              "    <tr>\n",
              "      <th>...</th>\n",
              "      <td>...</td>\n",
              "      <td>...</td>\n",
              "      <td>...</td>\n",
              "      <td>...</td>\n",
              "      <td>...</td>\n",
              "      <td>...</td>\n",
              "      <td>...</td>\n",
              "      <td>...</td>\n",
              "      <td>...</td>\n",
              "      <td>...</td>\n",
              "      <td>...</td>\n",
              "      <td>...</td>\n",
              "    </tr>\n",
              "    <tr>\n",
              "      <th>29778</th>\n",
              "      <td>1</td>\n",
              "      <td>0</td>\n",
              "      <td>0</td>\n",
              "      <td>0</td>\n",
              "      <td>1</td>\n",
              "      <td>0</td>\n",
              "      <td>0</td>\n",
              "      <td>0</td>\n",
              "      <td>1</td>\n",
              "      <td>0</td>\n",
              "      <td>[ServiceNow DeveloperServiceNow DeveloperServi...</td>\n",
              "      <td>servicenow developerservicenow developerservic...</td>\n",
              "    </tr>\n",
              "    <tr>\n",
              "      <th>29779</th>\n",
              "      <td>1</td>\n",
              "      <td>0</td>\n",
              "      <td>0</td>\n",
              "      <td>0</td>\n",
              "      <td>1</td>\n",
              "      <td>0</td>\n",
              "      <td>0</td>\n",
              "      <td>0</td>\n",
              "      <td>0</td>\n",
              "      <td>0</td>\n",
              "      <td>[DeveloperAndroid, DeveloperJoomla CMS, Samsun...</td>\n",
              "      <td>developerandroid developerjoomla cms samsung w...</td>\n",
              "    </tr>\n",
              "    <tr>\n",
              "      <th>29780</th>\n",
              "      <td>1</td>\n",
              "      <td>0</td>\n",
              "      <td>0</td>\n",
              "      <td>0</td>\n",
              "      <td>1</td>\n",
              "      <td>0</td>\n",
              "      <td>0</td>\n",
              "      <td>0</td>\n",
              "      <td>0</td>\n",
              "      <td>1</td>\n",
              "      <td>[UI, WEB, DeveloperVisual, Web Applications De...</td>\n",
              "      <td>ui web developervisual web applications develo...</td>\n",
              "    </tr>\n",
              "    <tr>\n",
              "      <th>29781</th>\n",
              "      <td>1</td>\n",
              "      <td>0</td>\n",
              "      <td>0</td>\n",
              "      <td>0</td>\n",
              "      <td>1</td>\n",
              "      <td>0</td>\n",
              "      <td>0</td>\n",
              "      <td>0</td>\n",
              "      <td>0</td>\n",
              "      <td>0</td>\n",
              "      <td>[September  July  , PHP]</td>\n",
              "      <td>php</td>\n",
              "    </tr>\n",
              "    <tr>\n",
              "      <th>29782</th>\n",
              "      <td>1</td>\n",
              "      <td>0</td>\n",
              "      <td>0</td>\n",
              "      <td>0</td>\n",
              "      <td>1</td>\n",
              "      <td>0</td>\n",
              "      <td>0</td>\n",
              "      <td>0</td>\n",
              "      <td>0</td>\n",
              "      <td>0</td>\n",
              "      <td>[Sr Software, Web DeveloperWeb DeveloperWeb De...</td>\n",
              "      <td>sr software web developerweb developerweb deve...</td>\n",
              "    </tr>\n",
              "  </tbody>\n",
              "</table>\n",
              "<p>29783 rows × 12 columns</p>\n",
              "</div>\n",
              "      <button class=\"colab-df-convert\" onclick=\"convertToInteractive('df-e58d1c66-4036-4928-a321-dfa7fc1f9b06')\"\n",
              "              title=\"Convert this dataframe to an interactive table.\"\n",
              "              style=\"display:none;\">\n",
              "        \n",
              "  <svg xmlns=\"http://www.w3.org/2000/svg\" height=\"24px\"viewBox=\"0 0 24 24\"\n",
              "       width=\"24px\">\n",
              "    <path d=\"M0 0h24v24H0V0z\" fill=\"none\"/>\n",
              "    <path d=\"M18.56 5.44l.94 2.06.94-2.06 2.06-.94-2.06-.94-.94-2.06-.94 2.06-2.06.94zm-11 1L8.5 8.5l.94-2.06 2.06-.94-2.06-.94L8.5 2.5l-.94 2.06-2.06.94zm10 10l.94 2.06.94-2.06 2.06-.94-2.06-.94-.94-2.06-.94 2.06-2.06.94z\"/><path d=\"M17.41 7.96l-1.37-1.37c-.4-.4-.92-.59-1.43-.59-.52 0-1.04.2-1.43.59L10.3 9.45l-7.72 7.72c-.78.78-.78 2.05 0 2.83L4 21.41c.39.39.9.59 1.41.59.51 0 1.02-.2 1.41-.59l7.78-7.78 2.81-2.81c.8-.78.8-2.07 0-2.86zM5.41 20L4 18.59l7.72-7.72 1.47 1.35L5.41 20z\"/>\n",
              "  </svg>\n",
              "      </button>\n",
              "      \n",
              "  <style>\n",
              "    .colab-df-container {\n",
              "      display:flex;\n",
              "      flex-wrap:wrap;\n",
              "      gap: 12px;\n",
              "    }\n",
              "\n",
              "    .colab-df-convert {\n",
              "      background-color: #E8F0FE;\n",
              "      border: none;\n",
              "      border-radius: 50%;\n",
              "      cursor: pointer;\n",
              "      display: none;\n",
              "      fill: #1967D2;\n",
              "      height: 32px;\n",
              "      padding: 0 0 0 0;\n",
              "      width: 32px;\n",
              "    }\n",
              "\n",
              "    .colab-df-convert:hover {\n",
              "      background-color: #E2EBFA;\n",
              "      box-shadow: 0px 1px 2px rgba(60, 64, 67, 0.3), 0px 1px 3px 1px rgba(60, 64, 67, 0.15);\n",
              "      fill: #174EA6;\n",
              "    }\n",
              "\n",
              "    [theme=dark] .colab-df-convert {\n",
              "      background-color: #3B4455;\n",
              "      fill: #D2E3FC;\n",
              "    }\n",
              "\n",
              "    [theme=dark] .colab-df-convert:hover {\n",
              "      background-color: #434B5C;\n",
              "      box-shadow: 0px 1px 3px 1px rgba(0, 0, 0, 0.15);\n",
              "      filter: drop-shadow(0px 1px 2px rgba(0, 0, 0, 0.3));\n",
              "      fill: #FFFFFF;\n",
              "    }\n",
              "  </style>\n",
              "\n",
              "      <script>\n",
              "        const buttonEl =\n",
              "          document.querySelector('#df-e58d1c66-4036-4928-a321-dfa7fc1f9b06 button.colab-df-convert');\n",
              "        buttonEl.style.display =\n",
              "          google.colab.kernel.accessAllowed ? 'block' : 'none';\n",
              "\n",
              "        async function convertToInteractive(key) {\n",
              "          const element = document.querySelector('#df-e58d1c66-4036-4928-a321-dfa7fc1f9b06');\n",
              "          const dataTable =\n",
              "            await google.colab.kernel.invokeFunction('convertToInteractive',\n",
              "                                                     [key], {});\n",
              "          if (!dataTable) return;\n",
              "\n",
              "          const docLinkHtml = 'Like what you see? Visit the ' +\n",
              "            '<a target=\"_blank\" href=https://colab.research.google.com/notebooks/data_table.ipynb>data table notebook</a>'\n",
              "            + ' to learn more about interactive tables.';\n",
              "          element.innerHTML = '';\n",
              "          dataTable['output_type'] = 'display_data';\n",
              "          await google.colab.output.renderOutput(dataTable, element);\n",
              "          const docLink = document.createElement('div');\n",
              "          docLink.innerHTML = docLinkHtml;\n",
              "          element.appendChild(docLink);\n",
              "        }\n",
              "      </script>\n",
              "    </div>\n",
              "  </div>\n",
              "  "
            ]
          },
          "metadata": {},
          "execution_count": 52
        }
      ],
      "source": [
        "df"
      ]
    },
    {
      "cell_type": "code",
      "execution_count": 53,
      "id": "156dfef5",
      "metadata": {
        "colab": {
          "base_uri": "https://localhost:8080/",
          "height": 488
        },
        "id": "156dfef5",
        "outputId": "684c9597-145a-467c-bbba-99eb3f94d353"
      },
      "outputs": [
        {
          "output_type": "execute_result",
          "data": {
            "text/plain": [
              "       Software_Developer  Database_Administrator  Systems_Administrator  \\\n",
              "0                       0                       1                      0   \n",
              "1                       0                       1                      0   \n",
              "2                       0                       1                      0   \n",
              "3                       0                       1                      0   \n",
              "4                       0                       1                      0   \n",
              "...                   ...                     ...                    ...   \n",
              "29778                   1                       0                      0   \n",
              "29779                   1                       0                      0   \n",
              "29780                   1                       0                      0   \n",
              "29781                   1                       0                      0   \n",
              "29782                   1                       0                      0   \n",
              "\n",
              "       Project_manager  Web_Developer  Network_Administrator  \\\n",
              "0                    0              0                      0   \n",
              "1                    0              0                      0   \n",
              "2                    0              0                      0   \n",
              "3                    0              0                      0   \n",
              "4                    0              0                      0   \n",
              "...                ...            ...                    ...   \n",
              "29778                0              1                      0   \n",
              "29779                0              1                      0   \n",
              "29780                0              1                      0   \n",
              "29781                0              1                      0   \n",
              "29782                0              1                      0   \n",
              "\n",
              "       Security_Analyst  Python_Developer  Java_Developer  Front_End_Developer  \n",
              "0                     0                 0               0                    0  \n",
              "1                     0                 0               0                    0  \n",
              "2                     0                 0               0                    0  \n",
              "3                     0                 0               0                    0  \n",
              "4                     0                 0               0                    0  \n",
              "...                 ...               ...             ...                  ...  \n",
              "29778                 0                 0               1                    0  \n",
              "29779                 0                 0               0                    0  \n",
              "29780                 0                 0               0                    1  \n",
              "29781                 0                 0               0                    0  \n",
              "29782                 0                 0               0                    0  \n",
              "\n",
              "[29783 rows x 10 columns]"
            ],
            "text/html": [
              "\n",
              "  <div id=\"df-821db4f3-49e3-44dc-a2bb-b6ad3a8f1bf5\">\n",
              "    <div class=\"colab-df-container\">\n",
              "      <div>\n",
              "<style scoped>\n",
              "    .dataframe tbody tr th:only-of-type {\n",
              "        vertical-align: middle;\n",
              "    }\n",
              "\n",
              "    .dataframe tbody tr th {\n",
              "        vertical-align: top;\n",
              "    }\n",
              "\n",
              "    .dataframe thead th {\n",
              "        text-align: right;\n",
              "    }\n",
              "</style>\n",
              "<table border=\"1\" class=\"dataframe\">\n",
              "  <thead>\n",
              "    <tr style=\"text-align: right;\">\n",
              "      <th></th>\n",
              "      <th>Software_Developer</th>\n",
              "      <th>Database_Administrator</th>\n",
              "      <th>Systems_Administrator</th>\n",
              "      <th>Project_manager</th>\n",
              "      <th>Web_Developer</th>\n",
              "      <th>Network_Administrator</th>\n",
              "      <th>Security_Analyst</th>\n",
              "      <th>Python_Developer</th>\n",
              "      <th>Java_Developer</th>\n",
              "      <th>Front_End_Developer</th>\n",
              "    </tr>\n",
              "  </thead>\n",
              "  <tbody>\n",
              "    <tr>\n",
              "      <th>0</th>\n",
              "      <td>0</td>\n",
              "      <td>1</td>\n",
              "      <td>0</td>\n",
              "      <td>0</td>\n",
              "      <td>0</td>\n",
              "      <td>0</td>\n",
              "      <td>0</td>\n",
              "      <td>0</td>\n",
              "      <td>0</td>\n",
              "      <td>0</td>\n",
              "    </tr>\n",
              "    <tr>\n",
              "      <th>1</th>\n",
              "      <td>0</td>\n",
              "      <td>1</td>\n",
              "      <td>0</td>\n",
              "      <td>0</td>\n",
              "      <td>0</td>\n",
              "      <td>0</td>\n",
              "      <td>0</td>\n",
              "      <td>0</td>\n",
              "      <td>0</td>\n",
              "      <td>0</td>\n",
              "    </tr>\n",
              "    <tr>\n",
              "      <th>2</th>\n",
              "      <td>0</td>\n",
              "      <td>1</td>\n",
              "      <td>0</td>\n",
              "      <td>0</td>\n",
              "      <td>0</td>\n",
              "      <td>0</td>\n",
              "      <td>0</td>\n",
              "      <td>0</td>\n",
              "      <td>0</td>\n",
              "      <td>0</td>\n",
              "    </tr>\n",
              "    <tr>\n",
              "      <th>3</th>\n",
              "      <td>0</td>\n",
              "      <td>1</td>\n",
              "      <td>0</td>\n",
              "      <td>0</td>\n",
              "      <td>0</td>\n",
              "      <td>0</td>\n",
              "      <td>0</td>\n",
              "      <td>0</td>\n",
              "      <td>0</td>\n",
              "      <td>0</td>\n",
              "    </tr>\n",
              "    <tr>\n",
              "      <th>4</th>\n",
              "      <td>0</td>\n",
              "      <td>1</td>\n",
              "      <td>0</td>\n",
              "      <td>0</td>\n",
              "      <td>0</td>\n",
              "      <td>0</td>\n",
              "      <td>0</td>\n",
              "      <td>0</td>\n",
              "      <td>0</td>\n",
              "      <td>0</td>\n",
              "    </tr>\n",
              "    <tr>\n",
              "      <th>...</th>\n",
              "      <td>...</td>\n",
              "      <td>...</td>\n",
              "      <td>...</td>\n",
              "      <td>...</td>\n",
              "      <td>...</td>\n",
              "      <td>...</td>\n",
              "      <td>...</td>\n",
              "      <td>...</td>\n",
              "      <td>...</td>\n",
              "      <td>...</td>\n",
              "    </tr>\n",
              "    <tr>\n",
              "      <th>29778</th>\n",
              "      <td>1</td>\n",
              "      <td>0</td>\n",
              "      <td>0</td>\n",
              "      <td>0</td>\n",
              "      <td>1</td>\n",
              "      <td>0</td>\n",
              "      <td>0</td>\n",
              "      <td>0</td>\n",
              "      <td>1</td>\n",
              "      <td>0</td>\n",
              "    </tr>\n",
              "    <tr>\n",
              "      <th>29779</th>\n",
              "      <td>1</td>\n",
              "      <td>0</td>\n",
              "      <td>0</td>\n",
              "      <td>0</td>\n",
              "      <td>1</td>\n",
              "      <td>0</td>\n",
              "      <td>0</td>\n",
              "      <td>0</td>\n",
              "      <td>0</td>\n",
              "      <td>0</td>\n",
              "    </tr>\n",
              "    <tr>\n",
              "      <th>29780</th>\n",
              "      <td>1</td>\n",
              "      <td>0</td>\n",
              "      <td>0</td>\n",
              "      <td>0</td>\n",
              "      <td>1</td>\n",
              "      <td>0</td>\n",
              "      <td>0</td>\n",
              "      <td>0</td>\n",
              "      <td>0</td>\n",
              "      <td>1</td>\n",
              "    </tr>\n",
              "    <tr>\n",
              "      <th>29781</th>\n",
              "      <td>1</td>\n",
              "      <td>0</td>\n",
              "      <td>0</td>\n",
              "      <td>0</td>\n",
              "      <td>1</td>\n",
              "      <td>0</td>\n",
              "      <td>0</td>\n",
              "      <td>0</td>\n",
              "      <td>0</td>\n",
              "      <td>0</td>\n",
              "    </tr>\n",
              "    <tr>\n",
              "      <th>29782</th>\n",
              "      <td>1</td>\n",
              "      <td>0</td>\n",
              "      <td>0</td>\n",
              "      <td>0</td>\n",
              "      <td>1</td>\n",
              "      <td>0</td>\n",
              "      <td>0</td>\n",
              "      <td>0</td>\n",
              "      <td>0</td>\n",
              "      <td>0</td>\n",
              "    </tr>\n",
              "  </tbody>\n",
              "</table>\n",
              "<p>29783 rows × 10 columns</p>\n",
              "</div>\n",
              "      <button class=\"colab-df-convert\" onclick=\"convertToInteractive('df-821db4f3-49e3-44dc-a2bb-b6ad3a8f1bf5')\"\n",
              "              title=\"Convert this dataframe to an interactive table.\"\n",
              "              style=\"display:none;\">\n",
              "        \n",
              "  <svg xmlns=\"http://www.w3.org/2000/svg\" height=\"24px\"viewBox=\"0 0 24 24\"\n",
              "       width=\"24px\">\n",
              "    <path d=\"M0 0h24v24H0V0z\" fill=\"none\"/>\n",
              "    <path d=\"M18.56 5.44l.94 2.06.94-2.06 2.06-.94-2.06-.94-.94-2.06-.94 2.06-2.06.94zm-11 1L8.5 8.5l.94-2.06 2.06-.94-2.06-.94L8.5 2.5l-.94 2.06-2.06.94zm10 10l.94 2.06.94-2.06 2.06-.94-2.06-.94-.94-2.06-.94 2.06-2.06.94z\"/><path d=\"M17.41 7.96l-1.37-1.37c-.4-.4-.92-.59-1.43-.59-.52 0-1.04.2-1.43.59L10.3 9.45l-7.72 7.72c-.78.78-.78 2.05 0 2.83L4 21.41c.39.39.9.59 1.41.59.51 0 1.02-.2 1.41-.59l7.78-7.78 2.81-2.81c.8-.78.8-2.07 0-2.86zM5.41 20L4 18.59l7.72-7.72 1.47 1.35L5.41 20z\"/>\n",
              "  </svg>\n",
              "      </button>\n",
              "      \n",
              "  <style>\n",
              "    .colab-df-container {\n",
              "      display:flex;\n",
              "      flex-wrap:wrap;\n",
              "      gap: 12px;\n",
              "    }\n",
              "\n",
              "    .colab-df-convert {\n",
              "      background-color: #E8F0FE;\n",
              "      border: none;\n",
              "      border-radius: 50%;\n",
              "      cursor: pointer;\n",
              "      display: none;\n",
              "      fill: #1967D2;\n",
              "      height: 32px;\n",
              "      padding: 0 0 0 0;\n",
              "      width: 32px;\n",
              "    }\n",
              "\n",
              "    .colab-df-convert:hover {\n",
              "      background-color: #E2EBFA;\n",
              "      box-shadow: 0px 1px 2px rgba(60, 64, 67, 0.3), 0px 1px 3px 1px rgba(60, 64, 67, 0.15);\n",
              "      fill: #174EA6;\n",
              "    }\n",
              "\n",
              "    [theme=dark] .colab-df-convert {\n",
              "      background-color: #3B4455;\n",
              "      fill: #D2E3FC;\n",
              "    }\n",
              "\n",
              "    [theme=dark] .colab-df-convert:hover {\n",
              "      background-color: #434B5C;\n",
              "      box-shadow: 0px 1px 3px 1px rgba(0, 0, 0, 0.15);\n",
              "      filter: drop-shadow(0px 1px 2px rgba(0, 0, 0, 0.3));\n",
              "      fill: #FFFFFF;\n",
              "    }\n",
              "  </style>\n",
              "\n",
              "      <script>\n",
              "        const buttonEl =\n",
              "          document.querySelector('#df-821db4f3-49e3-44dc-a2bb-b6ad3a8f1bf5 button.colab-df-convert');\n",
              "        buttonEl.style.display =\n",
              "          google.colab.kernel.accessAllowed ? 'block' : 'none';\n",
              "\n",
              "        async function convertToInteractive(key) {\n",
              "          const element = document.querySelector('#df-821db4f3-49e3-44dc-a2bb-b6ad3a8f1bf5');\n",
              "          const dataTable =\n",
              "            await google.colab.kernel.invokeFunction('convertToInteractive',\n",
              "                                                     [key], {});\n",
              "          if (!dataTable) return;\n",
              "\n",
              "          const docLinkHtml = 'Like what you see? Visit the ' +\n",
              "            '<a target=\"_blank\" href=https://colab.research.google.com/notebooks/data_table.ipynb>data table notebook</a>'\n",
              "            + ' to learn more about interactive tables.';\n",
              "          element.innerHTML = '';\n",
              "          dataTable['output_type'] = 'display_data';\n",
              "          await google.colab.output.renderOutput(dataTable, element);\n",
              "          const docLink = document.createElement('div');\n",
              "          docLink.innerHTML = docLinkHtml;\n",
              "          element.appendChild(docLink);\n",
              "        }\n",
              "      </script>\n",
              "    </div>\n",
              "  </div>\n",
              "  "
            ]
          },
          "metadata": {},
          "execution_count": 53
        }
      ],
      "source": [
        " df[df.columns[:10]]"
      ]
    },
    {
      "cell_type": "code",
      "execution_count": 54,
      "id": "d750e8b8",
      "metadata": {
        "id": "d750e8b8"
      },
      "outputs": [],
      "source": [
        "from sklearn.model_selection import train_test_split\n",
        "X_train, X_test, y_train, y_test = train_test_split(\n",
        "x, df[df.columns[:10]], test_size=0.2, random_state=42, shuffle=True)"
      ]
    },
    {
      "cell_type": "code",
      "execution_count": 55,
      "id": "8762f7e0",
      "metadata": {
        "id": "8762f7e0"
      },
      "outputs": [],
      "source": [
        "from keras.models import Sequential\n",
        "from keras.layers import Dense, Embedding, GlobalMaxPool1D, Dropout\n",
        "from tensorflow.keras.optimizers import Adam\n",
        "from keras.regularizers import L2\n",
        "import tensorflow as tf"
      ]
    },
    {
      "cell_type": "code",
      "execution_count": 57,
      "id": "36556031",
      "metadata": {
        "id": "36556031"
      },
      "outputs": [],
      "source": [
        "model = Sequential()\n",
        "model.add(Embedding(1000,16, input_length=256))\n",
        "model.add(GlobalMaxPool1D())\n",
        "model.add(Dense(256,activation='sigmoid'))\n",
        "model.add(Dropout(0.25))\n",
        "model.add(Dense(128,activation='sigmoid'))\n",
        "model.add(Dropout(0.25))\n",
        "model.add(Dense(64,activation='sigmoid'))\n",
        "model.add(Dropout(0.25))\n",
        "model.add(Dense(64,activation='sigmoid'))\n",
        "model.add(Dropout(0.25))\n",
        "model.add(Dense(10, activation='sigmoid'))\n"
      ]
    },
    {
      "cell_type": "code",
      "execution_count": 58,
      "id": "887a8f96",
      "metadata": {
        "id": "887a8f96"
      },
      "outputs": [],
      "source": [
        "model.compile(optimizer='Adam',loss='binary_crossentropy', metrics=['Precision','Recall','AUC','Accuracy'])"
      ]
    },
    {
      "cell_type": "code",
      "source": [
        "from keras.utils.vis_utils import plot_model\n"
      ],
      "metadata": {
        "id": "OfES4aShG3Mi"
      },
      "id": "OfES4aShG3Mi",
      "execution_count": 59,
      "outputs": []
    },
    {
      "cell_type": "code",
      "source": [
        "plot_model(model, to_file='model_plot.png', show_shapes=True, show_layer_names=True)"
      ],
      "metadata": {
        "colab": {
          "base_uri": "https://localhost:8080/",
          "height": 1000
        },
        "id": "03B6kHNMGn5g",
        "outputId": "bc24857e-72ee-42bd-f7ab-ab92c3cea221"
      },
      "id": "03B6kHNMGn5g",
      "execution_count": 60,
      "outputs": [
        {
          "output_type": "execute_result",
          "data": {
            "text/plain": [
              "<IPython.core.display.Image object>"
            ],
            "image/png": "[encoded data removed]"
          },
          "metadata": {},
          "execution_count": 60
        }
      ]
    },
    {
      "cell_type": "code",
      "execution_count": 61,
      "id": "f8ac0f2c",
      "metadata": {
        "scrolled": true,
        "colab": {
          "base_uri": "https://localhost:8080/"
        },
        "id": "f8ac0f2c",
        "outputId": "2eb153ce-f40a-4098-eabf-7ddcbce6d4fc"
      },
      "outputs": [
        {
          "output_type": "execute_result",
          "data": {
            "text/plain": [
              "array([[  0,   0,   0, ..., 112, 112, 112],\n",
              "       [906,  32,  10, ..., 653, 423,  46],\n",
              "       [  0,   0,   0, ...,  16, 269, 178],\n",
              "       ...,\n",
              "       [  0,   0,   0, ..., 173,  30, 114],\n",
              "       [  0,   0,   0, ..., 381,  52,  85],\n",
              "       [450,  45,  14, ..., 439, 104, 629]], dtype=int32)"
            ]
          },
          "metadata": {},
          "execution_count": 61
        }
      ],
      "source": [
        "X_train"
      ]
    },
    {
      "cell_type": "code",
      "execution_count": 62,
      "id": "56a0eb98",
      "metadata": {
        "scrolled": true,
        "colab": {
          "base_uri": "https://localhost:8080/",
          "height": 488
        },
        "id": "56a0eb98",
        "outputId": "fca1cd31-cffb-47a7-d0ec-f13e9ed8a49d"
      },
      "outputs": [
        {
          "output_type": "execute_result",
          "data": {
            "text/plain": [
              "       Software_Developer  Database_Administrator  Systems_Administrator  \\\n",
              "1383                    0                       1                      0   \n",
              "26541                   0                       0                      1   \n",
              "2441                    0                       1                      0   \n",
              "21879                   1                       0                      0   \n",
              "25193                   0                       0                      1   \n",
              "...                   ...                     ...                    ...   \n",
              "21575                   1                       0                      0   \n",
              "5390                    1                       0                      0   \n",
              "860                     0                       1                      0   \n",
              "15795                   0                       0                      0   \n",
              "23654                   0                       0                      1   \n",
              "\n",
              "       Project_manager  Web_Developer  Network_Administrator  \\\n",
              "1383                 0              0                      0   \n",
              "26541                0              0                      0   \n",
              "2441                 0              0                      0   \n",
              "21879                0              0                      0   \n",
              "25193                0              0                      0   \n",
              "...                ...            ...                    ...   \n",
              "21575                0              0                      0   \n",
              "5390                 0              0                      0   \n",
              "860                  0              0                      0   \n",
              "15795                0              0                      1   \n",
              "23654                1              0                      0   \n",
              "\n",
              "       Security_Analyst  Python_Developer  Java_Developer  Front_End_Developer  \n",
              "1383                  0                 0               0                    0  \n",
              "26541                 0                 0               0                    0  \n",
              "2441                  0                 0               0                    0  \n",
              "21879                 0                 0               0                    0  \n",
              "25193                 0                 0               0                    0  \n",
              "...                 ...               ...             ...                  ...  \n",
              "21575                 0                 0               0                    0  \n",
              "5390                  0                 0               0                    1  \n",
              "860                   0                 0               0                    0  \n",
              "15795                 0                 0               0                    0  \n",
              "23654                 0                 0               0                    0  \n",
              "\n",
              "[23826 rows x 10 columns]"
            ],
            "text/html": [
              "\n",
              "  <div id=\"df-6e2561e6-0aef-4c31-97ae-c5558ce9f55e\">\n",
              "    <div class=\"colab-df-container\">\n",
              "      <div>\n",
              "<style scoped>\n",
              "    .dataframe tbody tr th:only-of-type {\n",
              "        vertical-align: middle;\n",
              "    }\n",
              "\n",
              "    .dataframe tbody tr th {\n",
              "        vertical-align: top;\n",
              "    }\n",
              "\n",
              "    .dataframe thead th {\n",
              "        text-align: right;\n",
              "    }\n",
              "</style>\n",
              "<table border=\"1\" class=\"dataframe\">\n",
              "  <thead>\n",
              "    <tr style=\"text-align: right;\">\n",
              "      <th></th>\n",
              "      <th>Software_Developer</th>\n",
              "      <th>Database_Administrator</th>\n",
              "      <th>Systems_Administrator</th>\n",
              "      <th>Project_manager</th>\n",
              "      <th>Web_Developer</th>\n",
              "      <th>Network_Administrator</th>\n",
              "      <th>Security_Analyst</th>\n",
              "      <th>Python_Developer</th>\n",
              "      <th>Java_Developer</th>\n",
              "      <th>Front_End_Developer</th>\n",
              "    </tr>\n",
              "  </thead>\n",
              "  <tbody>\n",
              "    <tr>\n",
              "      <th>1383</th>\n",
              "      <td>0</td>\n",
              "      <td>1</td>\n",
              "      <td>0</td>\n",
              "      <td>0</td>\n",
              "      <td>0</td>\n",
              "      <td>0</td>\n",
              "      <td>0</td>\n",
              "      <td>0</td>\n",
              "      <td>0</td>\n",
              "      <td>0</td>\n",
              "    </tr>\n",
              "    <tr>\n",
              "      <th>26541</th>\n",
              "      <td>0</td>\n",
              "      <td>0</td>\n",
              "      <td>1</td>\n",
              "      <td>0</td>\n",
              "      <td>0</td>\n",
              "      <td>0</td>\n",
              "      <td>0</td>\n",
              "      <td>0</td>\n",
              "      <td>0</td>\n",
              "      <td>0</td>\n",
              "    </tr>\n",
              "    <tr>\n",
              "      <th>2441</th>\n",
              "      <td>0</td>\n",
              "      <td>1</td>\n",
              "      <td>0</td>\n",
              "      <td>0</td>\n",
              "      <td>0</td>\n",
              "      <td>0</td>\n",
              "      <td>0</td>\n",
              "      <td>0</td>\n",
              "      <td>0</td>\n",
              "      <td>0</td>\n",
              "    </tr>\n",
              "    <tr>\n",
              "      <th>21879</th>\n",
              "      <td>1</td>\n",
              "      <td>0</td>\n",
              "      <td>0</td>\n",
              "      <td>0</td>\n",
              "      <td>0</td>\n",
              "      <td>0</td>\n",
              "      <td>0</td>\n",
              "      <td>0</td>\n",
              "      <td>0</td>\n",
              "      <td>0</td>\n",
              "    </tr>\n",
              "    <tr>\n",
              "      <th>25193</th>\n",
              "      <td>0</td>\n",
              "      <td>0</td>\n",
              "      <td>1</td>\n",
              "      <td>0</td>\n",
              "      <td>0</td>\n",
              "      <td>0</td>\n",
              "      <td>0</td>\n",
              "      <td>0</td>\n",
              "      <td>0</td>\n",
              "      <td>0</td>\n",
              "    </tr>\n",
              "    <tr>\n",
              "      <th>...</th>\n",
              "      <td>...</td>\n",
              "      <td>...</td>\n",
              "      <td>...</td>\n",
              "      <td>...</td>\n",
              "      <td>...</td>\n",
              "      <td>...</td>\n",
              "      <td>...</td>\n",
              "      <td>...</td>\n",
              "      <td>...</td>\n",
              "      <td>...</td>\n",
              "    </tr>\n",
              "    <tr>\n",
              "      <th>21575</th>\n",
              "      <td>1</td>\n",
              "      <td>0</td>\n",
              "      <td>0</td>\n",
              "      <td>0</td>\n",
              "      <td>0</td>\n",
              "      <td>0</td>\n",
              "      <td>0</td>\n",
              "      <td>0</td>\n",
              "      <td>0</td>\n",
              "      <td>0</td>\n",
              "    </tr>\n",
              "    <tr>\n",
              "      <th>5390</th>\n",
              "      <td>1</td>\n",
              "      <td>0</td>\n",
              "      <td>0</td>\n",
              "      <td>0</td>\n",
              "      <td>0</td>\n",
              "      <td>0</td>\n",
              "      <td>0</td>\n",
              "      <td>0</td>\n",
              "      <td>0</td>\n",
              "      <td>1</td>\n",
              "    </tr>\n",
              "    <tr>\n",
              "      <th>860</th>\n",
              "      <td>0</td>\n",
              "      <td>1</td>\n",
              "      <td>0</td>\n",
              "      <td>0</td>\n",
              "      <td>0</td>\n",
              "      <td>0</td>\n",
              "      <td>0</td>\n",
              "      <td>0</td>\n",
              "      <td>0</td>\n",
              "      <td>0</td>\n",
              "    </tr>\n",
              "    <tr>\n",
              "      <th>15795</th>\n",
              "      <td>0</td>\n",
              "      <td>0</td>\n",
              "      <td>0</td>\n",
              "      <td>0</td>\n",
              "      <td>0</td>\n",
              "      <td>1</td>\n",
              "      <td>0</td>\n",
              "      <td>0</td>\n",
              "      <td>0</td>\n",
              "      <td>0</td>\n",
              "    </tr>\n",
              "    <tr>\n",
              "      <th>23654</th>\n",
              "      <td>0</td>\n",
              "      <td>0</td>\n",
              "      <td>1</td>\n",
              "      <td>1</td>\n",
              "      <td>0</td>\n",
              "      <td>0</td>\n",
              "      <td>0</td>\n",
              "      <td>0</td>\n",
              "      <td>0</td>\n",
              "      <td>0</td>\n",
              "    </tr>\n",
              "  </tbody>\n",
              "</table>\n",
              "<p>23826 rows × 10 columns</p>\n",
              "</div>\n",
              "      <button class=\"colab-df-convert\" onclick=\"convertToInteractive('df-6e2561e6-0aef-4c31-97ae-c5558ce9f55e')\"\n",
              "              title=\"Convert this dataframe to an interactive table.\"\n",
              "              style=\"display:none;\">\n",
              "        \n",
              "  <svg xmlns=\"http://www.w3.org/2000/svg\" height=\"24px\"viewBox=\"0 0 24 24\"\n",
              "       width=\"24px\">\n",
              "    <path d=\"M0 0h24v24H0V0z\" fill=\"none\"/>\n",
              "    <path d=\"M18.56 5.44l.94 2.06.94-2.06 2.06-.94-2.06-.94-.94-2.06-.94 2.06-2.06.94zm-11 1L8.5 8.5l.94-2.06 2.06-.94-2.06-.94L8.5 2.5l-.94 2.06-2.06.94zm10 10l.94 2.06.94-2.06 2.06-.94-2.06-.94-.94-2.06-.94 2.06-2.06.94z\"/><path d=\"M17.41 7.96l-1.37-1.37c-.4-.4-.92-.59-1.43-.59-.52 0-1.04.2-1.43.59L10.3 9.45l-7.72 7.72c-.78.78-.78 2.05 0 2.83L4 21.41c.39.39.9.59 1.41.59.51 0 1.02-.2 1.41-.59l7.78-7.78 2.81-2.81c.8-.78.8-2.07 0-2.86zM5.41 20L4 18.59l7.72-7.72 1.47 1.35L5.41 20z\"/>\n",
              "  </svg>\n",
              "      </button>\n",
              "      \n",
              "  <style>\n",
              "    .colab-df-container {\n",
              "      display:flex;\n",
              "      flex-wrap:wrap;\n",
              "      gap: 12px;\n",
              "    }\n",
              "\n",
              "    .colab-df-convert {\n",
              "      background-color: #E8F0FE;\n",
              "      border: none;\n",
              "      border-radius: 50%;\n",
              "      cursor: pointer;\n",
              "      display: none;\n",
              "      fill: #1967D2;\n",
              "      height: 32px;\n",
              "      padding: 0 0 0 0;\n",
              "      width: 32px;\n",
              "    }\n",
              "\n",
              "    .colab-df-convert:hover {\n",
              "      background-color: #E2EBFA;\n",
              "      box-shadow: 0px 1px 2px rgba(60, 64, 67, 0.3), 0px 1px 3px 1px rgba(60, 64, 67, 0.15);\n",
              "      fill: #174EA6;\n",
              "    }\n",
              "\n",
              "    [theme=dark] .colab-df-convert {\n",
              "      background-color: #3B4455;\n",
              "      fill: #D2E3FC;\n",
              "    }\n",
              "\n",
              "    [theme=dark] .colab-df-convert:hover {\n",
              "      background-color: #434B5C;\n",
              "      box-shadow: 0px 1px 3px 1px rgba(0, 0, 0, 0.15);\n",
              "      filter: drop-shadow(0px 1px 2px rgba(0, 0, 0, 0.3));\n",
              "      fill: #FFFFFF;\n",
              "    }\n",
              "  </style>\n",
              "\n",
              "      <script>\n",
              "        const buttonEl =\n",
              "          document.querySelector('#df-6e2561e6-0aef-4c31-97ae-c5558ce9f55e button.colab-df-convert');\n",
              "        buttonEl.style.display =\n",
              "          google.colab.kernel.accessAllowed ? 'block' : 'none';\n",
              "\n",
              "        async function convertToInteractive(key) {\n",
              "          const element = document.querySelector('#df-6e2561e6-0aef-4c31-97ae-c5558ce9f55e');\n",
              "          const dataTable =\n",
              "            await google.colab.kernel.invokeFunction('convertToInteractive',\n",
              "                                                     [key], {});\n",
              "          if (!dataTable) return;\n",
              "\n",
              "          const docLinkHtml = 'Like what you see? Visit the ' +\n",
              "            '<a target=\"_blank\" href=https://colab.research.google.com/notebooks/data_table.ipynb>data table notebook</a>'\n",
              "            + ' to learn more about interactive tables.';\n",
              "          element.innerHTML = '';\n",
              "          dataTable['output_type'] = 'display_data';\n",
              "          await google.colab.output.renderOutput(dataTable, element);\n",
              "          const docLink = document.createElement('div');\n",
              "          docLink.innerHTML = docLinkHtml;\n",
              "          element.appendChild(docLink);\n",
              "        }\n",
              "      </script>\n",
              "    </div>\n",
              "  </div>\n",
              "  "
            ]
          },
          "metadata": {},
          "execution_count": 62
        }
      ],
      "source": [
        "y_train"
      ]
    },
    {
      "cell_type": "code",
      "execution_count": 63,
      "id": "3986151d",
      "metadata": {
        "id": "3986151d"
      },
      "outputs": [],
      "source": [
        "import numpy as np"
      ]
    },
    {
      "cell_type": "code",
      "execution_count": 64,
      "id": "19f956ba",
      "metadata": {
        "id": "19f956ba"
      },
      "outputs": [],
      "source": [
        "y =y_train.values.astype(np.float32)"
      ]
    },
    {
      "cell_type": "code",
      "execution_count": 65,
      "id": "75032583",
      "metadata": {
        "colab": {
          "base_uri": "https://localhost:8080/"
        },
        "id": "75032583",
        "outputId": "71dcb2f3-3036-4760-aa34-661dbda9fdd6"
      },
      "outputs": [
        {
          "output_type": "execute_result",
          "data": {
            "text/plain": [
              "array([[0., 1., 0., ..., 0., 0., 0.],\n",
              "       [0., 0., 1., ..., 0., 0., 0.],\n",
              "       [0., 1., 0., ..., 0., 0., 0.],\n",
              "       ...,\n",
              "       [0., 1., 0., ..., 0., 0., 0.],\n",
              "       [0., 0., 0., ..., 0., 0., 0.],\n",
              "       [0., 0., 1., ..., 0., 0., 0.]], dtype=float32)"
            ]
          },
          "metadata": {},
          "execution_count": 65
        }
      ],
      "source": [
        "y"
      ]
    },
    {
      "cell_type": "code",
      "execution_count": 66,
      "id": "551b2844",
      "metadata": {
        "colab": {
          "base_uri": "https://localhost:8080/"
        },
        "id": "551b2844",
        "outputId": "41f184d4-ec74-4150-ec9c-8b46d67211ea"
      },
      "outputs": [
        {
          "output_type": "stream",
          "name": "stdout",
          "text": [
            "Epoch 1/100\n",
            "745/745 [==============================] - 6s 6ms/step - loss: 0.4144 - precision: 0.5742 - recall: 0.2069 - auc: 0.7171 - Accuracy: 0.5383\n",
            "Epoch 2/100\n",
            "745/745 [==============================] - 4s 6ms/step - loss: 0.3046 - precision: 0.7654 - recall: 0.3585 - auc: 0.8711 - Accuracy: 0.6457\n",
            "Epoch 3/100\n",
            "745/745 [==============================] - 4s 6ms/step - loss: 0.2917 - precision: 0.7608 - recall: 0.3921 - auc: 0.8852 - Accuracy: 0.6695\n",
            "Epoch 4/100\n",
            "745/745 [==============================] - 4s 6ms/step - loss: 0.2848 - precision: 0.7670 - recall: 0.4139 - auc: 0.8921 - Accuracy: 0.6767\n",
            "Epoch 5/100\n",
            "745/745 [==============================] - 4s 6ms/step - loss: 0.2765 - precision: 0.7712 - recall: 0.4552 - auc: 0.9009 - Accuracy: 0.6895\n",
            "Epoch 6/100\n",
            "745/745 [==============================] - 4s 6ms/step - loss: 0.2688 - precision: 0.7828 - recall: 0.4830 - auc: 0.9079 - Accuracy: 0.7157\n",
            "Epoch 7/100\n",
            "745/745 [==============================] - 4s 6ms/step - loss: 0.2594 - precision: 0.7942 - recall: 0.5100 - auc: 0.9154 - Accuracy: 0.7397\n",
            "Epoch 8/100\n",
            "745/745 [==============================] - 4s 6ms/step - loss: 0.2510 - precision: 0.7899 - recall: 0.5362 - auc: 0.9220 - Accuracy: 0.7467\n",
            "Epoch 9/100\n",
            "745/745 [==============================] - 4s 6ms/step - loss: 0.2438 - precision: 0.7827 - recall: 0.5702 - auc: 0.9269 - Accuracy: 0.7523\n",
            "Epoch 10/100\n",
            "745/745 [==============================] - 4s 6ms/step - loss: 0.2382 - precision: 0.7773 - recall: 0.6094 - auc: 0.9306 - Accuracy: 0.7541\n",
            "Epoch 11/100\n",
            "745/745 [==============================] - 4s 6ms/step - loss: 0.2331 - precision: 0.7800 - recall: 0.6299 - auc: 0.9334 - Accuracy: 0.7626\n",
            "Epoch 12/100\n",
            "745/745 [==============================] - 4s 6ms/step - loss: 0.2290 - precision: 0.7845 - recall: 0.6432 - auc: 0.9359 - Accuracy: 0.7642\n",
            "Epoch 13/100\n",
            "745/745 [==============================] - 4s 6ms/step - loss: 0.2249 - precision: 0.7896 - recall: 0.6540 - auc: 0.9383 - Accuracy: 0.7637\n",
            "Epoch 14/100\n",
            "745/745 [==============================] - 4s 6ms/step - loss: 0.2219 - precision: 0.7945 - recall: 0.6603 - auc: 0.9398 - Accuracy: 0.7648\n",
            "Epoch 15/100\n",
            "745/745 [==============================] - 4s 6ms/step - loss: 0.2195 - precision: 0.7949 - recall: 0.6718 - auc: 0.9411 - Accuracy: 0.7673\n",
            "Epoch 16/100\n",
            "745/745 [==============================] - 4s 6ms/step - loss: 0.2173 - precision: 0.7982 - recall: 0.6750 - auc: 0.9423 - Accuracy: 0.7680\n",
            "Epoch 17/100\n",
            "745/745 [==============================] - 4s 6ms/step - loss: 0.2141 - precision: 0.8019 - recall: 0.6838 - auc: 0.9440 - Accuracy: 0.7611\n",
            "Epoch 18/100\n",
            "745/745 [==============================] - 4s 6ms/step - loss: 0.2125 - precision: 0.8050 - recall: 0.6855 - auc: 0.9449 - Accuracy: 0.7610\n",
            "Epoch 19/100\n",
            "745/745 [==============================] - 4s 6ms/step - loss: 0.2103 - precision: 0.8046 - recall: 0.6959 - auc: 0.9459 - Accuracy: 0.7594\n",
            "Epoch 20/100\n",
            "745/745 [==============================] - 4s 6ms/step - loss: 0.2095 - precision: 0.8056 - recall: 0.6979 - auc: 0.9463 - Accuracy: 0.7596\n",
            "Epoch 21/100\n",
            "745/745 [==============================] - 4s 6ms/step - loss: 0.2084 - precision: 0.8060 - recall: 0.6979 - auc: 0.9469 - Accuracy: 0.7581\n",
            "Epoch 22/100\n",
            "745/745 [==============================] - 4s 6ms/step - loss: 0.2061 - precision: 0.8098 - recall: 0.7005 - auc: 0.9480 - Accuracy: 0.7605\n",
            "Epoch 23/100\n",
            "745/745 [==============================] - 4s 6ms/step - loss: 0.2051 - precision: 0.8125 - recall: 0.7050 - auc: 0.9485 - Accuracy: 0.7627\n",
            "Epoch 24/100\n",
            "745/745 [==============================] - 4s 6ms/step - loss: 0.2039 - precision: 0.8143 - recall: 0.7059 - auc: 0.9490 - Accuracy: 0.7605\n",
            "Epoch 25/100\n",
            "745/745 [==============================] - 4s 6ms/step - loss: 0.2028 - precision: 0.8139 - recall: 0.7109 - auc: 0.9496 - Accuracy: 0.7615\n",
            "Epoch 26/100\n",
            "745/745 [==============================] - 4s 6ms/step - loss: 0.2010 - precision: 0.8174 - recall: 0.7142 - auc: 0.9506 - Accuracy: 0.7656\n",
            "Epoch 27/100\n",
            "745/745 [==============================] - 4s 6ms/step - loss: 0.1995 - precision: 0.8187 - recall: 0.7166 - auc: 0.9512 - Accuracy: 0.7646\n",
            "Epoch 28/100\n",
            "745/745 [==============================] - 4s 6ms/step - loss: 0.1988 - precision: 0.8211 - recall: 0.7149 - auc: 0.9517 - Accuracy: 0.7655\n",
            "Epoch 29/100\n",
            "745/745 [==============================] - 4s 6ms/step - loss: 0.1982 - precision: 0.8226 - recall: 0.7158 - auc: 0.9517 - Accuracy: 0.7684\n",
            "Epoch 30/100\n",
            "745/745 [==============================] - 4s 6ms/step - loss: 0.1970 - precision: 0.8244 - recall: 0.7231 - auc: 0.9523 - Accuracy: 0.7679\n",
            "Epoch 31/100\n",
            "745/745 [==============================] - 4s 6ms/step - loss: 0.1966 - precision: 0.8232 - recall: 0.7197 - auc: 0.9525 - Accuracy: 0.7693\n",
            "Epoch 32/100\n",
            "745/745 [==============================] - 4s 6ms/step - loss: 0.1956 - precision: 0.8264 - recall: 0.7220 - auc: 0.9528 - Accuracy: 0.7713\n",
            "Epoch 33/100\n",
            "745/745 [==============================] - 4s 6ms/step - loss: 0.1948 - precision: 0.8253 - recall: 0.7218 - auc: 0.9532 - Accuracy: 0.7743\n",
            "Epoch 34/100\n",
            "745/745 [==============================] - 4s 6ms/step - loss: 0.1931 - precision: 0.8276 - recall: 0.7232 - auc: 0.9542 - Accuracy: 0.7742\n",
            "Epoch 35/100\n",
            "745/745 [==============================] - 7s 9ms/step - loss: 0.1929 - precision: 0.8296 - recall: 0.7238 - auc: 0.9542 - Accuracy: 0.7747\n",
            "Epoch 36/100\n",
            "745/745 [==============================] - 8s 10ms/step - loss: 0.1922 - precision: 0.8312 - recall: 0.7266 - auc: 0.9546 - Accuracy: 0.7762\n",
            "Epoch 37/100\n",
            "745/745 [==============================] - 7s 9ms/step - loss: 0.1909 - precision: 0.8325 - recall: 0.7257 - auc: 0.9550 - Accuracy: 0.7752\n",
            "Epoch 38/100\n",
            "745/745 [==============================] - 4s 6ms/step - loss: 0.1910 - precision: 0.8332 - recall: 0.7234 - auc: 0.9552 - Accuracy: 0.7790\n",
            "Epoch 39/100\n",
            "745/745 [==============================] - 4s 6ms/step - loss: 0.1902 - precision: 0.8375 - recall: 0.7247 - auc: 0.9552 - Accuracy: 0.7796\n",
            "Epoch 40/100\n",
            "745/745 [==============================] - 4s 6ms/step - loss: 0.1890 - precision: 0.8385 - recall: 0.7271 - auc: 0.9559 - Accuracy: 0.7790\n",
            "Epoch 41/100\n",
            "745/745 [==============================] - 5s 6ms/step - loss: 0.1887 - precision: 0.8366 - recall: 0.7280 - auc: 0.9560 - Accuracy: 0.7818\n",
            "Epoch 42/100\n",
            "745/745 [==============================] - 4s 6ms/step - loss: 0.1883 - precision: 0.8397 - recall: 0.7284 - auc: 0.9563 - Accuracy: 0.7821\n",
            "Epoch 43/100\n",
            "745/745 [==============================] - 4s 6ms/step - loss: 0.1881 - precision: 0.8396 - recall: 0.7261 - auc: 0.9565 - Accuracy: 0.7805\n",
            "Epoch 44/100\n",
            "745/745 [==============================] - 4s 6ms/step - loss: 0.1878 - precision: 0.8409 - recall: 0.7261 - auc: 0.9566 - Accuracy: 0.7828\n",
            "Epoch 45/100\n",
            "745/745 [==============================] - 4s 6ms/step - loss: 0.1872 - precision: 0.8417 - recall: 0.7275 - auc: 0.9569 - Accuracy: 0.7827\n",
            "Epoch 46/100\n",
            "745/745 [==============================] - 4s 6ms/step - loss: 0.1870 - precision: 0.8416 - recall: 0.7296 - auc: 0.9568 - Accuracy: 0.7836\n",
            "Epoch 47/100\n",
            "745/745 [==============================] - 4s 6ms/step - loss: 0.1858 - precision: 0.8409 - recall: 0.7313 - auc: 0.9575 - Accuracy: 0.7833\n",
            "Epoch 48/100\n",
            "745/745 [==============================] - 4s 6ms/step - loss: 0.1857 - precision: 0.8427 - recall: 0.7320 - auc: 0.9575 - Accuracy: 0.7825\n",
            "Epoch 49/100\n",
            "745/745 [==============================] - 4s 6ms/step - loss: 0.1857 - precision: 0.8451 - recall: 0.7308 - auc: 0.9576 - Accuracy: 0.7837\n",
            "Epoch 50/100\n",
            "745/745 [==============================] - 4s 6ms/step - loss: 0.1848 - precision: 0.8429 - recall: 0.7315 - auc: 0.9580 - Accuracy: 0.7845\n",
            "Epoch 51/100\n",
            "745/745 [==============================] - 4s 6ms/step - loss: 0.1842 - precision: 0.8458 - recall: 0.7310 - auc: 0.9583 - Accuracy: 0.7864\n",
            "Epoch 52/100\n",
            "745/745 [==============================] - 5s 7ms/step - loss: 0.1837 - precision: 0.8441 - recall: 0.7345 - auc: 0.9584 - Accuracy: 0.7862\n",
            "Epoch 53/100\n",
            "745/745 [==============================] - 4s 6ms/step - loss: 0.1836 - precision: 0.8477 - recall: 0.7347 - auc: 0.9583 - Accuracy: 0.7877\n",
            "Epoch 54/100\n",
            "745/745 [==============================] - 4s 6ms/step - loss: 0.1833 - precision: 0.8464 - recall: 0.7370 - auc: 0.9585 - Accuracy: 0.7868\n",
            "Epoch 55/100\n",
            "745/745 [==============================] - 5s 6ms/step - loss: 0.1825 - precision: 0.8495 - recall: 0.7335 - auc: 0.9589 - Accuracy: 0.7882\n",
            "Epoch 56/100\n",
            "745/745 [==============================] - 5s 7ms/step - loss: 0.1826 - precision: 0.8475 - recall: 0.7369 - auc: 0.9589 - Accuracy: 0.7881\n",
            "Epoch 57/100\n",
            "745/745 [==============================] - 4s 6ms/step - loss: 0.1823 - precision: 0.8480 - recall: 0.7382 - auc: 0.9591 - Accuracy: 0.7917\n",
            "Epoch 58/100\n",
            "745/745 [==============================] - 4s 6ms/step - loss: 0.1819 - precision: 0.8489 - recall: 0.7376 - auc: 0.9593 - Accuracy: 0.7916\n",
            "Epoch 59/100\n",
            "745/745 [==============================] - 4s 6ms/step - loss: 0.1813 - precision: 0.8475 - recall: 0.7394 - auc: 0.9595 - Accuracy: 0.7902\n",
            "Epoch 60/100\n",
            "745/745 [==============================] - 4s 6ms/step - loss: 0.1808 - precision: 0.8507 - recall: 0.7386 - auc: 0.9597 - Accuracy: 0.7909\n",
            "Epoch 61/100\n",
            "745/745 [==============================] - 4s 6ms/step - loss: 0.1808 - precision: 0.8496 - recall: 0.7374 - auc: 0.9597 - Accuracy: 0.7916\n",
            "Epoch 62/100\n",
            "745/745 [==============================] - 5s 6ms/step - loss: 0.1810 - precision: 0.8518 - recall: 0.7386 - auc: 0.9596 - Accuracy: 0.7932\n",
            "Epoch 63/100\n",
            "745/745 [==============================] - 4s 6ms/step - loss: 0.1800 - precision: 0.8514 - recall: 0.7400 - auc: 0.9600 - Accuracy: 0.7914\n",
            "Epoch 64/100\n",
            "745/745 [==============================] - 5s 6ms/step - loss: 0.1801 - precision: 0.8492 - recall: 0.7403 - auc: 0.9599 - Accuracy: 0.7927\n",
            "Epoch 65/100\n",
            "745/745 [==============================] - 5s 6ms/step - loss: 0.1794 - precision: 0.8522 - recall: 0.7412 - auc: 0.9605 - Accuracy: 0.7933\n",
            "Epoch 66/100\n",
            "745/745 [==============================] - 4s 6ms/step - loss: 0.1792 - precision: 0.8522 - recall: 0.7411 - auc: 0.9603 - Accuracy: 0.7946\n",
            "Epoch 67/100\n",
            "745/745 [==============================] - 5s 6ms/step - loss: 0.1790 - precision: 0.8514 - recall: 0.7432 - auc: 0.9605 - Accuracy: 0.7955\n",
            "Epoch 68/100\n",
            "745/745 [==============================] - 5s 6ms/step - loss: 0.1789 - precision: 0.8542 - recall: 0.7433 - auc: 0.9605 - Accuracy: 0.7937\n",
            "Epoch 69/100\n",
            "745/745 [==============================] - 4s 6ms/step - loss: 0.1788 - precision: 0.8526 - recall: 0.7412 - auc: 0.9605 - Accuracy: 0.7980\n",
            "Epoch 70/100\n",
            "745/745 [==============================] - 4s 6ms/step - loss: 0.1782 - precision: 0.8521 - recall: 0.7440 - auc: 0.9609 - Accuracy: 0.7955\n",
            "Epoch 71/100\n",
            "745/745 [==============================] - 4s 6ms/step - loss: 0.1778 - precision: 0.8541 - recall: 0.7453 - auc: 0.9609 - Accuracy: 0.7987\n",
            "Epoch 72/100\n",
            "745/745 [==============================] - 4s 6ms/step - loss: 0.1773 - precision: 0.8551 - recall: 0.7447 - auc: 0.9614 - Accuracy: 0.7979\n",
            "Epoch 73/100\n",
            "745/745 [==============================] - 4s 6ms/step - loss: 0.1781 - precision: 0.8533 - recall: 0.7426 - auc: 0.9609 - Accuracy: 0.7968\n",
            "Epoch 74/100\n",
            "745/745 [==============================] - 4s 6ms/step - loss: 0.1773 - precision: 0.8550 - recall: 0.7466 - auc: 0.9611 - Accuracy: 0.7983\n",
            "Epoch 75/100\n",
            "745/745 [==============================] - 4s 6ms/step - loss: 0.1768 - precision: 0.8540 - recall: 0.7466 - auc: 0.9614 - Accuracy: 0.7991\n",
            "Epoch 76/100\n",
            "745/745 [==============================] - 4s 6ms/step - loss: 0.1763 - precision: 0.8537 - recall: 0.7456 - auc: 0.9618 - Accuracy: 0.7976\n",
            "Epoch 77/100\n",
            "745/745 [==============================] - 4s 6ms/step - loss: 0.1767 - precision: 0.8535 - recall: 0.7475 - auc: 0.9616 - Accuracy: 0.7976\n",
            "Epoch 78/100\n",
            "745/745 [==============================] - 4s 6ms/step - loss: 0.1765 - precision: 0.8557 - recall: 0.7493 - auc: 0.9617 - Accuracy: 0.8023\n",
            "Epoch 79/100\n",
            "745/745 [==============================] - 4s 6ms/step - loss: 0.1759 - precision: 0.8546 - recall: 0.7490 - auc: 0.9618 - Accuracy: 0.8015\n",
            "Epoch 80/100\n",
            "745/745 [==============================] - 4s 6ms/step - loss: 0.1762 - precision: 0.8548 - recall: 0.7471 - auc: 0.9616 - Accuracy: 0.8010\n",
            "Epoch 81/100\n",
            "745/745 [==============================] - 4s 6ms/step - loss: 0.1759 - precision: 0.8553 - recall: 0.7483 - auc: 0.9618 - Accuracy: 0.7998\n",
            "Epoch 82/100\n",
            "745/745 [==============================] - 4s 6ms/step - loss: 0.1752 - precision: 0.8568 - recall: 0.7473 - auc: 0.9621 - Accuracy: 0.8002\n",
            "Epoch 83/100\n",
            "745/745 [==============================] - 4s 6ms/step - loss: 0.1748 - precision: 0.8549 - recall: 0.7524 - auc: 0.9622 - Accuracy: 0.8012\n",
            "Epoch 84/100\n",
            "745/745 [==============================] - 4s 6ms/step - loss: 0.1746 - precision: 0.8551 - recall: 0.7501 - auc: 0.9626 - Accuracy: 0.7994\n",
            "Epoch 85/100\n",
            "745/745 [==============================] - 4s 6ms/step - loss: 0.1743 - precision: 0.8573 - recall: 0.7523 - auc: 0.9625 - Accuracy: 0.8025\n",
            "Epoch 86/100\n",
            "745/745 [==============================] - 4s 6ms/step - loss: 0.1747 - precision: 0.8562 - recall: 0.7492 - auc: 0.9622 - Accuracy: 0.8010\n",
            "Epoch 87/100\n",
            "745/745 [==============================] - 4s 6ms/step - loss: 0.1741 - precision: 0.8555 - recall: 0.7520 - auc: 0.9626 - Accuracy: 0.8032\n",
            "Epoch 88/100\n",
            "745/745 [==============================] - 4s 6ms/step - loss: 0.1734 - precision: 0.8577 - recall: 0.7541 - auc: 0.9628 - Accuracy: 0.8026\n",
            "Epoch 89/100\n",
            "745/745 [==============================] - 4s 6ms/step - loss: 0.1742 - precision: 0.8552 - recall: 0.7501 - auc: 0.9627 - Accuracy: 0.8002\n",
            "Epoch 90/100\n",
            "745/745 [==============================] - 4s 6ms/step - loss: 0.1730 - precision: 0.8562 - recall: 0.7544 - auc: 0.9630 - Accuracy: 0.8045\n",
            "Epoch 91/100\n",
            "745/745 [==============================] - 4s 6ms/step - loss: 0.1730 - precision: 0.8573 - recall: 0.7530 - auc: 0.9632 - Accuracy: 0.8033\n",
            "Epoch 92/100\n",
            "745/745 [==============================] - 4s 6ms/step - loss: 0.1733 - precision: 0.8563 - recall: 0.7536 - auc: 0.9630 - Accuracy: 0.8039\n",
            "Epoch 93/100\n",
            "745/745 [==============================] - 4s 6ms/step - loss: 0.1726 - precision: 0.8585 - recall: 0.7552 - auc: 0.9632 - Accuracy: 0.8046\n",
            "Epoch 94/100\n",
            "745/745 [==============================] - 4s 6ms/step - loss: 0.1720 - precision: 0.8553 - recall: 0.7553 - auc: 0.9635 - Accuracy: 0.8021\n",
            "Epoch 95/100\n",
            "745/745 [==============================] - 4s 6ms/step - loss: 0.1724 - precision: 0.8565 - recall: 0.7561 - auc: 0.9633 - Accuracy: 0.8076\n",
            "Epoch 96/100\n",
            "745/745 [==============================] - 4s 6ms/step - loss: 0.1727 - precision: 0.8577 - recall: 0.7546 - auc: 0.9631 - Accuracy: 0.8029\n",
            "Epoch 97/100\n",
            "745/745 [==============================] - 4s 6ms/step - loss: 0.1719 - precision: 0.8586 - recall: 0.7558 - auc: 0.9636 - Accuracy: 0.8059\n",
            "Epoch 98/100\n",
            "745/745 [==============================] - 4s 6ms/step - loss: 0.1719 - precision: 0.8565 - recall: 0.7562 - auc: 0.9634 - Accuracy: 0.8063\n",
            "Epoch 99/100\n",
            "745/745 [==============================] - 4s 6ms/step - loss: 0.1717 - precision: 0.8583 - recall: 0.7565 - auc: 0.9636 - Accuracy: 0.8047\n",
            "Epoch 100/100\n",
            "745/745 [==============================] - 5s 6ms/step - loss: 0.1715 - precision: 0.8595 - recall: 0.7563 - auc: 0.9637 - Accuracy: 0.8071\n"
          ]
        }
      ],
      "source": [
        "history=model.fit(X_train,y,epochs=100)"
      ]
    },
    {
      "cell_type": "code",
      "execution_count": 67,
      "id": "c68d5dfc",
      "metadata": {
        "colab": {
          "base_uri": "https://localhost:8080/"
        },
        "id": "c68d5dfc",
        "outputId": "1368abdd-2c11-4097-fc44-4547660a9004"
      },
      "outputs": [
        {
          "output_type": "stream",
          "name": "stdout",
          "text": [
            "187/187 [==============================] - 1s 4ms/step - loss: 0.1948 - precision: 0.8269 - recall: 0.7349 - auc: 0.9532 - Accuracy: 0.7789\n"
          ]
        },
        {
          "output_type": "execute_result",
          "data": {
            "text/plain": [
              "[0.1948038935661316,\n",
              " 0.8268717527389526,\n",
              " 0.734883725643158,\n",
              " 0.9531776309013367,\n",
              " 0.7789155840873718]"
            ]
          },
          "metadata": {},
          "execution_count": 67
        }
      ],
      "source": [
        "model.evaluate(X_test,y_test)"
      ]
    },
    {
      "cell_type": "code",
      "execution_count": 68,
      "id": "91e7ea70",
      "metadata": {
        "id": "91e7ea70"
      },
      "outputs": [],
      "source": [
        "import matplotlib.pyplot as plt"
      ]
    },
    {
      "cell_type": "code",
      "source": [
        "plt.plot(history.history['precision'],label='Precision')\n",
        "plt.plot(history.history['recall'],label='Recall')\n",
        "plt.plot(history.history['Accuracy'],label='Accuracy')\n",
        "plt.plot(history.history['loss'],label='Loss')\n",
        "plt.plot(history.history['auc'],label='auc')\n",
        "plt.legend()"
      ],
      "metadata": {
        "colab": {
          "base_uri": "https://localhost:8080/",
          "height": 286
        },
        "id": "ECYMAjiQSOal",
        "outputId": "9e87f785-4f6f-4942-c1aa-b6700b989d08"
      },
      "id": "ECYMAjiQSOal",
      "execution_count": 69,
      "outputs": [
        {
          "output_type": "execute_result",
          "data": {
            "text/plain": [
              "<matplotlib.legend.Legend at 0x7fc24a96cf90>"
            ]
          },
          "metadata": {},
          "execution_count": 69
        },
        {
          "output_type": "display_data",
          "data": {
            "text/plain": [
              "<Figure size 432x288 with 1 Axes>"
            ],
            "image/png": "[encoded data removed]"
          },
          "metadata": {
            "needs_background": "light"
          }
        }
      ]
    },
    {
      "cell_type": "code",
      "source": [
        "y_test=y_test.values.astype(np.float32)"
      ],
      "metadata": {
        "id": "A2S5pZE55jnv"
      },
      "id": "A2S5pZE55jnv",
      "execution_count": 70,
      "outputs": []
    },
    {
      "cell_type": "code",
      "source": [
        "y_test"
      ],
      "metadata": {
        "colab": {
          "base_uri": "https://localhost:8080/"
        },
        "id": "V-2Gevky6Uit",
        "outputId": "f58bc6b3-6869-4cd8-db18-e68e96f75aaf"
      },
      "id": "V-2Gevky6Uit",
      "execution_count": 71,
      "outputs": [
        {
          "output_type": "execute_result",
          "data": {
            "text/plain": [
              "array([[1., 0., 0., ..., 0., 1., 0.],\n",
              "       [1., 1., 0., ..., 0., 0., 0.],\n",
              "       [0., 0., 0., ..., 0., 0., 0.],\n",
              "       ...,\n",
              "       [0., 0., 0., ..., 0., 0., 0.],\n",
              "       [0., 0., 0., ..., 0., 0., 0.],\n",
              "       [1., 0., 0., ..., 0., 0., 0.]], dtype=float32)"
            ]
          },
          "metadata": {},
          "execution_count": 71
        }
      ]
    },
    {
      "cell_type": "code",
      "source": [
        "y_pred=model.predict(X_test)"
      ],
      "metadata": {
        "id": "iImJghzJ5cYs"
      },
      "id": "iImJghzJ5cYs",
      "execution_count": 72,
      "outputs": []
    },
    {
      "cell_type": "code",
      "source": [
        "y_pred"
      ],
      "metadata": {
        "colab": {
          "base_uri": "https://localhost:8080/"
        },
        "id": "DlQ1Y5sa6D7C",
        "outputId": "a16d1929-adf1-4e5d-e1c1-7c0f1d168de8"
      },
      "id": "DlQ1Y5sa6D7C",
      "execution_count": 73,
      "outputs": [
        {
          "output_type": "execute_result",
          "data": {
            "text/plain": [
              "array([[9.9992716e-01, 5.6901533e-04, 2.0406535e-03, ..., 9.7242155e-04,\n",
              "        9.6786255e-01, 4.9705204e-02],\n",
              "       [7.3386043e-01, 4.6859160e-01, 1.2364821e-01, ..., 2.7643604e-02,\n",
              "        1.3667001e-01, 9.3689272e-03],\n",
              "       [5.3010613e-02, 2.9877800e-02, 4.3823400e-01, ..., 4.1440397e-04,\n",
              "        5.3562684e-04, 4.6496396e-04],\n",
              "       ...,\n",
              "       [1.6926771e-02, 2.4979704e-03, 2.4224038e-01, ..., 4.5578152e-05,\n",
              "        4.5323814e-05, 1.3150959e-04],\n",
              "       [1.2698462e-02, 1.3342680e-03, 5.0947040e-02, ..., 1.4496077e-04,\n",
              "        3.0225815e-06, 8.7791877e-06],\n",
              "       [9.8022926e-01, 1.4798542e-02, 2.1481790e-02, ..., 2.8038744e-02,\n",
              "        2.0346597e-02, 7.3981702e-02]], dtype=float32)"
            ]
          },
          "metadata": {},
          "execution_count": 73
        }
      ]
    },
    {
      "cell_type": "code",
      "source": [
        "normalized = []\n",
        "for i in y_pred:\n",
        "    l = []\n",
        "    for j in i:\n",
        "        if j>=0.50:\n",
        "            l.append(1)\n",
        "        else:\n",
        "            l.append(0)\n",
        "    normalized.append(l)"
      ],
      "metadata": {
        "id": "5wJculOm60zW"
      },
      "id": "5wJculOm60zW",
      "execution_count": 84,
      "outputs": []
    },
    {
      "cell_type": "code",
      "source": [
        "from sklearn.metrics import confusion_matrix\n",
        "from sklearn import metrics\n",
        "print(metrics.classification_report(y_test, normalized,target_names= classes))"
      ],
      "metadata": {
        "colab": {
          "base_uri": "https://localhost:8080/"
        },
        "id": "ZF3eMkCQ5O3E",
        "outputId": "28ec29dc-8d1d-4a96-e6f8-b19a382d3b15"
      },
      "id": "ZF3eMkCQ5O3E",
      "execution_count": 85,
      "outputs": [
        {
          "output_type": "stream",
          "name": "stdout",
          "text": [
            "                        precision    recall  f1-score   support\n",
            "\n",
            "    Software_Developer       0.95      0.93      0.94      2973\n",
            "Database_Administrator       0.80      0.75      0.78       621\n",
            " Systems_Administrator       0.73      0.60      0.66      1215\n",
            "       Project_manager       0.77      0.52      0.62       911\n",
            "         Web_Developer       0.71      0.63      0.67      1260\n",
            " Network_Administrator       0.73      0.64      0.68       937\n",
            "      Security_Analyst       0.74      0.57      0.64       605\n",
            "      Python_Developer       0.86      0.79      0.82       539\n",
            "        Java_Developer       0.85      0.76      0.80       680\n",
            "   Front_End_Developer       0.84      0.79      0.81       794\n",
            "\n",
            "             micro avg       0.83      0.73      0.78     10535\n",
            "             macro avg       0.80      0.70      0.74     10535\n",
            "          weighted avg       0.82      0.73      0.77     10535\n",
            "           samples avg       0.79      0.74      0.74     10535\n",
            "\n"
          ]
        },
        {
          "output_type": "stream",
          "name": "stderr",
          "text": [
            "/usr/local/lib/python3.7/dist-packages/sklearn/metrics/_classification.py:1318: UndefinedMetricWarning: Precision and F-score are ill-defined and being set to 0.0 in samples with no predicted labels. Use `zero_division` parameter to control this behavior.\n",
            "  _warn_prf(average, modifier, msg_start, len(result))\n",
            "/usr/local/lib/python3.7/dist-packages/sklearn/metrics/_classification.py:1318: UndefinedMetricWarning: Recall and F-score are ill-defined and being set to 0.0 in samples with no true labels. Use `zero_division` parameter to control this behavior.\n",
            "  _warn_prf(average, modifier, msg_start, len(result))\n"
          ]
        }
      ]
    },
    {
      "cell_type": "code",
      "source": [
        "import seaborn as sns\n",
        "import matplotlib.pyplot as plt\n",
        "from sklearn.metrics import multilabel_confusion_matrix\n"
      ],
      "metadata": {
        "id": "xGJ7CBlT5O6t"
      },
      "id": "xGJ7CBlT5O6t",
      "execution_count": 86,
      "outputs": []
    },
    {
      "cell_type": "code",
      "source": [
        "len(normalized)"
      ],
      "metadata": {
        "colab": {
          "base_uri": "https://localhost:8080/"
        },
        "id": "vupbHsKG-KyK",
        "outputId": "e72ada1a-326d-4596-e6bb-735b01513e2f"
      },
      "id": "vupbHsKG-KyK",
      "execution_count": 87,
      "outputs": [
        {
          "output_type": "execute_result",
          "data": {
            "text/plain": [
              "5957"
            ]
          },
          "metadata": {},
          "execution_count": 87
        }
      ]
    },
    {
      "cell_type": "code",
      "source": [
        "classes"
      ],
      "metadata": {
        "colab": {
          "base_uri": "https://localhost:8080/"
        },
        "id": "_S1WGblh_OzS",
        "outputId": "bed0a38d-565a-4954-a480-25862426c0e5"
      },
      "id": "_S1WGblh_OzS",
      "execution_count": 88,
      "outputs": [
        {
          "output_type": "execute_result",
          "data": {
            "text/plain": [
              "['Software_Developer',\n",
              " 'Database_Administrator',\n",
              " 'Systems_Administrator',\n",
              " 'Project_manager',\n",
              " 'Web_Developer',\n",
              " 'Network_Administrator',\n",
              " 'Security_Analyst',\n",
              " 'Python_Developer',\n",
              " 'Java_Developer',\n",
              " 'Front_End_Developer']"
            ]
          },
          "metadata": {},
          "execution_count": 88
        }
      ]
    },
    {
      "cell_type": "code",
      "source": [
        "conf_mat = multilabel_confusion_matrix(y_test,normalized)\n",
        "fig, ax = plt.subplots(figsize=(8,8))\n",
        "sns.heatmap(conf_mat,xticklabels=classes, yticklabels=classes)\n",
        "plt.ylabel('Actual')\n",
        "plt.xlabel('Predicted')\n",
        "plt.title(\"CONFUSION MATRIX - DNN\", size=16)"
      ],
      "metadata": {
        "colab": {
          "base_uri": "https://localhost:8080/",
          "height": 851
        },
        "id": "V-Wus5bP5O_x",
        "outputId": "40c39443-bb10-430b-f48d-d4bc3b8b30df"
      },
      "id": "V-Wus5bP5O_x",
      "execution_count": 89,
      "outputs": [
        {
          "output_type": "error",
          "ename": "ValueError",
          "evalue": "ignored",
          "traceback": [
            "\u001b[0;31m---------------------------------------------------------------------------\u001b[0m",
            "\u001b[0;31mValueError\u001b[0m                                Traceback (most recent call last)",
            "\u001b[0;32m<ipython-input-89-6c05b7d4c2a3>\u001b[0m in \u001b[0;36m<module>\u001b[0;34m()\u001b[0m\n\u001b[1;32m      1\u001b[0m \u001b[0mconf_mat\u001b[0m \u001b[0;34m=\u001b[0m \u001b[0mmultilabel_confusion_matrix\u001b[0m\u001b[0;34m(\u001b[0m\u001b[0my_test\u001b[0m\u001b[0;34m,\u001b[0m\u001b[0mnormalized\u001b[0m\u001b[0;34m)\u001b[0m\u001b[0;34m\u001b[0m\u001b[0;34m\u001b[0m\u001b[0m\n\u001b[1;32m      2\u001b[0m \u001b[0mfig\u001b[0m\u001b[0;34m,\u001b[0m \u001b[0max\u001b[0m \u001b[0;34m=\u001b[0m \u001b[0mplt\u001b[0m\u001b[0;34m.\u001b[0m\u001b[0msubplots\u001b[0m\u001b[0;34m(\u001b[0m\u001b[0mfigsize\u001b[0m\u001b[0;34m=\u001b[0m\u001b[0;34m(\u001b[0m\u001b[0;36m8\u001b[0m\u001b[0;34m,\u001b[0m\u001b[0;36m8\u001b[0m\u001b[0;34m)\u001b[0m\u001b[0;34m)\u001b[0m\u001b[0;34m\u001b[0m\u001b[0;34m\u001b[0m\u001b[0m\n\u001b[0;32m----> 3\u001b[0;31m \u001b[0msns\u001b[0m\u001b[0;34m.\u001b[0m\u001b[0mheatmap\u001b[0m\u001b[0;34m(\u001b[0m\u001b[0mconf_mat\u001b[0m\u001b[0;34m,\u001b[0m\u001b[0mxticklabels\u001b[0m\u001b[0;34m=\u001b[0m\u001b[0mclasses\u001b[0m\u001b[0;34m,\u001b[0m \u001b[0myticklabels\u001b[0m\u001b[0;34m=\u001b[0m\u001b[0mclasses\u001b[0m\u001b[0;34m)\u001b[0m\u001b[0;34m\u001b[0m\u001b[0;34m\u001b[0m\u001b[0m\n\u001b[0m\u001b[1;32m      4\u001b[0m \u001b[0mplt\u001b[0m\u001b[0;34m.\u001b[0m\u001b[0mylabel\u001b[0m\u001b[0;34m(\u001b[0m\u001b[0;34m'Actual'\u001b[0m\u001b[0;34m)\u001b[0m\u001b[0;34m\u001b[0m\u001b[0;34m\u001b[0m\u001b[0m\n\u001b[1;32m      5\u001b[0m \u001b[0mplt\u001b[0m\u001b[0;34m.\u001b[0m\u001b[0mxlabel\u001b[0m\u001b[0;34m(\u001b[0m\u001b[0;34m'Predicted'\u001b[0m\u001b[0;34m)\u001b[0m\u001b[0;34m\u001b[0m\u001b[0;34m\u001b[0m\u001b[0m\n",
            "\u001b[0;32m/usr/local/lib/python3.7/dist-packages/seaborn/_decorators.py\u001b[0m in \u001b[0;36minner_f\u001b[0;34m(*args, **kwargs)\u001b[0m\n\u001b[1;32m     44\u001b[0m             )\n\u001b[1;32m     45\u001b[0m         \u001b[0mkwargs\u001b[0m\u001b[0;34m.\u001b[0m\u001b[0mupdate\u001b[0m\u001b[0;34m(\u001b[0m\u001b[0;34m{\u001b[0m\u001b[0mk\u001b[0m\u001b[0;34m:\u001b[0m \u001b[0marg\u001b[0m \u001b[0;32mfor\u001b[0m \u001b[0mk\u001b[0m\u001b[0;34m,\u001b[0m \u001b[0marg\u001b[0m \u001b[0;32min\u001b[0m \u001b[0mzip\u001b[0m\u001b[0;34m(\u001b[0m\u001b[0msig\u001b[0m\u001b[0;34m.\u001b[0m\u001b[0mparameters\u001b[0m\u001b[0;34m,\u001b[0m \u001b[0margs\u001b[0m\u001b[0;34m)\u001b[0m\u001b[0;34m}\u001b[0m\u001b[0;34m)\u001b[0m\u001b[0;34m\u001b[0m\u001b[0;34m\u001b[0m\u001b[0m\n\u001b[0;32m---> 46\u001b[0;31m         \u001b[0;32mreturn\u001b[0m \u001b[0mf\u001b[0m\u001b[0;34m(\u001b[0m\u001b[0;34m**\u001b[0m\u001b[0mkwargs\u001b[0m\u001b[0;34m)\u001b[0m\u001b[0;34m\u001b[0m\u001b[0;34m\u001b[0m\u001b[0m\n\u001b[0m\u001b[1;32m     47\u001b[0m     \u001b[0;32mreturn\u001b[0m \u001b[0minner_f\u001b[0m\u001b[0;34m\u001b[0m\u001b[0;34m\u001b[0m\u001b[0m\n\u001b[1;32m     48\u001b[0m \u001b[0;34m\u001b[0m\u001b[0m\n",
            "\u001b[0;32m/usr/local/lib/python3.7/dist-packages/seaborn/matrix.py\u001b[0m in \u001b[0;36mheatmap\u001b[0;34m(data, vmin, vmax, cmap, center, robust, annot, fmt, annot_kws, linewidths, linecolor, cbar, cbar_kws, cbar_ax, square, xticklabels, yticklabels, mask, ax, **kwargs)\u001b[0m\n\u001b[1;32m    540\u001b[0m     plotter = _HeatMapper(data, vmin, vmax, cmap, center, robust, annot, fmt,\n\u001b[1;32m    541\u001b[0m                           \u001b[0mannot_kws\u001b[0m\u001b[0;34m,\u001b[0m \u001b[0mcbar\u001b[0m\u001b[0;34m,\u001b[0m \u001b[0mcbar_kws\u001b[0m\u001b[0;34m,\u001b[0m \u001b[0mxticklabels\u001b[0m\u001b[0;34m,\u001b[0m\u001b[0;34m\u001b[0m\u001b[0;34m\u001b[0m\u001b[0m\n\u001b[0;32m--> 542\u001b[0;31m                           yticklabels, mask)\n\u001b[0m\u001b[1;32m    543\u001b[0m \u001b[0;34m\u001b[0m\u001b[0m\n\u001b[1;32m    544\u001b[0m     \u001b[0;31m# Add the pcolormesh kwargs here\u001b[0m\u001b[0;34m\u001b[0m\u001b[0;34m\u001b[0m\u001b[0;34m\u001b[0m\u001b[0m\n",
            "\u001b[0;32m/usr/local/lib/python3.7/dist-packages/seaborn/matrix.py\u001b[0m in \u001b[0;36m__init__\u001b[0;34m(self, data, vmin, vmax, cmap, center, robust, annot, fmt, annot_kws, cbar, cbar_kws, xticklabels, yticklabels, mask)\u001b[0m\n\u001b[1;32m    104\u001b[0m         \u001b[0;32melse\u001b[0m\u001b[0;34m:\u001b[0m\u001b[0;34m\u001b[0m\u001b[0;34m\u001b[0m\u001b[0m\n\u001b[1;32m    105\u001b[0m             \u001b[0mplot_data\u001b[0m \u001b[0;34m=\u001b[0m \u001b[0mnp\u001b[0m\u001b[0;34m.\u001b[0m\u001b[0masarray\u001b[0m\u001b[0;34m(\u001b[0m\u001b[0mdata\u001b[0m\u001b[0;34m)\u001b[0m\u001b[0;34m\u001b[0m\u001b[0;34m\u001b[0m\u001b[0m\n\u001b[0;32m--> 106\u001b[0;31m             \u001b[0mdata\u001b[0m \u001b[0;34m=\u001b[0m \u001b[0mpd\u001b[0m\u001b[0;34m.\u001b[0m\u001b[0mDataFrame\u001b[0m\u001b[0;34m(\u001b[0m\u001b[0mplot_data\u001b[0m\u001b[0;34m)\u001b[0m\u001b[0;34m\u001b[0m\u001b[0;34m\u001b[0m\u001b[0m\n\u001b[0m\u001b[1;32m    107\u001b[0m \u001b[0;34m\u001b[0m\u001b[0m\n\u001b[1;32m    108\u001b[0m         \u001b[0;31m# Validate the mask and convet to DataFrame\u001b[0m\u001b[0;34m\u001b[0m\u001b[0;34m\u001b[0m\u001b[0;34m\u001b[0m\u001b[0m\n",
            "\u001b[0;32m/usr/local/lib/python3.7/dist-packages/pandas/core/frame.py\u001b[0m in \u001b[0;36m__init__\u001b[0;34m(self, data, index, columns, dtype, copy)\u001b[0m\n\u001b[1;32m    676\u001b[0m                     \u001b[0mdtype\u001b[0m\u001b[0;34m=\u001b[0m\u001b[0mdtype\u001b[0m\u001b[0;34m,\u001b[0m\u001b[0;34m\u001b[0m\u001b[0;34m\u001b[0m\u001b[0m\n\u001b[1;32m    677\u001b[0m                     \u001b[0mcopy\u001b[0m\u001b[0;34m=\u001b[0m\u001b[0mcopy\u001b[0m\u001b[0;34m,\u001b[0m\u001b[0;34m\u001b[0m\u001b[0;34m\u001b[0m\u001b[0m\n\u001b[0;32m--> 678\u001b[0;31m                     \u001b[0mtyp\u001b[0m\u001b[0;34m=\u001b[0m\u001b[0mmanager\u001b[0m\u001b[0;34m,\u001b[0m\u001b[0;34m\u001b[0m\u001b[0;34m\u001b[0m\u001b[0m\n\u001b[0m\u001b[1;32m    679\u001b[0m                 )\n\u001b[1;32m    680\u001b[0m \u001b[0;34m\u001b[0m\u001b[0m\n",
            "\u001b[0;32m/usr/local/lib/python3.7/dist-packages/pandas/core/internals/construction.py\u001b[0m in \u001b[0;36mndarray_to_mgr\u001b[0;34m(values, index, columns, dtype, copy, typ)\u001b[0m\n\u001b[1;32m    302\u001b[0m         \u001b[0;31m# by definition an array here\u001b[0m\u001b[0;34m\u001b[0m\u001b[0;34m\u001b[0m\u001b[0;34m\u001b[0m\u001b[0m\n\u001b[1;32m    303\u001b[0m         \u001b[0;31m# the dtypes will be coerced to a single dtype\u001b[0m\u001b[0;34m\u001b[0m\u001b[0;34m\u001b[0m\u001b[0;34m\u001b[0m\u001b[0m\n\u001b[0;32m--> 304\u001b[0;31m         \u001b[0mvalues\u001b[0m \u001b[0;34m=\u001b[0m \u001b[0m_prep_ndarray\u001b[0m\u001b[0;34m(\u001b[0m\u001b[0mvalues\u001b[0m\u001b[0;34m,\u001b[0m \u001b[0mcopy\u001b[0m\u001b[0;34m=\u001b[0m\u001b[0mcopy\u001b[0m\u001b[0;34m)\u001b[0m\u001b[0;34m\u001b[0m\u001b[0;34m\u001b[0m\u001b[0m\n\u001b[0m\u001b[1;32m    305\u001b[0m \u001b[0;34m\u001b[0m\u001b[0m\n\u001b[1;32m    306\u001b[0m     \u001b[0;32mif\u001b[0m \u001b[0mdtype\u001b[0m \u001b[0;32mis\u001b[0m \u001b[0;32mnot\u001b[0m \u001b[0;32mNone\u001b[0m \u001b[0;32mand\u001b[0m \u001b[0;32mnot\u001b[0m \u001b[0mis_dtype_equal\u001b[0m\u001b[0;34m(\u001b[0m\u001b[0mvalues\u001b[0m\u001b[0;34m.\u001b[0m\u001b[0mdtype\u001b[0m\u001b[0;34m,\u001b[0m \u001b[0mdtype\u001b[0m\u001b[0;34m)\u001b[0m\u001b[0;34m:\u001b[0m\u001b[0;34m\u001b[0m\u001b[0;34m\u001b[0m\u001b[0m\n",
            "\u001b[0;32m/usr/local/lib/python3.7/dist-packages/pandas/core/internals/construction.py\u001b[0m in \u001b[0;36m_prep_ndarray\u001b[0;34m(values, copy)\u001b[0m\n\u001b[1;32m    553\u001b[0m         \u001b[0mvalues\u001b[0m \u001b[0;34m=\u001b[0m \u001b[0mvalues\u001b[0m\u001b[0;34m.\u001b[0m\u001b[0mreshape\u001b[0m\u001b[0;34m(\u001b[0m\u001b[0;34m(\u001b[0m\u001b[0mvalues\u001b[0m\u001b[0;34m.\u001b[0m\u001b[0mshape\u001b[0m\u001b[0;34m[\u001b[0m\u001b[0;36m0\u001b[0m\u001b[0;34m]\u001b[0m\u001b[0;34m,\u001b[0m \u001b[0;36m1\u001b[0m\u001b[0;34m)\u001b[0m\u001b[0;34m)\u001b[0m\u001b[0;34m\u001b[0m\u001b[0;34m\u001b[0m\u001b[0m\n\u001b[1;32m    554\u001b[0m     \u001b[0;32melif\u001b[0m \u001b[0mvalues\u001b[0m\u001b[0;34m.\u001b[0m\u001b[0mndim\u001b[0m \u001b[0;34m!=\u001b[0m \u001b[0;36m2\u001b[0m\u001b[0;34m:\u001b[0m\u001b[0;34m\u001b[0m\u001b[0;34m\u001b[0m\u001b[0m\n\u001b[0;32m--> 555\u001b[0;31m         \u001b[0;32mraise\u001b[0m \u001b[0mValueError\u001b[0m\u001b[0;34m(\u001b[0m\u001b[0;34mf\"Must pass 2-d input. shape={values.shape}\"\u001b[0m\u001b[0;34m)\u001b[0m\u001b[0;34m\u001b[0m\u001b[0;34m\u001b[0m\u001b[0m\n\u001b[0m\u001b[1;32m    556\u001b[0m \u001b[0;34m\u001b[0m\u001b[0m\n\u001b[1;32m    557\u001b[0m     \u001b[0;32mreturn\u001b[0m \u001b[0mvalues\u001b[0m\u001b[0;34m\u001b[0m\u001b[0;34m\u001b[0m\u001b[0m\n",
            "\u001b[0;31mValueError\u001b[0m: Must pass 2-d input. shape=(10, 2, 2)"
          ]
        },
        {
          "output_type": "display_data",
          "data": {
            "text/plain": [
              "<Figure size 576x576 with 1 Axes>"
            ],
            "image/png": "[encoded data removed]"
          },
          "metadata": {
            "needs_background": "light"
          }
        }
      ]
    },
    {
      "cell_type": "code",
      "source": [
        "conf_mat.shape"
      ],
      "metadata": {
        "id": "n6KWQLdGB7sb"
      },
      "id": "n6KWQLdGB7sb",
      "execution_count": null,
      "outputs": []
    },
    {
      "cell_type": "code",
      "source": [
        ""
      ],
      "metadata": {
        "id": "_MosLqdg5PI-"
      },
      "id": "_MosLqdg5PI-",
      "execution_count": 89,
      "outputs": []
    },
    {
      "cell_type": "code",
      "source": [
        "model.save('dnn_mark7.h5')"
      ],
      "metadata": {
        "id": "m8VQU6vVSUwB"
      },
      "id": "m8VQU6vVSUwB",
      "execution_count": 90,
      "outputs": []
    },
    {
      "cell_type": "code",
      "source": [
        ""
      ],
      "metadata": {
        "id": "yFSVzZvrbQAG"
      },
      "id": "yFSVzZvrbQAG",
      "execution_count": null,
      "outputs": []
    }
  ],
  "metadata": {
    "kernelspec": {
      "display_name": "Python 3 (ipykernel)",
      "language": "python",
      "name": "python3"
    },
    "language_info": {
      "codemirror_mode": {
        "name": "ipython",
        "version": 3
      },
      "file_extension": ".py",
      "mimetype": "text/x-python",
      "name": "python",
      "nbconvert_exporter": "python",
      "pygments_lexer": "ipython3",
      "version": "3.10.1"
    },
    "colab": {
      "name": "DNN Model.ipynb",
      "provenance": [],
      "collapsed_sections": []
    },
    "accelerator": "GPU",
    "gpuClass": "standard"
  },
  "nbformat": 4,
  "nbformat_minor": 5
}