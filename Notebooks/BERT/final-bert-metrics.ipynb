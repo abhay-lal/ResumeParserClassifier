{
 "cells": [
  {
   "cell_type": "code",
   "execution_count": 1,
   "id": "36726c97",
   "metadata": {},
   "outputs": [],
   "source": [
    "import numpy as np\n",
    "import pandas as pd"
   ]
  },
  {
   "cell_type": "code",
   "execution_count": 8,
   "id": "4c8726a8",
   "metadata": {},
   "outputs": [],
   "source": [
    "y_train_pred = train.values"
   ]
  },
  {
   "cell_type": "code",
   "execution_count": 28,
   "id": "a49c9d38",
   "metadata": {},
   "outputs": [],
   "source": [
    "test = pd.read_csv(\"tested_bert.csv\",index_col=0)\n",
    "y_test_pred = test.values\n",
    "y_test = np.loadtxt(\"Y-test.txt\")\n",
    "classes = test.columns"
   ]
  },
  {
   "cell_type": "code",
   "execution_count": 29,
   "id": "9684495e",
   "metadata": {},
   "outputs": [
    {
     "data": {
      "text/plain": [
       "((2979, 10), (2979, 10))"
      ]
     },
     "execution_count": 29,
     "metadata": {},
     "output_type": "execute_result"
    }
   ],
   "source": [
    "y_test.shape, y_test_pred.shape"
   ]
  },
  {
   "cell_type": "code",
   "execution_count": 30,
   "id": "c6b660b0",
   "metadata": {},
   "outputs": [
    {
     "data": {
      "text/plain": [
       "((26804, 10), (26804, 10))"
      ]
     },
     "execution_count": 30,
     "metadata": {},
     "output_type": "execute_result"
    }
   ],
   "source": [
    "y_train.shape, y_train_pred.shape"
   ]
  },
  {
   "cell_type": "code",
   "execution_count": 31,
   "id": "8f5a648f",
   "metadata": {},
   "outputs": [
    {
     "data": {
      "text/plain": [
       "array([[2.1233315e-02, 7.9333990e-03, 9.9743456e-01, ..., 1.5389397e-04,\n",
       "        7.2941370e-05, 2.6585208e-03],\n",
       "       [4.5523310e-03, 7.3167700e-03, 1.1061947e-02, ..., 2.2849708e-04,\n",
       "        5.1513160e-04, 7.0877590e-05],\n",
       "       [3.0299646e-03, 2.8074764e-02, 1.0036177e-01, ..., 1.0282690e-04,\n",
       "        1.8082694e-04, 1.9102563e-04],\n",
       "       ...,\n",
       "       [9.9894210e-01, 2.0219010e-03, 3.1073727e-03, ..., 1.0768212e-03,\n",
       "        9.9565060e-01, 1.3647290e-01],\n",
       "       [9.5468220e-01, 5.5484200e-03, 2.5942449e-02, ..., 6.0791294e-03,\n",
       "        8.5104390e-04, 9.5968133e-01],\n",
       "       [1.7108308e-02, 4.5703505e-03, 6.7943690e-02, ..., 1.3304942e-03,\n",
       "        9.9521780e-05, 4.6245830e-04]])"
      ]
     },
     "execution_count": 31,
     "metadata": {},
     "output_type": "execute_result"
    }
   ],
   "source": [
    "y_test_pred"
   ]
  },
  {
   "cell_type": "code",
   "execution_count": 32,
   "id": "91b0c2db",
   "metadata": {},
   "outputs": [],
   "source": [
    "normalized_test = []\n",
    "for i in y_test_pred:\n",
    "    l = []\n",
    "    for j in i:\n",
    "        if j>=0.50:\n",
    "            l.append(1)\n",
    "        else:\n",
    "            l.append(0)\n",
    "    normalized_test.append(l)"
   ]
  },
  {
   "cell_type": "code",
   "execution_count": 33,
   "id": "2b10286d",
   "metadata": {},
   "outputs": [
    {
     "name": "stdout",
     "output_type": "stream",
     "text": [
      "                        precision    recall  f1-score   support\n",
      "\n",
      "    Software_Developer       0.99      0.98      0.99      1506\n",
      "Database_Administrator       0.96      0.91      0.93       317\n",
      " Systems_Administrator       0.96      0.91      0.93       592\n",
      "       Project_manager       0.95      0.86      0.90       484\n",
      "         Web_Developer       0.92      0.85      0.89       688\n",
      " Network_Administrator       0.94      0.90      0.92       424\n",
      "      Security_Analyst       0.96      0.91      0.93       306\n",
      "      Python_Developer       0.98      0.93      0.95       310\n",
      "        Java_Developer       0.97      0.91      0.94       308\n",
      "   Front_End_Developer       0.97      0.95      0.96       384\n",
      "\n",
      "             micro avg       0.96      0.92      0.94      5319\n",
      "             macro avg       0.96      0.91      0.93      5319\n",
      "          weighted avg       0.96      0.92      0.94      5319\n",
      "           samples avg       0.94      0.92      0.92      5319\n",
      "\n"
     ]
    },
    {
     "name": "stderr",
     "output_type": "stream",
     "text": [
      "C:\\Users\\joani\\anaconda3\\envs\\transformers\\lib\\site-packages\\sklearn\\metrics\\_classification.py:1327: UndefinedMetricWarning: Precision and F-score are ill-defined and being set to 0.0 in samples with no predicted labels. Use `zero_division` parameter to control this behavior.\n",
      "  _warn_prf(average, modifier, msg_start, len(result))\n",
      "C:\\Users\\joani\\anaconda3\\envs\\transformers\\lib\\site-packages\\sklearn\\metrics\\_classification.py:1327: UndefinedMetricWarning: Recall and F-score are ill-defined and being set to 0.0 in samples with no true labels. Use `zero_division` parameter to control this behavior.\n",
      "  _warn_prf(average, modifier, msg_start, len(result))\n"
     ]
    }
   ],
   "source": [
    "from sklearn.metrics import confusion_matrix\n",
    "from sklearn import metrics\n",
    "print(metrics.classification_report(y_test, normalized_test,target_names= classes))"
   ]
  },
  {
   "cell_type": "code",
   "execution_count": null,
   "id": "b531de86",
   "metadata": {},
   "outputs": [],
   "source": []
  }
 ],
 "metadata": {
  "kernelspec": {
   "display_name": "Python 3 (ipykernel)",
   "language": "python",
   "name": "python3"
  },
  "language_info": {
   "codemirror_mode": {
    "name": "ipython",
    "version": 3
   },
   "file_extension": ".py",
   "mimetype": "text/x-python",
   "name": "python",
   "nbconvert_exporter": "python",
   "pygments_lexer": "ipython3",
   "version": "3.9.7"
  }
 },
 "nbformat": 4,
 "nbformat_minor": 5
}
