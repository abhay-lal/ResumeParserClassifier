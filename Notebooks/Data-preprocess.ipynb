{
 "cells": [
  {
   "cell_type": "code",
   "execution_count": 1,
   "metadata": {},
   "outputs": [],
   "source": [
    "import pandas as pd\n",
    "import numpy as np"
   ]
  },
  {
   "cell_type": "code",
   "execution_count": 2,
   "metadata": {},
   "outputs": [],
   "source": []
  },
  {
   "cell_type": "code",
   "execution_count": 3,
   "metadata": {},
   "outputs": [],
   "source": [
    "from bs4 import BeautifulSoup\n",
    "import string"
   ]
  },
  {
   "cell_type": "code",
   "execution_count": 4,
   "metadata": {},
   "outputs": [],
   "source": [
    "lst=os.listdir('resumes_corpus')"
   ]
  },
  {
   "cell_type": "code",
   "execution_count": 5,
   "metadata": {},
   "outputs": [],
   "source": [
    "lst=sorted(lst)"
   ]
  },
  {
   "cell_type": "code",
   "execution_count": 6,
   "metadata": {},
   "outputs": [
    {
     "name": "stderr",
     "output_type": "stream",
     "text": [
      "/Users/abhaylal/opt/anaconda3/lib/python3.8/site-packages/pandas/util/_decorators.py:311: ParserWarning: Falling back to the 'python' engine because the 'c' engine does not support regex separators (separators > 1 char and different from '\\s+' are interpreted as regex); you can avoid this warning by specifying engine='python'.\n",
      "  return func(*args, **kwargs)\n"
     ]
    }
   ],
   "source": [
    "df = pd.read_csv(\"resume_samples.txt\",sep=\":::;\", header=None,encoding='ISO-8859-1')"
   ]
  },
  {
   "cell_type": "code",
   "execution_count": 7,
   "metadata": {},
   "outputs": [],
   "source": [
    "lab = []\n",
    "for file in lst:\n",
    "        with open(\"resumes_corpus/\"+file, \"rb\") as f:\n",
    "                data = f.readlines()\n",
    "        if '.lab' in file:\n",
    "                lab.append(str(data))"
   ]
  },
  {
   "cell_type": "code",
   "execution_count": 8,
   "metadata": {},
   "outputs": [],
   "source": [
    "df['Label']=lab"
   ]
  },
  {
   "cell_type": "code",
   "execution_count": 9,
   "metadata": {},
   "outputs": [
    {
     "data": {
      "text/html": [
       "<div>\n",
       "<style scoped>\n",
       "    .dataframe tbody tr th:only-of-type {\n",
       "        vertical-align: middle;\n",
       "    }\n",
       "\n",
       "    .dataframe tbody tr th {\n",
       "        vertical-align: top;\n",
       "    }\n",
       "\n",
       "    .dataframe thead th {\n",
       "        text-align: right;\n",
       "    }\n",
       "</style>\n",
       "<table border=\"1\" class=\"dataframe\">\n",
       "  <thead>\n",
       "    <tr style=\"text-align: right;\">\n",
       "      <th></th>\n",
       "      <th>0</th>\n",
       "      <th>Label</th>\n",
       "    </tr>\n",
       "  </thead>\n",
       "  <tbody>\n",
       "    <tr>\n",
       "      <th>0</th>\n",
       "      <td>C:\\Workspace\\java\\scrape_indeed\\dba_part_1\\1.h...</td>\n",
       "      <td>[b'Database_Administrator']</td>\n",
       "    </tr>\n",
       "    <tr>\n",
       "      <th>1</th>\n",
       "      <td>C:\\Workspace\\java\\scrape_indeed\\dba_part_1\\10....</td>\n",
       "      <td>[b'Database_Administrator']</td>\n",
       "    </tr>\n",
       "    <tr>\n",
       "      <th>2</th>\n",
       "      <td>C:\\Workspace\\java\\scrape_indeed\\dba_part_1\\100...</td>\n",
       "      <td>[b'Database_Administrator']</td>\n",
       "    </tr>\n",
       "    <tr>\n",
       "      <th>3</th>\n",
       "      <td>C:\\Workspace\\java\\scrape_indeed\\dba_part_1\\100...</td>\n",
       "      <td>[b'Database_Administrator']</td>\n",
       "    </tr>\n",
       "    <tr>\n",
       "      <th>4</th>\n",
       "      <td>C:\\Workspace\\java\\scrape_indeed\\dba_part_1\\100...</td>\n",
       "      <td>[b'Database_Administrator']</td>\n",
       "    </tr>\n",
       "    <tr>\n",
       "      <th>...</th>\n",
       "      <td>...</td>\n",
       "      <td>...</td>\n",
       "    </tr>\n",
       "    <tr>\n",
       "      <th>29778</th>\n",
       "      <td>C:\\Workspace\\java\\scrape_indeed\\web_dev_part_1...</td>\n",
       "      <td>[b'Java_Developer\\n', b'Web_Developer\\n', b'So...</td>\n",
       "    </tr>\n",
       "    <tr>\n",
       "      <th>29779</th>\n",
       "      <td>C:\\Workspace\\java\\scrape_indeed\\web_dev_part_1...</td>\n",
       "      <td>[b'Web_Developer\\n', b'Software_Developer']</td>\n",
       "    </tr>\n",
       "    <tr>\n",
       "      <th>29780</th>\n",
       "      <td>C:\\Workspace\\java\\scrape_indeed\\web_dev_part_1...</td>\n",
       "      <td>[b'Software_Developer\\n', b'Front_End_Develope...</td>\n",
       "    </tr>\n",
       "    <tr>\n",
       "      <th>29781</th>\n",
       "      <td>C:\\Workspace\\java\\scrape_indeed\\web_dev_part_1...</td>\n",
       "      <td>[b'Web_Developer\\n', b'Software_Developer']</td>\n",
       "    </tr>\n",
       "    <tr>\n",
       "      <th>29782</th>\n",
       "      <td>C:\\Workspace\\java\\scrape_indeed\\web_dev_part_1...</td>\n",
       "      <td>[b'Software_Developer\\n', b'Web_Developer']</td>\n",
       "    </tr>\n",
       "  </tbody>\n",
       "</table>\n",
       "<p>29783 rows × 2 columns</p>\n",
       "</div>"
      ],
      "text/plain": [
       "                                                       0  \\\n",
       "0      C:\\Workspace\\java\\scrape_indeed\\dba_part_1\\1.h...   \n",
       "1      C:\\Workspace\\java\\scrape_indeed\\dba_part_1\\10....   \n",
       "2      C:\\Workspace\\java\\scrape_indeed\\dba_part_1\\100...   \n",
       "3      C:\\Workspace\\java\\scrape_indeed\\dba_part_1\\100...   \n",
       "4      C:\\Workspace\\java\\scrape_indeed\\dba_part_1\\100...   \n",
       "...                                                  ...   \n",
       "29778  C:\\Workspace\\java\\scrape_indeed\\web_dev_part_1...   \n",
       "29779  C:\\Workspace\\java\\scrape_indeed\\web_dev_part_1...   \n",
       "29780  C:\\Workspace\\java\\scrape_indeed\\web_dev_part_1...   \n",
       "29781  C:\\Workspace\\java\\scrape_indeed\\web_dev_part_1...   \n",
       "29782  C:\\Workspace\\java\\scrape_indeed\\web_dev_part_1...   \n",
       "\n",
       "                                                   Label  \n",
       "0                            [b'Database_Administrator']  \n",
       "1                            [b'Database_Administrator']  \n",
       "2                            [b'Database_Administrator']  \n",
       "3                            [b'Database_Administrator']  \n",
       "4                            [b'Database_Administrator']  \n",
       "...                                                  ...  \n",
       "29778  [b'Java_Developer\\n', b'Web_Developer\\n', b'So...  \n",
       "29779        [b'Web_Developer\\n', b'Software_Developer']  \n",
       "29780  [b'Software_Developer\\n', b'Front_End_Develope...  \n",
       "29781        [b'Web_Developer\\n', b'Software_Developer']  \n",
       "29782        [b'Software_Developer\\n', b'Web_Developer']  \n",
       "\n",
       "[29783 rows x 2 columns]"
      ]
     },
     "execution_count": 9,
     "metadata": {},
     "output_type": "execute_result"
    }
   ],
   "source": [
    "df"
   ]
  },
  {
   "cell_type": "code",
   "execution_count": 10,
   "metadata": {},
   "outputs": [],
   "source": [
    "df.rename(columns = {0:'Text'}, inplace = True)"
   ]
  },
  {
   "cell_type": "code",
   "execution_count": 11,
   "metadata": {},
   "outputs": [
    {
     "data": {
      "text/html": [
       "<div>\n",
       "<style scoped>\n",
       "    .dataframe tbody tr th:only-of-type {\n",
       "        vertical-align: middle;\n",
       "    }\n",
       "\n",
       "    .dataframe tbody tr th {\n",
       "        vertical-align: top;\n",
       "    }\n",
       "\n",
       "    .dataframe thead th {\n",
       "        text-align: right;\n",
       "    }\n",
       "</style>\n",
       "<table border=\"1\" class=\"dataframe\">\n",
       "  <thead>\n",
       "    <tr style=\"text-align: right;\">\n",
       "      <th></th>\n",
       "      <th>Text</th>\n",
       "      <th>Label</th>\n",
       "    </tr>\n",
       "  </thead>\n",
       "  <tbody>\n",
       "    <tr>\n",
       "      <th>0</th>\n",
       "      <td>C:\\Workspace\\java\\scrape_indeed\\dba_part_1\\1.h...</td>\n",
       "      <td>[b'Database_Administrator']</td>\n",
       "    </tr>\n",
       "    <tr>\n",
       "      <th>1</th>\n",
       "      <td>C:\\Workspace\\java\\scrape_indeed\\dba_part_1\\10....</td>\n",
       "      <td>[b'Database_Administrator']</td>\n",
       "    </tr>\n",
       "    <tr>\n",
       "      <th>2</th>\n",
       "      <td>C:\\Workspace\\java\\scrape_indeed\\dba_part_1\\100...</td>\n",
       "      <td>[b'Database_Administrator']</td>\n",
       "    </tr>\n",
       "    <tr>\n",
       "      <th>3</th>\n",
       "      <td>C:\\Workspace\\java\\scrape_indeed\\dba_part_1\\100...</td>\n",
       "      <td>[b'Database_Administrator']</td>\n",
       "    </tr>\n",
       "    <tr>\n",
       "      <th>4</th>\n",
       "      <td>C:\\Workspace\\java\\scrape_indeed\\dba_part_1\\100...</td>\n",
       "      <td>[b'Database_Administrator']</td>\n",
       "    </tr>\n",
       "    <tr>\n",
       "      <th>...</th>\n",
       "      <td>...</td>\n",
       "      <td>...</td>\n",
       "    </tr>\n",
       "    <tr>\n",
       "      <th>29778</th>\n",
       "      <td>C:\\Workspace\\java\\scrape_indeed\\web_dev_part_1...</td>\n",
       "      <td>[b'Java_Developer\\n', b'Web_Developer\\n', b'So...</td>\n",
       "    </tr>\n",
       "    <tr>\n",
       "      <th>29779</th>\n",
       "      <td>C:\\Workspace\\java\\scrape_indeed\\web_dev_part_1...</td>\n",
       "      <td>[b'Web_Developer\\n', b'Software_Developer']</td>\n",
       "    </tr>\n",
       "    <tr>\n",
       "      <th>29780</th>\n",
       "      <td>C:\\Workspace\\java\\scrape_indeed\\web_dev_part_1...</td>\n",
       "      <td>[b'Software_Developer\\n', b'Front_End_Develope...</td>\n",
       "    </tr>\n",
       "    <tr>\n",
       "      <th>29781</th>\n",
       "      <td>C:\\Workspace\\java\\scrape_indeed\\web_dev_part_1...</td>\n",
       "      <td>[b'Web_Developer\\n', b'Software_Developer']</td>\n",
       "    </tr>\n",
       "    <tr>\n",
       "      <th>29782</th>\n",
       "      <td>C:\\Workspace\\java\\scrape_indeed\\web_dev_part_1...</td>\n",
       "      <td>[b'Software_Developer\\n', b'Web_Developer']</td>\n",
       "    </tr>\n",
       "  </tbody>\n",
       "</table>\n",
       "<p>29783 rows × 2 columns</p>\n",
       "</div>"
      ],
      "text/plain": [
       "                                                    Text  \\\n",
       "0      C:\\Workspace\\java\\scrape_indeed\\dba_part_1\\1.h...   \n",
       "1      C:\\Workspace\\java\\scrape_indeed\\dba_part_1\\10....   \n",
       "2      C:\\Workspace\\java\\scrape_indeed\\dba_part_1\\100...   \n",
       "3      C:\\Workspace\\java\\scrape_indeed\\dba_part_1\\100...   \n",
       "4      C:\\Workspace\\java\\scrape_indeed\\dba_part_1\\100...   \n",
       "...                                                  ...   \n",
       "29778  C:\\Workspace\\java\\scrape_indeed\\web_dev_part_1...   \n",
       "29779  C:\\Workspace\\java\\scrape_indeed\\web_dev_part_1...   \n",
       "29780  C:\\Workspace\\java\\scrape_indeed\\web_dev_part_1...   \n",
       "29781  C:\\Workspace\\java\\scrape_indeed\\web_dev_part_1...   \n",
       "29782  C:\\Workspace\\java\\scrape_indeed\\web_dev_part_1...   \n",
       "\n",
       "                                                   Label  \n",
       "0                            [b'Database_Administrator']  \n",
       "1                            [b'Database_Administrator']  \n",
       "2                            [b'Database_Administrator']  \n",
       "3                            [b'Database_Administrator']  \n",
       "4                            [b'Database_Administrator']  \n",
       "...                                                  ...  \n",
       "29778  [b'Java_Developer\\n', b'Web_Developer\\n', b'So...  \n",
       "29779        [b'Web_Developer\\n', b'Software_Developer']  \n",
       "29780  [b'Software_Developer\\n', b'Front_End_Develope...  \n",
       "29781        [b'Web_Developer\\n', b'Software_Developer']  \n",
       "29782        [b'Software_Developer\\n', b'Web_Developer']  \n",
       "\n",
       "[29783 rows x 2 columns]"
      ]
     },
     "execution_count": 11,
     "metadata": {},
     "output_type": "execute_result"
    }
   ],
   "source": [
    "df"
   ]
  },
  {
   "cell_type": "code",
   "execution_count": 12,
   "metadata": {},
   "outputs": [
    {
     "data": {
      "text/plain": [
       "Index(['Text', 'Label'], dtype='object')"
      ]
     },
     "execution_count": 12,
     "metadata": {},
     "output_type": "execute_result"
    }
   ],
   "source": [
    "df.columns"
   ]
  },
  {
   "cell_type": "markdown",
   "metadata": {},
   "source": [
    "## Cleaning Data"
   ]
  },
  {
   "cell_type": "code",
   "execution_count": 13,
   "metadata": {},
   "outputs": [
    {
     "data": {
      "text/html": [
       "<div>\n",
       "<style scoped>\n",
       "    .dataframe tbody tr th:only-of-type {\n",
       "        vertical-align: middle;\n",
       "    }\n",
       "\n",
       "    .dataframe tbody tr th {\n",
       "        vertical-align: top;\n",
       "    }\n",
       "\n",
       "    .dataframe thead th {\n",
       "        text-align: right;\n",
       "    }\n",
       "</style>\n",
       "<table border=\"1\" class=\"dataframe\">\n",
       "  <thead>\n",
       "    <tr style=\"text-align: right;\">\n",
       "      <th></th>\n",
       "      <th>Text</th>\n",
       "      <th>Label</th>\n",
       "    </tr>\n",
       "  </thead>\n",
       "  <tbody>\n",
       "    <tr>\n",
       "      <th>0</th>\n",
       "      <td>C:\\Workspace\\java\\scrape_indeed\\dba_part_1\\1.h...</td>\n",
       "      <td>[b'Database_Administrator']</td>\n",
       "    </tr>\n",
       "    <tr>\n",
       "      <th>1</th>\n",
       "      <td>C:\\Workspace\\java\\scrape_indeed\\dba_part_1\\10....</td>\n",
       "      <td>[b'Database_Administrator']</td>\n",
       "    </tr>\n",
       "    <tr>\n",
       "      <th>2</th>\n",
       "      <td>C:\\Workspace\\java\\scrape_indeed\\dba_part_1\\100...</td>\n",
       "      <td>[b'Database_Administrator']</td>\n",
       "    </tr>\n",
       "    <tr>\n",
       "      <th>3</th>\n",
       "      <td>C:\\Workspace\\java\\scrape_indeed\\dba_part_1\\100...</td>\n",
       "      <td>[b'Database_Administrator']</td>\n",
       "    </tr>\n",
       "    <tr>\n",
       "      <th>4</th>\n",
       "      <td>C:\\Workspace\\java\\scrape_indeed\\dba_part_1\\100...</td>\n",
       "      <td>[b'Database_Administrator']</td>\n",
       "    </tr>\n",
       "    <tr>\n",
       "      <th>...</th>\n",
       "      <td>...</td>\n",
       "      <td>...</td>\n",
       "    </tr>\n",
       "    <tr>\n",
       "      <th>29778</th>\n",
       "      <td>C:\\Workspace\\java\\scrape_indeed\\web_dev_part_1...</td>\n",
       "      <td>[b'Java_Developer\\n', b'Web_Developer\\n', b'So...</td>\n",
       "    </tr>\n",
       "    <tr>\n",
       "      <th>29779</th>\n",
       "      <td>C:\\Workspace\\java\\scrape_indeed\\web_dev_part_1...</td>\n",
       "      <td>[b'Web_Developer\\n', b'Software_Developer']</td>\n",
       "    </tr>\n",
       "    <tr>\n",
       "      <th>29780</th>\n",
       "      <td>C:\\Workspace\\java\\scrape_indeed\\web_dev_part_1...</td>\n",
       "      <td>[b'Software_Developer\\n', b'Front_End_Develope...</td>\n",
       "    </tr>\n",
       "    <tr>\n",
       "      <th>29781</th>\n",
       "      <td>C:\\Workspace\\java\\scrape_indeed\\web_dev_part_1...</td>\n",
       "      <td>[b'Web_Developer\\n', b'Software_Developer']</td>\n",
       "    </tr>\n",
       "    <tr>\n",
       "      <th>29782</th>\n",
       "      <td>C:\\Workspace\\java\\scrape_indeed\\web_dev_part_1...</td>\n",
       "      <td>[b'Software_Developer\\n', b'Web_Developer']</td>\n",
       "    </tr>\n",
       "  </tbody>\n",
       "</table>\n",
       "<p>29783 rows × 2 columns</p>\n",
       "</div>"
      ],
      "text/plain": [
       "                                                    Text  \\\n",
       "0      C:\\Workspace\\java\\scrape_indeed\\dba_part_1\\1.h...   \n",
       "1      C:\\Workspace\\java\\scrape_indeed\\dba_part_1\\10....   \n",
       "2      C:\\Workspace\\java\\scrape_indeed\\dba_part_1\\100...   \n",
       "3      C:\\Workspace\\java\\scrape_indeed\\dba_part_1\\100...   \n",
       "4      C:\\Workspace\\java\\scrape_indeed\\dba_part_1\\100...   \n",
       "...                                                  ...   \n",
       "29778  C:\\Workspace\\java\\scrape_indeed\\web_dev_part_1...   \n",
       "29779  C:\\Workspace\\java\\scrape_indeed\\web_dev_part_1...   \n",
       "29780  C:\\Workspace\\java\\scrape_indeed\\web_dev_part_1...   \n",
       "29781  C:\\Workspace\\java\\scrape_indeed\\web_dev_part_1...   \n",
       "29782  C:\\Workspace\\java\\scrape_indeed\\web_dev_part_1...   \n",
       "\n",
       "                                                   Label  \n",
       "0                            [b'Database_Administrator']  \n",
       "1                            [b'Database_Administrator']  \n",
       "2                            [b'Database_Administrator']  \n",
       "3                            [b'Database_Administrator']  \n",
       "4                            [b'Database_Administrator']  \n",
       "...                                                  ...  \n",
       "29778  [b'Java_Developer\\n', b'Web_Developer\\n', b'So...  \n",
       "29779        [b'Web_Developer\\n', b'Software_Developer']  \n",
       "29780  [b'Software_Developer\\n', b'Front_End_Develope...  \n",
       "29781        [b'Web_Developer\\n', b'Software_Developer']  \n",
       "29782        [b'Software_Developer\\n', b'Web_Developer']  \n",
       "\n",
       "[29783 rows x 2 columns]"
      ]
     },
     "execution_count": 13,
     "metadata": {},
     "output_type": "execute_result"
    }
   ],
   "source": [
    "df"
   ]
  },
  {
   "cell_type": "code",
   "execution_count": 14,
   "metadata": {},
   "outputs": [],
   "source": [
    "#Removing Unicode characters(for hard space) in text\n",
    "df['Text'].replace(regex={\"\\xa0\":\"\"},inplace=True)\n",
    "df['Text'].replace(regex={\"\\x95\":\"\"},inplace=True)"
   ]
  },
  {
   "cell_type": "code",
   "execution_count": 15,
   "metadata": {},
   "outputs": [
    {
     "data": {
      "text/plain": [
       "0        C:\\Workspace\\java\\scrape_indeed\\dba_part_1\\1.h...\n",
       "1        C:\\Workspace\\java\\scrape_indeed\\dba_part_1\\10....\n",
       "2        C:\\Workspace\\java\\scrape_indeed\\dba_part_1\\100...\n",
       "3        C:\\Workspace\\java\\scrape_indeed\\dba_part_1\\100...\n",
       "4        C:\\Workspace\\java\\scrape_indeed\\dba_part_1\\100...\n",
       "                               ...                        \n",
       "29778    C:\\Workspace\\java\\scrape_indeed\\web_dev_part_1...\n",
       "29779    C:\\Workspace\\java\\scrape_indeed\\web_dev_part_1...\n",
       "29780    C:\\Workspace\\java\\scrape_indeed\\web_dev_part_1...\n",
       "29781    C:\\Workspace\\java\\scrape_indeed\\web_dev_part_1...\n",
       "29782    C:\\Workspace\\java\\scrape_indeed\\web_dev_part_1...\n",
       "Name: Text, Length: 29783, dtype: object"
      ]
     },
     "execution_count": 15,
     "metadata": {},
     "output_type": "execute_result"
    }
   ],
   "source": [
    "df['Text'].str[:]"
   ]
  },
  {
   "cell_type": "code",
   "execution_count": 16,
   "metadata": {},
   "outputs": [],
   "source": [
    "#Removing pathname given in data\n",
    "for index, row in df.iterrows():\n",
    "      a=row['Text'].find(\":::\")\n",
    "      row['Text']=row['Text'][a+3:]"
   ]
  },
  {
   "cell_type": "code",
   "execution_count": 17,
   "metadata": {},
   "outputs": [
    {
     "data": {
      "text/html": [
       "<div>\n",
       "<style scoped>\n",
       "    .dataframe tbody tr th:only-of-type {\n",
       "        vertical-align: middle;\n",
       "    }\n",
       "\n",
       "    .dataframe tbody tr th {\n",
       "        vertical-align: top;\n",
       "    }\n",
       "\n",
       "    .dataframe thead th {\n",
       "        text-align: right;\n",
       "    }\n",
       "</style>\n",
       "<table border=\"1\" class=\"dataframe\">\n",
       "  <thead>\n",
       "    <tr style=\"text-align: right;\">\n",
       "      <th></th>\n",
       "      <th>Text</th>\n",
       "      <th>Label</th>\n",
       "    </tr>\n",
       "  </thead>\n",
       "  <tbody>\n",
       "    <tr>\n",
       "      <th>0</th>\n",
       "      <td>Database Administrator;Database Administrator;...</td>\n",
       "      <td>[b'Database_Administrator']</td>\n",
       "    </tr>\n",
       "    <tr>\n",
       "      <th>1</th>\n",
       "      <td>Database Administrator;SQL, Microsoft PowerPoi...</td>\n",
       "      <td>[b'Database_Administrator']</td>\n",
       "    </tr>\n",
       "    <tr>\n",
       "      <th>2</th>\n",
       "      <td>Oracle Database Administrator;Oracle Database ...</td>\n",
       "      <td>[b'Database_Administrator']</td>\n",
       "    </tr>\n",
       "    <tr>\n",
       "      <th>3</th>\n",
       "      <td>Amazon Redshift Administrator and ETL Develope...</td>\n",
       "      <td>[b'Database_Administrator']</td>\n",
       "    </tr>\n",
       "    <tr>\n",
       "      <th>4</th>\n",
       "      <td>Scrum Master;Oracle Database Administrator/ Sc...</td>\n",
       "      <td>[b'Database_Administrator']</td>\n",
       "    </tr>\n",
       "    <tr>\n",
       "      <th>...</th>\n",
       "      <td>...</td>\n",
       "      <td>...</td>\n",
       "    </tr>\n",
       "    <tr>\n",
       "      <th>29778</th>\n",
       "      <td>ServiceNow Developer;ServiceNow Developer;Serv...</td>\n",
       "      <td>[b'Java_Developer\\n', b'Web_Developer\\n', b'So...</td>\n",
       "    </tr>\n",
       "    <tr>\n",
       "      <th>29779</th>\n",
       "      <td>Android Developer;Android Developer;Route Plan...</td>\n",
       "      <td>[b'Web_Developer\\n', b'Software_Developer']</td>\n",
       "    </tr>\n",
       "    <tr>\n",
       "      <th>29780</th>\n",
       "      <td>UI Developer;UI/ WEB Developer;UI Developer;UI...</td>\n",
       "      <td>[b'Software_Developer\\n', b'Front_End_Develope...</td>\n",
       "    </tr>\n",
       "    <tr>\n",
       "      <th>29781</th>\n",
       "      <td>Web Developer;Javascript;PHP;Front End;Wordpre...</td>\n",
       "      <td>[b'Web_Developer\\n', b'Software_Developer']</td>\n",
       "    </tr>\n",
       "    <tr>\n",
       "      <th>29782</th>\n",
       "      <td>Sr. Software Engineer;DevOps Manager;Web Devel...</td>\n",
       "      <td>[b'Software_Developer\\n', b'Web_Developer']</td>\n",
       "    </tr>\n",
       "  </tbody>\n",
       "</table>\n",
       "<p>29783 rows × 2 columns</p>\n",
       "</div>"
      ],
      "text/plain": [
       "                                                    Text  \\\n",
       "0      Database Administrator;Database Administrator;...   \n",
       "1      Database Administrator;SQL, Microsoft PowerPoi...   \n",
       "2      Oracle Database Administrator;Oracle Database ...   \n",
       "3      Amazon Redshift Administrator and ETL Develope...   \n",
       "4      Scrum Master;Oracle Database Administrator/ Sc...   \n",
       "...                                                  ...   \n",
       "29778  ServiceNow Developer;ServiceNow Developer;Serv...   \n",
       "29779  Android Developer;Android Developer;Route Plan...   \n",
       "29780  UI Developer;UI/ WEB Developer;UI Developer;UI...   \n",
       "29781  Web Developer;Javascript;PHP;Front End;Wordpre...   \n",
       "29782  Sr. Software Engineer;DevOps Manager;Web Devel...   \n",
       "\n",
       "                                                   Label  \n",
       "0                            [b'Database_Administrator']  \n",
       "1                            [b'Database_Administrator']  \n",
       "2                            [b'Database_Administrator']  \n",
       "3                            [b'Database_Administrator']  \n",
       "4                            [b'Database_Administrator']  \n",
       "...                                                  ...  \n",
       "29778  [b'Java_Developer\\n', b'Web_Developer\\n', b'So...  \n",
       "29779        [b'Web_Developer\\n', b'Software_Developer']  \n",
       "29780  [b'Software_Developer\\n', b'Front_End_Develope...  \n",
       "29781        [b'Web_Developer\\n', b'Software_Developer']  \n",
       "29782        [b'Software_Developer\\n', b'Web_Developer']  \n",
       "\n",
       "[29783 rows x 2 columns]"
      ]
     },
     "execution_count": 17,
     "metadata": {},
     "output_type": "execute_result"
    }
   ],
   "source": [
    "df"
   ]
  },
  {
   "cell_type": "code",
   "execution_count": 18,
   "metadata": {},
   "outputs": [],
   "source": [
    "#Creating a function to remove html tags from text\n",
    "def remove_html(text):\n",
    "    soup=BeautifulSoup(text,'lxml')\n",
    "    html_free=soup.get_text()\n",
    "    return html_free"
   ]
  },
  {
   "cell_type": "code",
   "execution_count": 19,
   "metadata": {},
   "outputs": [],
   "source": [
    "df['Text']=df['Text'].apply(lambda x:remove_html(x))"
   ]
  },
  {
   "cell_type": "code",
   "execution_count": 20,
   "metadata": {},
   "outputs": [
    {
     "name": "stderr",
     "output_type": "stream",
     "text": [
      "/Users/abhaylal/opt/anaconda3/lib/python3.8/site-packages/bs4/__init__.py:435: MarkupResemblesLocatorWarning: The input looks more like a filename than markup. You may want to open this file and pass the filehandle into Beautiful Soup.\n",
      "  warnings.warn(\n"
     ]
    }
   ],
   "source": [
    "df['Label']=df['Label'].apply(lambda x:remove_html(x))"
   ]
  },
  {
   "cell_type": "code",
   "execution_count": 21,
   "metadata": {},
   "outputs": [],
   "source": [
    "#Creating funciton to remove punctuation\n",
    "def remove_punctuations(text):\n",
    "    for punctuation in string.punctuation:\n",
    "        text = text.replace(punctuation, '')\n",
    "    return text"
   ]
  },
  {
   "cell_type": "code",
   "execution_count": 22,
   "metadata": {},
   "outputs": [],
   "source": [
    "df['Text'] = df['Text'].apply(remove_punctuations)"
   ]
  },
  {
   "cell_type": "code",
   "execution_count": 23,
   "metadata": {},
   "outputs": [
    {
     "data": {
      "text/html": [
       "<div>\n",
       "<style scoped>\n",
       "    .dataframe tbody tr th:only-of-type {\n",
       "        vertical-align: middle;\n",
       "    }\n",
       "\n",
       "    .dataframe tbody tr th {\n",
       "        vertical-align: top;\n",
       "    }\n",
       "\n",
       "    .dataframe thead th {\n",
       "        text-align: right;\n",
       "    }\n",
       "</style>\n",
       "<table border=\"1\" class=\"dataframe\">\n",
       "  <thead>\n",
       "    <tr style=\"text-align: right;\">\n",
       "      <th></th>\n",
       "      <th>Text</th>\n",
       "      <th>Label</th>\n",
       "    </tr>\n",
       "  </thead>\n",
       "  <tbody>\n",
       "    <tr>\n",
       "      <th>0</th>\n",
       "      <td>Database AdministratorDatabase AdministratorDa...</td>\n",
       "      <td>[b'Database_Administrator']</td>\n",
       "    </tr>\n",
       "    <tr>\n",
       "      <th>1</th>\n",
       "      <td>Database AdministratorSQL Microsoft PowerPoint...</td>\n",
       "      <td>[b'Database_Administrator']</td>\n",
       "    </tr>\n",
       "    <tr>\n",
       "      <th>2</th>\n",
       "      <td>Oracle Database AdministratorOracle Database A...</td>\n",
       "      <td>[b'Database_Administrator']</td>\n",
       "    </tr>\n",
       "    <tr>\n",
       "      <th>3</th>\n",
       "      <td>Amazon Redshift Administrator and ETL Develope...</td>\n",
       "      <td>[b'Database_Administrator']</td>\n",
       "    </tr>\n",
       "    <tr>\n",
       "      <th>4</th>\n",
       "      <td>Scrum MasterOracle Database Administrator Scru...</td>\n",
       "      <td>[b'Database_Administrator']</td>\n",
       "    </tr>\n",
       "    <tr>\n",
       "      <th>...</th>\n",
       "      <td>...</td>\n",
       "      <td>...</td>\n",
       "    </tr>\n",
       "    <tr>\n",
       "      <th>29778</th>\n",
       "      <td>ServiceNow DeveloperServiceNow DeveloperServic...</td>\n",
       "      <td>[b'Java_Developer\\n', b'Web_Developer\\n', b'So...</td>\n",
       "    </tr>\n",
       "    <tr>\n",
       "      <th>29779</th>\n",
       "      <td>Android DeveloperAndroid DeveloperRoute Planne...</td>\n",
       "      <td>[b'Web_Developer\\n', b'Software_Developer']</td>\n",
       "    </tr>\n",
       "    <tr>\n",
       "      <th>29780</th>\n",
       "      <td>UI DeveloperUI WEB DeveloperUI DeveloperUI Dev...</td>\n",
       "      <td>[b'Software_Developer\\n', b'Front_End_Develope...</td>\n",
       "    </tr>\n",
       "    <tr>\n",
       "      <th>29781</th>\n",
       "      <td>Web DeveloperJavascriptPHPFront EndWordpressWe...</td>\n",
       "      <td>[b'Web_Developer\\n', b'Software_Developer']</td>\n",
       "    </tr>\n",
       "    <tr>\n",
       "      <th>29782</th>\n",
       "      <td>Sr Software EngineerDevOps ManagerWeb Develope...</td>\n",
       "      <td>[b'Software_Developer\\n', b'Web_Developer']</td>\n",
       "    </tr>\n",
       "  </tbody>\n",
       "</table>\n",
       "<p>29783 rows × 2 columns</p>\n",
       "</div>"
      ],
      "text/plain": [
       "                                                    Text  \\\n",
       "0      Database AdministratorDatabase AdministratorDa...   \n",
       "1      Database AdministratorSQL Microsoft PowerPoint...   \n",
       "2      Oracle Database AdministratorOracle Database A...   \n",
       "3      Amazon Redshift Administrator and ETL Develope...   \n",
       "4      Scrum MasterOracle Database Administrator Scru...   \n",
       "...                                                  ...   \n",
       "29778  ServiceNow DeveloperServiceNow DeveloperServic...   \n",
       "29779  Android DeveloperAndroid DeveloperRoute Planne...   \n",
       "29780  UI DeveloperUI WEB DeveloperUI DeveloperUI Dev...   \n",
       "29781  Web DeveloperJavascriptPHPFront EndWordpressWe...   \n",
       "29782  Sr Software EngineerDevOps ManagerWeb Develope...   \n",
       "\n",
       "                                                   Label  \n",
       "0                            [b'Database_Administrator']  \n",
       "1                            [b'Database_Administrator']  \n",
       "2                            [b'Database_Administrator']  \n",
       "3                            [b'Database_Administrator']  \n",
       "4                            [b'Database_Administrator']  \n",
       "...                                                  ...  \n",
       "29778  [b'Java_Developer\\n', b'Web_Developer\\n', b'So...  \n",
       "29779        [b'Web_Developer\\n', b'Software_Developer']  \n",
       "29780  [b'Software_Developer\\n', b'Front_End_Develope...  \n",
       "29781        [b'Web_Developer\\n', b'Software_Developer']  \n",
       "29782        [b'Software_Developer\\n', b'Web_Developer']  \n",
       "\n",
       "[29783 rows x 2 columns]"
      ]
     },
     "execution_count": 23,
     "metadata": {},
     "output_type": "execute_result"
    }
   ],
   "source": [
    "df"
   ]
  },
  {
   "cell_type": "code",
   "execution_count": 24,
   "metadata": {},
   "outputs": [
    {
     "data": {
      "text/plain": [
       "0                              [b'Database_Administrator']\n",
       "1                              [b'Database_Administrator']\n",
       "2                              [b'Database_Administrator']\n",
       "3                              [b'Database_Administrator']\n",
       "4                              [b'Database_Administrator']\n",
       "                               ...                        \n",
       "29778    [b'Java_Developer\\n', b'Web_Developer\\n', b'So...\n",
       "29779          [b'Web_Developer\\n', b'Software_Developer']\n",
       "29780    [b'Software_Developer\\n', b'Front_End_Develope...\n",
       "29781          [b'Web_Developer\\n', b'Software_Developer']\n",
       "29782          [b'Software_Developer\\n', b'Web_Developer']\n",
       "Name: Label, Length: 29783, dtype: object"
      ]
     },
     "execution_count": 24,
     "metadata": {},
     "output_type": "execute_result"
    }
   ],
   "source": [
    "df['Label']"
   ]
  },
  {
   "cell_type": "markdown",
   "metadata": {},
   "source": [
    "## Removing stop words"
   ]
  },
  {
   "cell_type": "code",
   "execution_count": 25,
   "metadata": {},
   "outputs": [],
   "source": [
    "import spacy\n",
    "from nltk.tokenize import word_tokenize\n",
    "sp = spacy.load('en_core_web_sm')\n",
    "all_stopwords = sp.Defaults.stop_words"
   ]
  },
  {
   "cell_type": "code",
   "execution_count": 26,
   "metadata": {},
   "outputs": [],
   "source": [
    "#Creating a function to remove stop words\n",
    "def remove_stopwords(text):\n",
    "    text_tokens = word_tokenize(text)\n",
    "    tokens_without_sw= [word for word in text_tokens if not word in all_stopwords]\n",
    "    filtered_sentence = (\" \").join(tokens_without_sw)\n",
    "    return filtered_sentence\n",
    "    "
   ]
  },
  {
   "cell_type": "code",
   "execution_count": 27,
   "metadata": {},
   "outputs": [],
   "source": [
    "df['Text'] = df['Text'].apply(remove_stopwords)"
   ]
  },
  {
   "cell_type": "code",
   "execution_count": 28,
   "metadata": {},
   "outputs": [
    {
     "data": {
      "text/plain": [
       "'Oracle Database AdministratorOracle Database AdministratorField Service Representative TechnicianPlease Additional Information section 6 yearsOracle DBA 6 yearsDBAOracle Database Administrator Oracle Database Administrator Oracle Database Administrator SUNTRUST BANK Fort Meade MD More years experience IT industry Oracle Database Administrator DBA having extensive experience production support installation configuration upgrades cloning space management database security management Oracle Software Red Hat Linux Solaris IBM AIX Windows platforms Possess high competency advanced DBA skills backup recovery performance tuning Good exposure Configuring Single Instance Oracle Real Application Clusters RAC Automatic Storage Management ASM Experience installing patching Oracle RAC ASM IBM AIX Solaris Linux platforms Expertise setting Data Guard Failover Switchover ReadOnly scenarios Fabricated multiple Clone databases traditional method Recovery Manager RMAN utility high availability configuration Good exposure Oracle DBA tasks like Installation Patching Cloning Upgrading Oracle Databases Grid Infrastructure Extensive knowledge database backup recovery strategy RMAN configuration Recovery Catalog multiple databases Performed periodic backups incremental restoration recovery database RMAN utility Exposure SQL Tuning Advisor SQL Profiles SQL Monitoring SQL Access Advisor SQL Baselines SQLTXTRACT tools utilities Installed Oracle 10g 11g RAC software ASM Oracle Cluster File System Version 2 OCFS2 RHEL HPUX Experience migration NonRAC database RAC RAC NonRAC RMAN RCONFIG DBCA Experience adding deletion Nodes RAC Experience upgrading databases 10g 11gR2 12c Work Oracle Advanced Technologies like Oracle Enterprise Manager Grid Control Oracle Streams Data Guard Real Application Clusters Implemented configured replication technology Data Guard installation configuration troubleshooting Linux UNIX Platforms Implemented different Backup Recovery strategies RMAN Complete Incomplete Recovery databases database crash diskmedia failure etc Extensively RMAN DUPLICATE cloneduplicate target database restore Tablespace PointinTime Recovery TSPITR Efficiently implemented logical backups tools like Oracle Data Pump ExportImport Classic Original ExportImport Experience applying security quarterly PSU CPU patches databases Cloning Oracle Application PROD DEV TEST UAT environment Installation configuration patching upgrading maintenance Oracle Applications Oracle Databases Experience replication Materialized Views Security User Management Privileges Roles Auditing Profiling Authentication Handson experience new Oracle FLASHBACK Technology like enabling Flashback feature configuring FLASH RECOVERY AREA FRA implementing Flashback recovery strategies like FLASHBACK Drop FLASHBACK Table FLASHBACK Query FLASHBACK Database Performance Monitoring Tuning databases tools like SQL Tuning Advisor Sales Performance Management SPM Segment Advisor STATSPACK Automatic Workload Repository AWR Active Session History ASH ADDM reports Experience working SQL Tuning tools like SQL Trace Explain Plan SQL Profiles Oracle GoldenGate knowledge Configured maintained unidirectional replication GoldenGate Creating maintaining Oracle Wallet remote authentication Good understanding System Development Life Cycle Automatic Undo Management RAID concepts advanced features Oracle 11g Expertise Tuning memory IO CPU utilization Disk usage Space utilization Upgrading Migration Oracle Database higher version platforms manual method traditional ExportImport Data Pump Transportable Tablespace TTS Experience coding SQL PLSQL packages functions stored procedures triggers Materialized Views Oracle Database Handson experience Logical backups HotCold backups Recovery cloning databases RMAN SQLBackTrack Veritas NetBackup Disk Space Management involving managing archives space allocation tablespaces capacity planning new applications Expertise configuring RMAN CatalogNocatalog worked PointInTime Recovery Flashback Plugging tablespace different platforms CrossPlatform Transportable Tablespace utility Collected performance statistics STATSPACKAWR Automatic Database Diagnostic Monitor ADDM Used TKPROF utility Explain Plan tuning SQL queries Expertise loading data flat files external tables SQLLoader Experience SQL PLSQL UNIX Shell Scripting Handson experience tuning mappings identifying resolving performance bottlenecks levels like sources targets mappings sessions Excellent analytical problem solving communication interpersonal skills Highly effective communicating engineers technicians Skilled detailed work redefining wide range operational difficulties Strength analyzing improving electronics administrative methods Committed maintaining quality efficiency Enjoy challenge providing high quality direct service clients Proven ability effectively facilitate communication management project personnel Highly inquisitive creative resourceful goal oriented enthusiastic quick learner Authorized work US employer Work Experience Oracle Database Administrator SUNTRUST BANK Tampa FL February 2015 Present 24x7 database administration support monitoring ensure proactive problem recognition resolution database issues Migration Oracle Databases Windows Linux Apply patches Oracle Databases Oracle Applications Upgrade development production databases Oracle 10g Proactive database monitoring Oracle 10g grid monitoring tool Database tuning SQL Trace STATSPACK EXPLAIN PLAN TKPROF Extensive Performance Tuning Memory SGA Tuning NetBackup EMC TimeFinder SRDF RAID RAW Devices Perform database cloning set test development databases Responsible optimizing queries application tuning Perform SQL Tuning assist developers coding PLSQL Provide support Application Database Administrators designing database Use RMAN backup recovery Perform Hot Cold Logical backups Perform backup validations RMAN Management schemas objects partitioning tables indexes Automation data load KornShell scripting SQLLoader Responsible setting managing user accounts granting required privileges users Perform DBA activities space management performance monitoring Experience Oracle Database monitoring troubleshooting resolving issues Have implemented types standby databases supported Data Guard Logical standby Physical standby databases 11gR2 twonode RAC Handson experience HotCold Backup Recovery Cloning databases RMAN Veritas NetBackup Commvault Implement Active Data Guard creating Logical Physical Standby databases 10g 11g 12c environment Production databases Configure manage Data Guard extensively Production databases sizes ranging 50GB 5TB Performance Tuning Gathering stats creating indexes tuning memory settings optimal performance Work 11gR2 12c multinode RACNonRAC environment LINUX ASM SCAN GIS Set configuration Standby Databases Active Data Guard Snapshot Standby Data Guard Broker Involvement timely database application releases Oracle Applications conjunction Development Team Application Team System Administrators Release Teams Tuning Oracle Database tuning memory IO Resource contention Database operation performance diagnostic tools TKPROF SQL Trace utility Oracle Expert Oracle SQL Analyze Frequent interaction Developers working developing applications SQL Trace Explain Plan utilities Implement partitioning huge tables improve performance reduce maintenance finite window operations Monitor databases Oracle Enterprise Manager Toad Monitoring OS Level monitor backups OASIS tool Install configure maintain Oracle Audit Vault auditing databases time Set Maintenance Oracle Advanced features like Oracle FLASHBACK Flash Recovery Area Data Guard Physical Standby Failover procedures Experience OEM 12c installation Knowledge architecture design OEM Oracle Database application monitoring Implement configure GoldenGate RAC environment Implement 11g Interval Partitioning monthly partitioning large tables Develop RMAN Backup strategies cloning test databases production environment work RMAN ActiveActive Duplication Experience logical backups EXPDPIMPDP extensively Rehosting application GoldenGate Worked conventional EXPIMP migrating data 9i 10g Schedule RMAN backups purge jobs maintenance jobs DBMSJOBS DBMSSCHEDULER Crontab Universe Design implement different backup strategies like Hot Cold RMAN Flash Recovery Area Logical Backups EXPDPIMPDP Handle Chained Rows Row Migration solve database performance issues Experience ASM adding deleting disks disk group Support development teams databaserelated issues handle critical issues like network failures ASM Disk Group errors node failures RAC cluster Generate STATSPACKAWR reports OEM 12c Oracle 11g database analyze reports Oracle Wait Events time consuming SQL Queries tablespace growth database growth Use Explain Plan Oracle Optimizer Hints creation new indexes improve performance SQL statements Involved SQL Query tuning provide tuning recommendations application jobs timeCPUconsuming queries Tools Used Oracle RMAN Oracle 11g 11202 DBMS STATS Data Pump SQL Trace TKPROF EXPLAIN PLAN Oracle Database Administrator ESTESEXPRESS Richmond VA March 2013 February 2015 Cloned migrated databases RMAN traditional Data Pump ExportImport utilities Oracle 10gR2 Implemented recovery strategies required successfully recovered databases RMAN database crashed mediadisk failed Scheduled Physical backups Hot Cold Crontab RMAN monitored scheduled jobs Performed configuration changes Autoconfig PrePatch Analysis patches document preparation pre postpatch steps Applied patches Maintenance Pack Interoperability Patch Release Update Patches RUP Family Pack Created application users user profiles responsibilities menus functions Validated created grants synonyms APPS schemas Performed JAR fileforms generation postpatch step Relinking Oracle APPS programs Performed Application Tracing user sessions concurrent programs Monitored alert log trace files errors Performed cloning Production database TEST environment provide user live data testing purposes Managed OLTP databases RAC NonRAC having 24x7 activities handled aspects databases including administration tuning backup recovery Production Test Development environments Provided database dumps schema level dumps DEV TEST database environments Performed reorg schematables data archiving regular time intervals Planned Scheduled BackupRestoration Strategies backups database RMAN Responsible Creating Users Groups Roles Profiles assigning users groups granting necessary privileges relevant groups Used SQL Trace TKPROF Explain Plan utilities optimizing tuning SQL queries Maintained data integrity security integrity constraints database triggers Provided 24x7 support production development databases Strong skills applying security patches Patch Set Critical Patch Updates CPU Patch Set Updates PSU Oneoff Patch \\x93runInstaller\\x94 Perl based utility \\x93OPatch\\x94 Applied patches 10202 10203 10204 Highly experienced implementing Oracles Transportable Tablespace TTS feature Data Pump ExportImport Oracle 10g 11g allowing users quickly user tablespace Oracle Databases Expertise implementing data refreshes database schema table level RMAN utility Data Pump conventional ExportImport Oracle 10g 11g Performed installation configuration Oracle 10201 database HPUX platform Successfully performed migrations Oracle 9i10g 10gR2 RAC Real Application Cluster database Successfully upgraded databases 11g nonCDB Container Database 12c Successfully migrated 12c nonCDB databases Pluggable Databases PDB Created Oracle Wallets implemented tablespace level Transparent Data Encryption TDE security Constantly monitored performance Dynamic Performance V Views peak load databases viewed alert log files trace files Ran scripts check database status growing table sizes extent allocation free space space fragmentation etc Performed space management capacity planning disaster recovery overall maintenance databases Created Physical Standby databases RMAN zero downtime Performed Switchover Failover Data Guard Broker manually performed operation required Worked extensively Physical Standby database troubleshooting switchover switchback Physical Standby setup Successfully performed data replication Materialized Views Oracle Streams Oracle 10gR2 Tools Used Oracle Streams RMAN Data Pump Oracle 10201 HPUX 11i Sun Solaris 100 SQL Trace TKPROF Explain Plan Field Service Representative Technician ROCHE DIAGNOSTICS FOR ADECCO TECHNICAL Columbia MD October 2009 March 2013 Provided routine technical support Roche Diagnostics customers installation maintenance aspects molecular diagnostics system equipment robotics Performed service repair installation company products including mechanicalsystem hardware networkingwireless networking working primary technical specialist Performed hardware updates medical equipment standard specialized hand tools Performed software updates medical devices Performed electrical safety tests medical devices electrical safety analyzer Recorded test results Input manipulated data Microsoft Excel spreadsheet Tools Used Roche Diagnostics Molecular Analyzers Ampliprep LC480 TaqMan48 TaqMan96 MagNa Pure 96 MagNa Pure Compact Hamilton Star Cobas 4800 Education School Professional Graduate StudiesTechnical Courses BAKER UNIVERSITY Overland Park KS GeneralBusinessScience Courses UNIVERSITY OF ALASKA Anchorage AK Skills Please Additional Information section 6 years Oracle DBA 6 years DBA CertificationsLicenses Oracle Certified Associate Present Additional Information TECHNICAL SKILLS Oracle Databases Oracle 10g 11g 12c Database Tools Oracle Oracle Enterprise Manager SQLPlus SQL Loader DB Configuration Assistant Toad OEM Grid RMAN SQLLoader Data Pump ExpImp LogMiner StatspackAWR Shareplex Top DBCA DBUA ADDM Oracle Migration Workbench BMC Remedy Erwin Quest QDesigner Operating Systems LINUX UNIX Solaris 8 9 10 IBM AIX Windows 7 8 10 MAC OS 9 OS X Hardware Red Hat Linux 62 Dell EMC Servers HPUX 9000 Hitachi Sun Fire 15K Sun Storage 6320 Sun Enterprise Servers 890 880 420 450 Sun StorEdge 6320 Compaq Servers 6000 3000 1600 800 IBM PC Compatibles Software Microsoft Word Mail Merge Excel Power Point Outlook Exchange Other Technical Computer Skills Oracle Database 11g SQL Fundamentals I ETA International Computer Service Technician Certification A Hardware Break Fix Technician CompTIA Network Accredited Course Certificate Industry Certification Pending ETA International Wireless Network Technician Certification ETA International Fiber Optics Advanced Certification ETA International Customer Service Specialist Certification Other office electronics business industry related equipment Web Design Graphics Design'"
      ]
     },
     "execution_count": 28,
     "metadata": {},
     "output_type": "execute_result"
    }
   ],
   "source": [
    "df['Text'][5]"
   ]
  },
  {
   "cell_type": "code",
   "execution_count": null,
   "metadata": {},
   "outputs": [],
   "source": []
  },
  {
   "cell_type": "markdown",
   "metadata": {},
   "source": [
    "## Performing stemming"
   ]
  },
  {
   "cell_type": "code",
   "execution_count": 33,
   "metadata": {},
   "outputs": [],
   "source": [
    "import nltk\n",
    "from nltk.stem import PorterStemmer\n",
    "from nltk.corpus import stopwords"
   ]
  },
  {
   "cell_type": "code",
   "execution_count": 40,
   "metadata": {},
   "outputs": [],
   "source": [
    "def stemming(text):\n",
    "    sentences = nltk.sent_tokenize(text)\n",
    "    stemmer = PorterStemmer()\n",
    "    for i in range(len(sentences)):\n",
    "        words = nltk.word_tokenize(sentences[i])\n",
    "        words = [stemmer.stem(word) for word in words if word not in set(stopwords.words('english'))]\n",
    "        sentences[i] = ' '.join(words)\n",
    "    return sentences\n",
    "    "
   ]
  },
  {
   "cell_type": "code",
   "execution_count": 41,
   "metadata": {},
   "outputs": [
    {
     "ename": "KeyboardInterrupt",
     "evalue": "",
     "output_type": "error",
     "traceback": [
      "\u001b[0;31m---------------------------------------------------------------------------\u001b[0m",
      "\u001b[0;31mKeyboardInterrupt\u001b[0m                         Traceback (most recent call last)",
      "\u001b[1;32m/Users/abhaylal/Desktop/GAIP-Project/Untitled-1.ipynb Cell 35'\u001b[0m in \u001b[0;36m<cell line: 1>\u001b[0;34m()\u001b[0m\n\u001b[0;32m----> <a href='vscode-notebook-cell:/Users/abhaylal/Desktop/GAIP-Project/Untitled-1.ipynb#ch0000038?line=0'>1</a>\u001b[0m df[\u001b[39m'\u001b[39m\u001b[39mText\u001b[39m\u001b[39m'\u001b[39m] \u001b[39m=\u001b[39m df[\u001b[39m'\u001b[39;49m\u001b[39mText\u001b[39;49m\u001b[39m'\u001b[39;49m]\u001b[39m.\u001b[39;49mapply(stemming)\n",
      "File \u001b[0;32m~/opt/anaconda3/lib/python3.8/site-packages/pandas/core/series.py:4357\u001b[0m, in \u001b[0;36mSeries.apply\u001b[0;34m(self, func, convert_dtype, args, **kwargs)\u001b[0m\n\u001b[1;32m   4247\u001b[0m \u001b[39mdef\u001b[39;00m \u001b[39mapply\u001b[39m(\n\u001b[1;32m   4248\u001b[0m     \u001b[39mself\u001b[39m,\n\u001b[1;32m   4249\u001b[0m     func: AggFuncType,\n\u001b[0;32m   (...)\u001b[0m\n\u001b[1;32m   4252\u001b[0m     \u001b[39m*\u001b[39m\u001b[39m*\u001b[39mkwargs,\n\u001b[1;32m   4253\u001b[0m ) \u001b[39m-\u001b[39m\u001b[39m>\u001b[39m FrameOrSeriesUnion:\n\u001b[1;32m   4254\u001b[0m     \u001b[39m\"\"\"\u001b[39;00m\n\u001b[1;32m   4255\u001b[0m \u001b[39m    Invoke function on values of Series.\u001b[39;00m\n\u001b[1;32m   4256\u001b[0m \n\u001b[0;32m   (...)\u001b[0m\n\u001b[1;32m   4355\u001b[0m \u001b[39m    dtype: float64\u001b[39;00m\n\u001b[1;32m   4356\u001b[0m \u001b[39m    \"\"\"\u001b[39;00m\n\u001b[0;32m-> 4357\u001b[0m     \u001b[39mreturn\u001b[39;00m SeriesApply(\u001b[39mself\u001b[39;49m, func, convert_dtype, args, kwargs)\u001b[39m.\u001b[39;49mapply()\n",
      "File \u001b[0;32m~/opt/anaconda3/lib/python3.8/site-packages/pandas/core/apply.py:1043\u001b[0m, in \u001b[0;36mSeriesApply.apply\u001b[0;34m(self)\u001b[0m\n\u001b[1;32m   1039\u001b[0m \u001b[39mif\u001b[39;00m \u001b[39misinstance\u001b[39m(\u001b[39mself\u001b[39m\u001b[39m.\u001b[39mf, \u001b[39mstr\u001b[39m):\n\u001b[1;32m   1040\u001b[0m     \u001b[39m# if we are a string, try to dispatch\u001b[39;00m\n\u001b[1;32m   1041\u001b[0m     \u001b[39mreturn\u001b[39;00m \u001b[39mself\u001b[39m\u001b[39m.\u001b[39mapply_str()\n\u001b[0;32m-> 1043\u001b[0m \u001b[39mreturn\u001b[39;00m \u001b[39mself\u001b[39;49m\u001b[39m.\u001b[39;49mapply_standard()\n",
      "File \u001b[0;32m~/opt/anaconda3/lib/python3.8/site-packages/pandas/core/apply.py:1098\u001b[0m, in \u001b[0;36mSeriesApply.apply_standard\u001b[0;34m(self)\u001b[0m\n\u001b[1;32m   1092\u001b[0m         values \u001b[39m=\u001b[39m obj\u001b[39m.\u001b[39mastype(\u001b[39mobject\u001b[39m)\u001b[39m.\u001b[39m_values\n\u001b[1;32m   1093\u001b[0m         \u001b[39m# error: Argument 2 to \"map_infer\" has incompatible type\u001b[39;00m\n\u001b[1;32m   1094\u001b[0m         \u001b[39m# \"Union[Callable[..., Any], str, List[Union[Callable[..., Any], str]],\u001b[39;00m\n\u001b[1;32m   1095\u001b[0m         \u001b[39m# Dict[Hashable, Union[Union[Callable[..., Any], str],\u001b[39;00m\n\u001b[1;32m   1096\u001b[0m         \u001b[39m# List[Union[Callable[..., Any], str]]]]]\"; expected\u001b[39;00m\n\u001b[1;32m   1097\u001b[0m         \u001b[39m# \"Callable[[Any], Any]\"\u001b[39;00m\n\u001b[0;32m-> 1098\u001b[0m         mapped \u001b[39m=\u001b[39m lib\u001b[39m.\u001b[39;49mmap_infer(\n\u001b[1;32m   1099\u001b[0m             values,\n\u001b[1;32m   1100\u001b[0m             f,  \u001b[39m# type: ignore[arg-type]\u001b[39;49;00m\n\u001b[1;32m   1101\u001b[0m             convert\u001b[39m=\u001b[39;49m\u001b[39mself\u001b[39;49m\u001b[39m.\u001b[39;49mconvert_dtype,\n\u001b[1;32m   1102\u001b[0m         )\n\u001b[1;32m   1104\u001b[0m \u001b[39mif\u001b[39;00m \u001b[39mlen\u001b[39m(mapped) \u001b[39mand\u001b[39;00m \u001b[39misinstance\u001b[39m(mapped[\u001b[39m0\u001b[39m], ABCSeries):\n\u001b[1;32m   1105\u001b[0m     \u001b[39m# GH 25959 use pd.array instead of tolist\u001b[39;00m\n\u001b[1;32m   1106\u001b[0m     \u001b[39m# so extension arrays can be used\u001b[39;00m\n\u001b[1;32m   1107\u001b[0m     \u001b[39mreturn\u001b[39;00m obj\u001b[39m.\u001b[39m_constructor_expanddim(pd_array(mapped), index\u001b[39m=\u001b[39mobj\u001b[39m.\u001b[39mindex)\n",
      "File \u001b[0;32m~/opt/anaconda3/lib/python3.8/site-packages/pandas/_libs/lib.pyx:2859\u001b[0m, in \u001b[0;36mpandas._libs.lib.map_infer\u001b[0;34m()\u001b[0m\n",
      "\u001b[1;32m/Users/abhaylal/Desktop/GAIP-Project/Untitled-1.ipynb Cell 34'\u001b[0m in \u001b[0;36mstemming\u001b[0;34m(text)\u001b[0m\n\u001b[1;32m      <a href='vscode-notebook-cell:/Users/abhaylal/Desktop/GAIP-Project/Untitled-1.ipynb#ch0000037?line=3'>4</a>\u001b[0m \u001b[39mfor\u001b[39;00m i \u001b[39min\u001b[39;00m \u001b[39mrange\u001b[39m(\u001b[39mlen\u001b[39m(sentences)):\n\u001b[1;32m      <a href='vscode-notebook-cell:/Users/abhaylal/Desktop/GAIP-Project/Untitled-1.ipynb#ch0000037?line=4'>5</a>\u001b[0m     words \u001b[39m=\u001b[39m nltk\u001b[39m.\u001b[39mword_tokenize(sentences[i])\n\u001b[0;32m----> <a href='vscode-notebook-cell:/Users/abhaylal/Desktop/GAIP-Project/Untitled-1.ipynb#ch0000037?line=5'>6</a>\u001b[0m     words \u001b[39m=\u001b[39m [stemmer\u001b[39m.\u001b[39mstem(word) \u001b[39mfor\u001b[39;00m word \u001b[39min\u001b[39;00m words \u001b[39mif\u001b[39;00m word \u001b[39mnot\u001b[39;00m \u001b[39min\u001b[39;00m \u001b[39mset\u001b[39m(stopwords\u001b[39m.\u001b[39mwords(\u001b[39m'\u001b[39m\u001b[39menglish\u001b[39m\u001b[39m'\u001b[39m))]\n\u001b[1;32m      <a href='vscode-notebook-cell:/Users/abhaylal/Desktop/GAIP-Project/Untitled-1.ipynb#ch0000037?line=6'>7</a>\u001b[0m     sentences[i] \u001b[39m=\u001b[39m \u001b[39m'\u001b[39m\u001b[39m \u001b[39m\u001b[39m'\u001b[39m\u001b[39m.\u001b[39mjoin(words)\n\u001b[1;32m      <a href='vscode-notebook-cell:/Users/abhaylal/Desktop/GAIP-Project/Untitled-1.ipynb#ch0000037?line=7'>8</a>\u001b[0m \u001b[39mreturn\u001b[39;00m sentences\n",
      "\u001b[1;32m/Users/abhaylal/Desktop/GAIP-Project/Untitled-1.ipynb Cell 34'\u001b[0m in \u001b[0;36m<listcomp>\u001b[0;34m(.0)\u001b[0m\n\u001b[1;32m      <a href='vscode-notebook-cell:/Users/abhaylal/Desktop/GAIP-Project/Untitled-1.ipynb#ch0000037?line=3'>4</a>\u001b[0m \u001b[39mfor\u001b[39;00m i \u001b[39min\u001b[39;00m \u001b[39mrange\u001b[39m(\u001b[39mlen\u001b[39m(sentences)):\n\u001b[1;32m      <a href='vscode-notebook-cell:/Users/abhaylal/Desktop/GAIP-Project/Untitled-1.ipynb#ch0000037?line=4'>5</a>\u001b[0m     words \u001b[39m=\u001b[39m nltk\u001b[39m.\u001b[39mword_tokenize(sentences[i])\n\u001b[0;32m----> <a href='vscode-notebook-cell:/Users/abhaylal/Desktop/GAIP-Project/Untitled-1.ipynb#ch0000037?line=5'>6</a>\u001b[0m     words \u001b[39m=\u001b[39m [stemmer\u001b[39m.\u001b[39mstem(word) \u001b[39mfor\u001b[39;00m word \u001b[39min\u001b[39;00m words \u001b[39mif\u001b[39;00m word \u001b[39mnot\u001b[39;00m \u001b[39min\u001b[39;00m \u001b[39mset\u001b[39m(stopwords\u001b[39m.\u001b[39;49mwords(\u001b[39m'\u001b[39;49m\u001b[39menglish\u001b[39;49m\u001b[39m'\u001b[39;49m))]\n\u001b[1;32m      <a href='vscode-notebook-cell:/Users/abhaylal/Desktop/GAIP-Project/Untitled-1.ipynb#ch0000037?line=6'>7</a>\u001b[0m     sentences[i] \u001b[39m=\u001b[39m \u001b[39m'\u001b[39m\u001b[39m \u001b[39m\u001b[39m'\u001b[39m\u001b[39m.\u001b[39mjoin(words)\n\u001b[1;32m      <a href='vscode-notebook-cell:/Users/abhaylal/Desktop/GAIP-Project/Untitled-1.ipynb#ch0000037?line=7'>8</a>\u001b[0m \u001b[39mreturn\u001b[39;00m sentences\n",
      "File \u001b[0;32m~/opt/anaconda3/lib/python3.8/site-packages/nltk/corpus/reader/wordlist.py:21\u001b[0m, in \u001b[0;36mWordListCorpusReader.words\u001b[0;34m(self, fileids, ignore_lines_startswith)\u001b[0m\n\u001b[1;32m     18\u001b[0m \u001b[39mdef\u001b[39;00m \u001b[39mwords\u001b[39m(\u001b[39mself\u001b[39m, fileids\u001b[39m=\u001b[39m\u001b[39mNone\u001b[39;00m, ignore_lines_startswith\u001b[39m=\u001b[39m\u001b[39m\"\u001b[39m\u001b[39m\\n\u001b[39;00m\u001b[39m\"\u001b[39m):\n\u001b[1;32m     19\u001b[0m     \u001b[39mreturn\u001b[39;00m [\n\u001b[1;32m     20\u001b[0m         line\n\u001b[0;32m---> 21\u001b[0m         \u001b[39mfor\u001b[39;00m line \u001b[39min\u001b[39;00m line_tokenize(\u001b[39mself\u001b[39;49m\u001b[39m.\u001b[39;49mraw(fileids))\n\u001b[1;32m     22\u001b[0m         \u001b[39mif\u001b[39;00m \u001b[39mnot\u001b[39;00m line\u001b[39m.\u001b[39mstartswith(ignore_lines_startswith)\n\u001b[1;32m     23\u001b[0m     ]\n",
      "File \u001b[0;32m~/opt/anaconda3/lib/python3.8/site-packages/nltk/corpus/reader/api.py:218\u001b[0m, in \u001b[0;36mCorpusReader.raw\u001b[0;34m(self, fileids)\u001b[0m\n\u001b[1;32m    216\u001b[0m contents \u001b[39m=\u001b[39m []\n\u001b[1;32m    217\u001b[0m \u001b[39mfor\u001b[39;00m f \u001b[39min\u001b[39;00m fileids:\n\u001b[0;32m--> 218\u001b[0m     \u001b[39mwith\u001b[39;00m \u001b[39mself\u001b[39;49m\u001b[39m.\u001b[39;49mopen(f) \u001b[39mas\u001b[39;00m fp:\n\u001b[1;32m    219\u001b[0m         contents\u001b[39m.\u001b[39mappend(fp\u001b[39m.\u001b[39mread())\n\u001b[1;32m    220\u001b[0m \u001b[39mreturn\u001b[39;00m concat(contents)\n",
      "File \u001b[0;32m~/opt/anaconda3/lib/python3.8/site-packages/nltk/corpus/reader/api.py:231\u001b[0m, in \u001b[0;36mCorpusReader.open\u001b[0;34m(self, file)\u001b[0m\n\u001b[1;32m    223\u001b[0m \u001b[39m\"\"\"\u001b[39;00m\n\u001b[1;32m    224\u001b[0m \u001b[39mReturn an open stream that can be used to read the given file.\u001b[39;00m\n\u001b[1;32m    225\u001b[0m \u001b[39mIf the file's encoding is not None, then the stream will\u001b[39;00m\n\u001b[0;32m   (...)\u001b[0m\n\u001b[1;32m    228\u001b[0m \u001b[39m:param file: The file identifier of the file to read.\u001b[39;00m\n\u001b[1;32m    229\u001b[0m \u001b[39m\"\"\"\u001b[39;00m\n\u001b[1;32m    230\u001b[0m encoding \u001b[39m=\u001b[39m \u001b[39mself\u001b[39m\u001b[39m.\u001b[39mencoding(file)\n\u001b[0;32m--> 231\u001b[0m stream \u001b[39m=\u001b[39m \u001b[39mself\u001b[39;49m\u001b[39m.\u001b[39;49m_root\u001b[39m.\u001b[39;49mjoin(file)\u001b[39m.\u001b[39;49mopen(encoding)\n\u001b[1;32m    232\u001b[0m \u001b[39mreturn\u001b[39;00m stream\n",
      "File \u001b[0;32m~/opt/anaconda3/lib/python3.8/site-packages/nltk/data.py:324\u001b[0m, in \u001b[0;36mFileSystemPathPointer.open\u001b[0;34m(self, encoding)\u001b[0m\n\u001b[1;32m    323\u001b[0m \u001b[39mdef\u001b[39;00m \u001b[39mopen\u001b[39m(\u001b[39mself\u001b[39m, encoding\u001b[39m=\u001b[39m\u001b[39mNone\u001b[39;00m):\n\u001b[0;32m--> 324\u001b[0m     stream \u001b[39m=\u001b[39m \u001b[39mopen\u001b[39;49m(\u001b[39mself\u001b[39;49m\u001b[39m.\u001b[39;49m_path, \u001b[39m\"\u001b[39;49m\u001b[39mrb\u001b[39;49m\u001b[39m\"\u001b[39;49m)\n\u001b[1;32m    325\u001b[0m     \u001b[39mif\u001b[39;00m encoding \u001b[39mis\u001b[39;00m \u001b[39mnot\u001b[39;00m \u001b[39mNone\u001b[39;00m:\n\u001b[1;32m    326\u001b[0m         stream \u001b[39m=\u001b[39m SeekableUnicodeStreamReader(stream, encoding)\n",
      "\u001b[0;31mKeyboardInterrupt\u001b[0m: "
     ]
    }
   ],
   "source": [
    "df['Text'] = df['Text'].apply(stemming)"
   ]
  },
  {
   "cell_type": "code",
   "execution_count": 39,
   "metadata": {},
   "outputs": [
    {
     "data": {
      "text/plain": [
       "'Oracle Database AdministratorOracle Database AdministratorField Service Representative TechnicianPlease Additional Information section 6 yearsOracle DBA 6 yearsDBAOracle Database Administrator Oracle Database Administrator Oracle Database Administrator SUNTRUST BANK Fort Meade MD More years experience IT industry Oracle Database Administrator DBA having extensive experience production support installation configuration upgrades cloning space management database security management Oracle Software Red Hat Linux Solaris IBM AIX Windows platforms Possess high competency advanced DBA skills backup recovery performance tuning Good exposure Configuring Single Instance Oracle Real Application Clusters RAC Automatic Storage Management ASM Experience installing patching Oracle RAC ASM IBM AIX Solaris Linux platforms Expertise setting Data Guard Failover Switchover ReadOnly scenarios Fabricated multiple Clone databases traditional method Recovery Manager RMAN utility high availability configuration Good exposure Oracle DBA tasks like Installation Patching Cloning Upgrading Oracle Databases Grid Infrastructure Extensive knowledge database backup recovery strategy RMAN configuration Recovery Catalog multiple databases Performed periodic backups incremental restoration recovery database RMAN utility Exposure SQL Tuning Advisor SQL Profiles SQL Monitoring SQL Access Advisor SQL Baselines SQLTXTRACT tools utilities Installed Oracle 10g 11g RAC software ASM Oracle Cluster File System Version 2 OCFS2 RHEL HPUX Experience migration NonRAC database RAC RAC NonRAC RMAN RCONFIG DBCA Experience adding deletion Nodes RAC Experience upgrading databases 10g 11gR2 12c Work Oracle Advanced Technologies like Oracle Enterprise Manager Grid Control Oracle Streams Data Guard Real Application Clusters Implemented configured replication technology Data Guard installation configuration troubleshooting Linux UNIX Platforms Implemented different Backup Recovery strategies RMAN Complete Incomplete Recovery databases database crash diskmedia failure etc Extensively RMAN DUPLICATE cloneduplicate target database restore Tablespace PointinTime Recovery TSPITR Efficiently implemented logical backups tools like Oracle Data Pump ExportImport Classic Original ExportImport Experience applying security quarterly PSU CPU patches databases Cloning Oracle Application PROD DEV TEST UAT environment Installation configuration patching upgrading maintenance Oracle Applications Oracle Databases Experience replication Materialized Views Security User Management Privileges Roles Auditing Profiling Authentication Handson experience new Oracle FLASHBACK Technology like enabling Flashback feature configuring FLASH RECOVERY AREA FRA implementing Flashback recovery strategies like FLASHBACK Drop FLASHBACK Table FLASHBACK Query FLASHBACK Database Performance Monitoring Tuning databases tools like SQL Tuning Advisor Sales Performance Management SPM Segment Advisor STATSPACK Automatic Workload Repository AWR Active Session History ASH ADDM reports Experience working SQL Tuning tools like SQL Trace Explain Plan SQL Profiles Oracle GoldenGate knowledge Configured maintained unidirectional replication GoldenGate Creating maintaining Oracle Wallet remote authentication Good understanding System Development Life Cycle Automatic Undo Management RAID concepts advanced features Oracle 11g Expertise Tuning memory IO CPU utilization Disk usage Space utilization Upgrading Migration Oracle Database higher version platforms manual method traditional ExportImport Data Pump Transportable Tablespace TTS Experience coding SQL PLSQL packages functions stored procedures triggers Materialized Views Oracle Database Handson experience Logical backups HotCold backups Recovery cloning databases RMAN SQLBackTrack Veritas NetBackup Disk Space Management involving managing archives space allocation tablespaces capacity planning new applications Expertise configuring RMAN CatalogNocatalog worked PointInTime Recovery Flashback Plugging tablespace different platforms CrossPlatform Transportable Tablespace utility Collected performance statistics STATSPACKAWR Automatic Database Diagnostic Monitor ADDM Used TKPROF utility Explain Plan tuning SQL queries Expertise loading data flat files external tables SQLLoader Experience SQL PLSQL UNIX Shell Scripting Handson experience tuning mappings identifying resolving performance bottlenecks levels like sources targets mappings sessions Excellent analytical problem solving communication interpersonal skills Highly effective communicating engineers technicians Skilled detailed work redefining wide range operational difficulties Strength analyzing improving electronics administrative methods Committed maintaining quality efficiency Enjoy challenge providing high quality direct service clients Proven ability effectively facilitate communication management project personnel Highly inquisitive creative resourceful goal oriented enthusiastic quick learner Authorized work US employer Work Experience Oracle Database Administrator SUNTRUST BANK Tampa FL February 2015 Present 24x7 database administration support monitoring ensure proactive problem recognition resolution database issues Migration Oracle Databases Windows Linux Apply patches Oracle Databases Oracle Applications Upgrade development production databases Oracle 10g Proactive database monitoring Oracle 10g grid monitoring tool Database tuning SQL Trace STATSPACK EXPLAIN PLAN TKPROF Extensive Performance Tuning Memory SGA Tuning NetBackup EMC TimeFinder SRDF RAID RAW Devices Perform database cloning set test development databases Responsible optimizing queries application tuning Perform SQL Tuning assist developers coding PLSQL Provide support Application Database Administrators designing database Use RMAN backup recovery Perform Hot Cold Logical backups Perform backup validations RMAN Management schemas objects partitioning tables indexes Automation data load KornShell scripting SQLLoader Responsible setting managing user accounts granting required privileges users Perform DBA activities space management performance monitoring Experience Oracle Database monitoring troubleshooting resolving issues Have implemented types standby databases supported Data Guard Logical standby Physical standby databases 11gR2 twonode RAC Handson experience HotCold Backup Recovery Cloning databases RMAN Veritas NetBackup Commvault Implement Active Data Guard creating Logical Physical Standby databases 10g 11g 12c environment Production databases Configure manage Data Guard extensively Production databases sizes ranging 50GB 5TB Performance Tuning Gathering stats creating indexes tuning memory settings optimal performance Work 11gR2 12c multinode RACNonRAC environment LINUX ASM SCAN GIS Set configuration Standby Databases Active Data Guard Snapshot Standby Data Guard Broker Involvement timely database application releases Oracle Applications conjunction Development Team Application Team System Administrators Release Teams Tuning Oracle Database tuning memory IO Resource contention Database operation performance diagnostic tools TKPROF SQL Trace utility Oracle Expert Oracle SQL Analyze Frequent interaction Developers working developing applications SQL Trace Explain Plan utilities Implement partitioning huge tables improve performance reduce maintenance finite window operations Monitor databases Oracle Enterprise Manager Toad Monitoring OS Level monitor backups OASIS tool Install configure maintain Oracle Audit Vault auditing databases time Set Maintenance Oracle Advanced features like Oracle FLASHBACK Flash Recovery Area Data Guard Physical Standby Failover procedures Experience OEM 12c installation Knowledge architecture design OEM Oracle Database application monitoring Implement configure GoldenGate RAC environment Implement 11g Interval Partitioning monthly partitioning large tables Develop RMAN Backup strategies cloning test databases production environment work RMAN ActiveActive Duplication Experience logical backups EXPDPIMPDP extensively Rehosting application GoldenGate Worked conventional EXPIMP migrating data 9i 10g Schedule RMAN backups purge jobs maintenance jobs DBMSJOBS DBMSSCHEDULER Crontab Universe Design implement different backup strategies like Hot Cold RMAN Flash Recovery Area Logical Backups EXPDPIMPDP Handle Chained Rows Row Migration solve database performance issues Experience ASM adding deleting disks disk group Support development teams databaserelated issues handle critical issues like network failures ASM Disk Group errors node failures RAC cluster Generate STATSPACKAWR reports OEM 12c Oracle 11g database analyze reports Oracle Wait Events time consuming SQL Queries tablespace growth database growth Use Explain Plan Oracle Optimizer Hints creation new indexes improve performance SQL statements Involved SQL Query tuning provide tuning recommendations application jobs timeCPUconsuming queries Tools Used Oracle RMAN Oracle 11g 11202 DBMS STATS Data Pump SQL Trace TKPROF EXPLAIN PLAN Oracle Database Administrator ESTESEXPRESS Richmond VA March 2013 February 2015 Cloned migrated databases RMAN traditional Data Pump ExportImport utilities Oracle 10gR2 Implemented recovery strategies required successfully recovered databases RMAN database crashed mediadisk failed Scheduled Physical backups Hot Cold Crontab RMAN monitored scheduled jobs Performed configuration changes Autoconfig PrePatch Analysis patches document preparation pre postpatch steps Applied patches Maintenance Pack Interoperability Patch Release Update Patches RUP Family Pack Created application users user profiles responsibilities menus functions Validated created grants synonyms APPS schemas Performed JAR fileforms generation postpatch step Relinking Oracle APPS programs Performed Application Tracing user sessions concurrent programs Monitored alert log trace files errors Performed cloning Production database TEST environment provide user live data testing purposes Managed OLTP databases RAC NonRAC having 24x7 activities handled aspects databases including administration tuning backup recovery Production Test Development environments Provided database dumps schema level dumps DEV TEST database environments Performed reorg schematables data archiving regular time intervals Planned Scheduled BackupRestoration Strategies backups database RMAN Responsible Creating Users Groups Roles Profiles assigning users groups granting necessary privileges relevant groups Used SQL Trace TKPROF Explain Plan utilities optimizing tuning SQL queries Maintained data integrity security integrity constraints database triggers Provided 24x7 support production development databases Strong skills applying security patches Patch Set Critical Patch Updates CPU Patch Set Updates PSU Oneoff Patch \\x93runInstaller\\x94 Perl based utility \\x93OPatch\\x94 Applied patches 10202 10203 10204 Highly experienced implementing Oracles Transportable Tablespace TTS feature Data Pump ExportImport Oracle 10g 11g allowing users quickly user tablespace Oracle Databases Expertise implementing data refreshes database schema table level RMAN utility Data Pump conventional ExportImport Oracle 10g 11g Performed installation configuration Oracle 10201 database HPUX platform Successfully performed migrations Oracle 9i10g 10gR2 RAC Real Application Cluster database Successfully upgraded databases 11g nonCDB Container Database 12c Successfully migrated 12c nonCDB databases Pluggable Databases PDB Created Oracle Wallets implemented tablespace level Transparent Data Encryption TDE security Constantly monitored performance Dynamic Performance V Views peak load databases viewed alert log files trace files Ran scripts check database status growing table sizes extent allocation free space space fragmentation etc Performed space management capacity planning disaster recovery overall maintenance databases Created Physical Standby databases RMAN zero downtime Performed Switchover Failover Data Guard Broker manually performed operation required Worked extensively Physical Standby database troubleshooting switchover switchback Physical Standby setup Successfully performed data replication Materialized Views Oracle Streams Oracle 10gR2 Tools Used Oracle Streams RMAN Data Pump Oracle 10201 HPUX 11i Sun Solaris 100 SQL Trace TKPROF Explain Plan Field Service Representative Technician ROCHE DIAGNOSTICS FOR ADECCO TECHNICAL Columbia MD October 2009 March 2013 Provided routine technical support Roche Diagnostics customers installation maintenance aspects molecular diagnostics system equipment robotics Performed service repair installation company products including mechanicalsystem hardware networkingwireless networking working primary technical specialist Performed hardware updates medical equipment standard specialized hand tools Performed software updates medical devices Performed electrical safety tests medical devices electrical safety analyzer Recorded test results Input manipulated data Microsoft Excel spreadsheet Tools Used Roche Diagnostics Molecular Analyzers Ampliprep LC480 TaqMan48 TaqMan96 MagNa Pure 96 MagNa Pure Compact Hamilton Star Cobas 4800 Education School Professional Graduate StudiesTechnical Courses BAKER UNIVERSITY Overland Park KS GeneralBusinessScience Courses UNIVERSITY OF ALASKA Anchorage AK Skills Please Additional Information section 6 years Oracle DBA 6 years DBA CertificationsLicenses Oracle Certified Associate Present Additional Information TECHNICAL SKILLS Oracle Databases Oracle 10g 11g 12c Database Tools Oracle Oracle Enterprise Manager SQLPlus SQL Loader DB Configuration Assistant Toad OEM Grid RMAN SQLLoader Data Pump ExpImp LogMiner StatspackAWR Shareplex Top DBCA DBUA ADDM Oracle Migration Workbench BMC Remedy Erwin Quest QDesigner Operating Systems LINUX UNIX Solaris 8 9 10 IBM AIX Windows 7 8 10 MAC OS 9 OS X Hardware Red Hat Linux 62 Dell EMC Servers HPUX 9000 Hitachi Sun Fire 15K Sun Storage 6320 Sun Enterprise Servers 890 880 420 450 Sun StorEdge 6320 Compaq Servers 6000 3000 1600 800 IBM PC Compatibles Software Microsoft Word Mail Merge Excel Power Point Outlook Exchange Other Technical Computer Skills Oracle Database 11g SQL Fundamentals I ETA International Computer Service Technician Certification A Hardware Break Fix Technician CompTIA Network Accredited Course Certificate Industry Certification Pending ETA International Wireless Network Technician Certification ETA International Fiber Optics Advanced Certification ETA International Customer Service Specialist Certification Other office electronics business industry related equipment Web Design Graphics Design'"
      ]
     },
     "execution_count": 39,
     "metadata": {},
     "output_type": "execute_result"
    }
   ],
   "source": [
    "df['Text'][5]"
   ]
  },
  {
   "cell_type": "code",
   "execution_count": null,
   "metadata": {},
   "outputs": [],
   "source": []
  },
  {
   "cell_type": "markdown",
   "metadata": {},
   "source": [
    "## Saving as csv"
   ]
  },
  {
   "cell_type": "code",
   "execution_count": 30,
   "metadata": {},
   "outputs": [],
   "source": [
    "df.to_csv('res_data.csv')"
   ]
  },
  {
   "cell_type": "code",
   "execution_count": null,
   "metadata": {},
   "outputs": [],
   "source": []
  }
 ],
 "metadata": {
  "kernelspec": {
   "display_name": "Python 3.8.13 ('base')",
   "language": "python",
   "name": "python3"
  },
  "language_info": {
   "codemirror_mode": {
    "name": "ipython",
    "version": 3
   },
   "file_extension": ".py",
   "mimetype": "text/x-python",
   "name": "python",
   "nbconvert_exporter": "python",
   "pygments_lexer": "ipython3",
   "version": "3.8.13"
  },
  "orig_nbformat": 4,
  "vscode": {
   "interpreter": {
    "hash": "aeaf3890c745c8d17e116129036b09c796869c2f5a600e39f2080298dee2ecc5"
   }
  }
 },
 "nbformat": 4,
 "nbformat_minor": 2
}
